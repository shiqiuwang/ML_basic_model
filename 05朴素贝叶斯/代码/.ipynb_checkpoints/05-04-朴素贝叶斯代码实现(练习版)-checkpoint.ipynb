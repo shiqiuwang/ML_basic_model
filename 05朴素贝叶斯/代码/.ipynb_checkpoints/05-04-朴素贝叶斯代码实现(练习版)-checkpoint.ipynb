{
 "cells": [
  {
   "cell_type": "markdown",
   "metadata": {},
   "source": [
    "# 朴素贝叶斯"
   ]
  },
  {
   "cell_type": "code",
   "execution_count": null,
   "metadata": {},
   "outputs": [],
   "source": [
    "import numpy as np\n",
    "\n",
    "def loaddata():\n",
    "    X = np.array([[1,'S'],[1,'M'],[1,'M'],[1,'S'],\n",
    "         [1, 'S'], [2, 'S'], [2, 'M'], [2, 'M'],\n",
    "         [2, 'L'], [2, 'L'], [3, 'L'], [3, 'M'],\n",
    "         [3, 'M'], [3, 'L'], [3, 'L']])\n",
    "    y = np.array([-1,-1,1,1,-1,-1,-1,1,1,1,1,1,1,1,-1])\n",
    "    return X, y"
   ]
  },
  {
   "cell_type": "markdown",
   "metadata": {},
   "source": [
    "### 训练，计算各个概率值\n",
    "<img src=\"images/01.png\" width=\"400\" align=\"left\"/>"
   ]
  },
  {
   "cell_type": "code",
   "execution_count": null,
   "metadata": {},
   "outputs": [],
   "source": [
    "def Train(trainset,train_labels):\n",
    "    m = trainset.shape[0] #数据量\n",
    "    n = trainset.shape[1] #特征数\n",
    "    prior_probability = {}# 先验概率 key是类别值，value是类别的概率值\n",
    "    conditional_probability ={}# 条件概率 key的构造：类别，特征,特征值\n",
    "    #类别的可能取值\n",
    "    \n",
    "    # 计算先验概率(此时没有除以总数据量m)\n",
    "    \n",
    "\n",
    "    #计算条件概率\n",
    "    for i in range(m):\n",
    "        for j in range(n):\n",
    "            # key的构造：类别，特征,特征值\n",
    "            key = str(y[i])+','+str(j)+','+str(trainset[i][j])\n",
    "            None\n",
    "\n",
    "    conditional_probability_final = {}#因字典在循环时不能改变，故定义新字典保存值\n",
    "    for key in conditional_probability:\n",
    "        None\n",
    "\n",
    "    # 最终的先验概率(此时除以总数据量m)\n",
    "    for label in labels:\n",
    "        None\n",
    "    return prior_probability,conditional_probability_final,labels"
   ]
  },
  {
   "cell_type": "code",
   "execution_count": null,
   "metadata": {},
   "outputs": [],
   "source": [
    "X,y = loaddata()\n",
    "prior_probability,conditional_probability,train_labels_set = Train(X,y)\n",
    "\n",
    "print('prior_probability='+str(prior_probability))\n",
    "print('conditional_probability='+str(conditional_probability))"
   ]
  },
  {
   "cell_type": "code",
   "execution_count": null,
   "metadata": {},
   "outputs": [],
   "source": [
    "def predict(data):\n",
    "    result={}\n",
    "    for label in train_labels_set:\n",
    "        temp=1.0\n",
    "        for j in range(len(data)):\n",
    "            key = str(label)+','+str(j)+','+str(data[j])\n",
    "            #条件概率连乘\n",
    "            None\n",
    "        #再乘上先验概率\n",
    "        None\n",
    "    print('result=',result)\n",
    "    #排序返回标签值\n",
    "    return sorted(result.items(), key=lambda x: x[1],reverse=True)[0][0]\n"
   ]
  },
  {
   "cell_type": "code",
   "execution_count": null,
   "metadata": {},
   "outputs": [],
   "source": [
    "y_hat = predict([2,'S'])\n",
    "print('y_hat=',y_hat)"
   ]
  },
  {
   "cell_type": "code",
   "execution_count": null,
   "metadata": {},
   "outputs": [],
   "source": []
  }
 ],
 "metadata": {
  "kernelspec": {
   "display_name": "Python 3",
   "language": "python",
   "name": "python3"
  },
  "language_info": {
   "codemirror_mode": {
    "name": "ipython",
    "version": 3
   },
   "file_extension": ".py",
   "mimetype": "text/x-python",
   "name": "python",
   "nbconvert_exporter": "python",
   "pygments_lexer": "ipython3",
   "version": "3.6.5"
  }
 },
 "nbformat": 4,
 "nbformat_minor": 2
}
