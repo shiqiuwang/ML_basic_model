{
 "cells": [
  {
   "cell_type": "markdown",
   "metadata": {},
   "source": [
    "# 案例描述：信用卡反欺诈模型\n",
    "\n",
    "本案例基于用户的信用卡及消费贷款交易数据建立了信用卡反欺诈模型。我们知道，在信用卡的申请时，大部分人所提供的信息是真实有效的，仅有少部分人伪造个人信息企图蒙混过关，故本案例的主要目标为识别数据中的虚假信息。"
   ]
  },
  {
   "cell_type": "markdown",
   "metadata": {},
   "source": [
    "# 目录\n",
    "1.[数据准备](#1)<br>\n",
    "2.[数据采样](#2)<br>\n",
    "&emsp;&emsp;2.1 [按照被解释变量进行分层超额抽样](#2.1)<br> \n",
    "&emsp;&emsp;2.2 [过采样平衡样本](#2.2)<br> \n",
    "3.[建模与调参](#3)<br>\n",
    "&emsp;&emsp;3.1 [建立预测模型](#3.1)<br> \n",
    "&emsp;&emsp;3.1 [寻找最优参数](#3.1)<br> \n",
    "4.[总结](#4)<br>"
   ]
  },
  {
   "cell_type": "code",
   "execution_count": 2,
   "metadata": {},
   "outputs": [],
   "source": [
    "import pandas as pd\n",
    "import matplotlib.pyplot as plt\n",
    "import numpy as np"
   ]
  },
  {
   "cell_type": "code",
   "execution_count": 3,
   "metadata": {},
   "outputs": [
    {
     "data": {
      "text/plain": [
       "(284807, 31)"
      ]
     },
     "execution_count": 3,
     "metadata": {},
     "output_type": "execute_result"
    }
   ],
   "source": [
    "data = pd.read_csv('data/creditcard.csv')\n",
    "data.shape"
   ]
  },
  {
   "cell_type": "code",
   "execution_count": 4,
   "metadata": {},
   "outputs": [
    {
     "data": {
      "text/html": [
       "<div>\n",
       "<style scoped>\n",
       "    .dataframe tbody tr th:only-of-type {\n",
       "        vertical-align: middle;\n",
       "    }\n",
       "\n",
       "    .dataframe tbody tr th {\n",
       "        vertical-align: top;\n",
       "    }\n",
       "\n",
       "    .dataframe thead th {\n",
       "        text-align: right;\n",
       "    }\n",
       "</style>\n",
       "<table border=\"1\" class=\"dataframe\">\n",
       "  <thead>\n",
       "    <tr style=\"text-align: right;\">\n",
       "      <th></th>\n",
       "      <th>Time</th>\n",
       "      <th>V1</th>\n",
       "      <th>V2</th>\n",
       "      <th>V3</th>\n",
       "      <th>V4</th>\n",
       "      <th>V5</th>\n",
       "      <th>V6</th>\n",
       "      <th>V7</th>\n",
       "      <th>V8</th>\n",
       "      <th>V9</th>\n",
       "      <th>...</th>\n",
       "      <th>V21</th>\n",
       "      <th>V22</th>\n",
       "      <th>V23</th>\n",
       "      <th>V24</th>\n",
       "      <th>V25</th>\n",
       "      <th>V26</th>\n",
       "      <th>V27</th>\n",
       "      <th>V28</th>\n",
       "      <th>Amount</th>\n",
       "      <th>Class</th>\n",
       "    </tr>\n",
       "  </thead>\n",
       "  <tbody>\n",
       "    <tr>\n",
       "      <th>0</th>\n",
       "      <td>0.0</td>\n",
       "      <td>-1.359807</td>\n",
       "      <td>-0.072781</td>\n",
       "      <td>2.536347</td>\n",
       "      <td>1.378155</td>\n",
       "      <td>-0.338321</td>\n",
       "      <td>0.462388</td>\n",
       "      <td>0.239599</td>\n",
       "      <td>0.098698</td>\n",
       "      <td>0.363787</td>\n",
       "      <td>...</td>\n",
       "      <td>-0.018307</td>\n",
       "      <td>0.277838</td>\n",
       "      <td>-0.110474</td>\n",
       "      <td>0.066928</td>\n",
       "      <td>0.128539</td>\n",
       "      <td>-0.189115</td>\n",
       "      <td>0.133558</td>\n",
       "      <td>-0.021053</td>\n",
       "      <td>149.62</td>\n",
       "      <td>0</td>\n",
       "    </tr>\n",
       "    <tr>\n",
       "      <th>1</th>\n",
       "      <td>0.0</td>\n",
       "      <td>1.191857</td>\n",
       "      <td>0.266151</td>\n",
       "      <td>0.166480</td>\n",
       "      <td>0.448154</td>\n",
       "      <td>0.060018</td>\n",
       "      <td>-0.082361</td>\n",
       "      <td>-0.078803</td>\n",
       "      <td>0.085102</td>\n",
       "      <td>-0.255425</td>\n",
       "      <td>...</td>\n",
       "      <td>-0.225775</td>\n",
       "      <td>-0.638672</td>\n",
       "      <td>0.101288</td>\n",
       "      <td>-0.339846</td>\n",
       "      <td>0.167170</td>\n",
       "      <td>0.125895</td>\n",
       "      <td>-0.008983</td>\n",
       "      <td>0.014724</td>\n",
       "      <td>2.69</td>\n",
       "      <td>0</td>\n",
       "    </tr>\n",
       "    <tr>\n",
       "      <th>2</th>\n",
       "      <td>1.0</td>\n",
       "      <td>-1.358354</td>\n",
       "      <td>-1.340163</td>\n",
       "      <td>1.773209</td>\n",
       "      <td>0.379780</td>\n",
       "      <td>-0.503198</td>\n",
       "      <td>1.800499</td>\n",
       "      <td>0.791461</td>\n",
       "      <td>0.247676</td>\n",
       "      <td>-1.514654</td>\n",
       "      <td>...</td>\n",
       "      <td>0.247998</td>\n",
       "      <td>0.771679</td>\n",
       "      <td>0.909412</td>\n",
       "      <td>-0.689281</td>\n",
       "      <td>-0.327642</td>\n",
       "      <td>-0.139097</td>\n",
       "      <td>-0.055353</td>\n",
       "      <td>-0.059752</td>\n",
       "      <td>378.66</td>\n",
       "      <td>0</td>\n",
       "    </tr>\n",
       "    <tr>\n",
       "      <th>3</th>\n",
       "      <td>1.0</td>\n",
       "      <td>-0.966272</td>\n",
       "      <td>-0.185226</td>\n",
       "      <td>1.792993</td>\n",
       "      <td>-0.863291</td>\n",
       "      <td>-0.010309</td>\n",
       "      <td>1.247203</td>\n",
       "      <td>0.237609</td>\n",
       "      <td>0.377436</td>\n",
       "      <td>-1.387024</td>\n",
       "      <td>...</td>\n",
       "      <td>-0.108300</td>\n",
       "      <td>0.005274</td>\n",
       "      <td>-0.190321</td>\n",
       "      <td>-1.175575</td>\n",
       "      <td>0.647376</td>\n",
       "      <td>-0.221929</td>\n",
       "      <td>0.062723</td>\n",
       "      <td>0.061458</td>\n",
       "      <td>123.50</td>\n",
       "      <td>0</td>\n",
       "    </tr>\n",
       "    <tr>\n",
       "      <th>4</th>\n",
       "      <td>2.0</td>\n",
       "      <td>-1.158233</td>\n",
       "      <td>0.877737</td>\n",
       "      <td>1.548718</td>\n",
       "      <td>0.403034</td>\n",
       "      <td>-0.407193</td>\n",
       "      <td>0.095921</td>\n",
       "      <td>0.592941</td>\n",
       "      <td>-0.270533</td>\n",
       "      <td>0.817739</td>\n",
       "      <td>...</td>\n",
       "      <td>-0.009431</td>\n",
       "      <td>0.798278</td>\n",
       "      <td>-0.137458</td>\n",
       "      <td>0.141267</td>\n",
       "      <td>-0.206010</td>\n",
       "      <td>0.502292</td>\n",
       "      <td>0.219422</td>\n",
       "      <td>0.215153</td>\n",
       "      <td>69.99</td>\n",
       "      <td>0</td>\n",
       "    </tr>\n",
       "  </tbody>\n",
       "</table>\n",
       "<p>5 rows × 31 columns</p>\n",
       "</div>"
      ],
      "text/plain": [
       "   Time        V1        V2        V3        V4        V5        V6        V7  \\\n",
       "0   0.0 -1.359807 -0.072781  2.536347  1.378155 -0.338321  0.462388  0.239599   \n",
       "1   0.0  1.191857  0.266151  0.166480  0.448154  0.060018 -0.082361 -0.078803   \n",
       "2   1.0 -1.358354 -1.340163  1.773209  0.379780 -0.503198  1.800499  0.791461   \n",
       "3   1.0 -0.966272 -0.185226  1.792993 -0.863291 -0.010309  1.247203  0.237609   \n",
       "4   2.0 -1.158233  0.877737  1.548718  0.403034 -0.407193  0.095921  0.592941   \n",
       "\n",
       "         V8        V9  ...         V21       V22       V23       V24  \\\n",
       "0  0.098698  0.363787  ...   -0.018307  0.277838 -0.110474  0.066928   \n",
       "1  0.085102 -0.255425  ...   -0.225775 -0.638672  0.101288 -0.339846   \n",
       "2  0.247676 -1.514654  ...    0.247998  0.771679  0.909412 -0.689281   \n",
       "3  0.377436 -1.387024  ...   -0.108300  0.005274 -0.190321 -1.175575   \n",
       "4 -0.270533  0.817739  ...   -0.009431  0.798278 -0.137458  0.141267   \n",
       "\n",
       "        V25       V26       V27       V28  Amount  Class  \n",
       "0  0.128539 -0.189115  0.133558 -0.021053  149.62      0  \n",
       "1  0.167170  0.125895 -0.008983  0.014724    2.69      0  \n",
       "2 -0.327642 -0.139097 -0.055353 -0.059752  378.66      0  \n",
       "3  0.647376 -0.221929  0.062723  0.061458  123.50      0  \n",
       "4 -0.206010  0.502292  0.219422  0.215153   69.99      0  \n",
       "\n",
       "[5 rows x 31 columns]"
      ]
     },
     "execution_count": 4,
     "metadata": {},
     "output_type": "execute_result"
    }
   ],
   "source": [
    "data.head()"
   ]
  },
  {
   "cell_type": "code",
   "execution_count": 5,
   "metadata": {},
   "outputs": [
    {
     "data": {
      "text/plain": [
       "0    284315\n",
       "1       492\n",
       "Name: Class, dtype: int64"
      ]
     },
     "execution_count": 5,
     "metadata": {},
     "output_type": "execute_result"
    }
   ],
   "source": [
    "data['Class'].value_counts()"
   ]
  },
  {
   "cell_type": "markdown",
   "metadata": {},
   "source": [
    "v1到v28是数据的特征，总共28个，标签值为`Class`,下边我们进行分析。"
   ]
  },
  {
   "cell_type": "markdown",
   "metadata": {},
   "source": [
    "首先，我们通过条形图的形式，查看数据中两种样本类别的数量情况。"
   ]
  },
  {
   "cell_type": "code",
   "execution_count": 6,
   "metadata": {},
   "outputs": [
    {
     "data": {
      "image/png": "[encoded data removed]",
      "text/plain": [
       "<Figure size 504x360 with 1 Axes>"
      ]
     },
     "metadata": {},
     "output_type": "display_data"
    }
   ],
   "source": [
    "plt.subplots(figsize = (7,5))\n",
    "count_classes = pd.value_counts(data['Class'], sort = True).sort_index()\n",
    "count_classes.plot(kind = 'bar')\n",
    "plt.title(\"Fraud class histogram\", fontsize = 13)\n",
    "plt.xlabel(\"Class\", fontsize = 13)\n",
    "plt.xticks(rotation=0)\n",
    "plt.ylabel(\"Frequency\", fontsize = 15)\n",
    "plt.show()"
   ]
  },
  {
   "cell_type": "code",
   "execution_count": 7,
   "metadata": {},
   "outputs": [
    {
     "data": {
      "text/plain": [
       "0    284315\n",
       "1       492\n",
       "Name: Class, dtype: int64"
      ]
     },
     "execution_count": 7,
     "metadata": {},
     "output_type": "execute_result"
    }
   ],
   "source": [
    "data['Class'].value_counts()"
   ]
  },
  {
   "cell_type": "code",
   "execution_count": 8,
   "metadata": {},
   "outputs": [
    {
     "data": {
      "text/plain": [
       "0.001727485630620034"
      ]
     },
     "execution_count": 8,
     "metadata": {},
     "output_type": "execute_result"
    }
   ],
   "source": [
    "492/(284315+492)"
   ]
  },
  {
   "cell_type": "markdown",
   "metadata": {},
   "source": [
    "从图中可以看出，绝大部分样本的类别为“0”，即信用数据可信，仅有极少数的样本类别为“1”，即存在欺诈的情况。 并且数据是极度有偏的。"
   ]
  },
  {
   "cell_type": "code",
   "execution_count": 7,
   "metadata": {},
   "outputs": [],
   "source": [
    "#####X_train = data.iloc[:, 1:-2]"
   ]
  },
  {
   "cell_type": "markdown",
   "metadata": {},
   "source": [
    "<div id=\"2\"></div>\n",
    "# 2. 数据采样"
   ]
  },
  {
   "cell_type": "code",
   "execution_count": 8,
   "metadata": {},
   "outputs": [],
   "source": [
    "data = data.drop(['Time'],axis = 1)"
   ]
  },
  {
   "cell_type": "markdown",
   "metadata": {},
   "source": [
    "## <a id=2.1></a>2.1 按照被解释变量进行分层超额抽样\n",
    "这里我们使用sklearn.model_selection中的`StratifiedShuffleSplit`做训练集和测试集的划分，该方法先将数据集打乱，之后根据参数设置划分出train/test对，同时可以保证每组划分中类别比例相同。"
   ]
  },
  {
   "cell_type": "code",
   "execution_count": 9,
   "metadata": {},
   "outputs": [],
   "source": [
    "#划分训练集和测试集\n",
    "from sklearn.model_selection import StratifiedShuffleSplit\n",
    "X = np.array(data.loc[:,:\"V28\"])\n",
    "y = np.array(data[\"Class\"])\n",
    "sess = StratifiedShuffleSplit(n_splits = 5,test_size = 0.4,random_state = 0)"
   ]
  },
  {
   "cell_type": "code",
   "execution_count": 10,
   "metadata": {},
   "outputs": [],
   "source": [
    "for train_index,test_index in sess.split(X, y):\n",
    "    X_train, X_test = X[train_index], X[test_index]\n",
    "    y_train, y_test = y[train_index], y[test_index]"
   ]
  },
  {
   "cell_type": "code",
   "execution_count": 11,
   "metadata": {},
   "outputs": [
    {
     "name": "stdout",
     "output_type": "stream",
     "text": [
      "train_size: 170884 test_size: 113923\n"
     ]
    }
   ],
   "source": [
    "print('train_size: %s' %len(y_train),\n",
    "     'test_size: %s' % len(y_test))"
   ]
  },
  {
   "cell_type": "code",
   "execution_count": 12,
   "metadata": {},
   "outputs": [
    {
     "data": {
      "image/png": "[encoded data removed]",
      "text/plain": [
       "<Figure size 504x360 with 1 Axes>"
      ]
     },
     "metadata": {},
     "output_type": "display_data"
    }
   ],
   "source": [
    "plt.figure(figsize = (7,5))\n",
    "count_classes = pd.value_counts(y_train, sort = True)\n",
    "count_classes.plot(kind = 'bar')\n",
    "plt.title(\"The histogram of fraud class in trainingdata \", fontsize = 13)\n",
    "plt.xlabel(\"Class\", fontsize = 13)\n",
    "plt.ylabel(\"Frequency\", fontsize = 15)\n",
    "plt.xticks(rotation=0)\n",
    "plt.show()"
   ]
  },
  {
   "cell_type": "markdown",
   "metadata": {},
   "source": [
    "从训练集的两种类别的直方图来看，“0”类数据远多于“1”类数据，数据存在不平衡现象，在建模之前需要进行处理。"
   ]
  },
  {
   "cell_type": "markdown",
   "metadata": {},
   "source": [
    "## <a id=2.2></a>2.2 过采样平衡样本\n",
    "这里我们将对“0”类数据进行过采样来保证数据平衡，采用的方法为：随机过采样、SMOTE过采样和综合过采样。"
   ]
  },
  {
   "cell_type": "code",
   "execution_count": 13,
   "metadata": {},
   "outputs": [
    {
     "name": "stderr",
     "output_type": "stream",
     "text": [
      "C:\\ProgramData\\Anaconda3\\lib\\site-packages\\h5py\\__init__.py:36: FutureWarning: Conversion of the second argument of issubdtype from `float` to `np.floating` is deprecated. In future, it will be treated as `np.float64 == np.dtype(float).type`.\n",
      "  from ._conv import register_converters as _register_converters\n",
      "Using TensorFlow backend.\n"
     ]
    }
   ],
   "source": [
    "from imblearn.over_sampling import RandomOverSampler, SMOTE\n",
    "from imblearn.combine import SMOTETomek\n",
    "\n",
    "ros = RandomOverSampler(random_state = 0, ratio = 'auto') # 随机过采样\n",
    "sos = SMOTE(random_state = 0)      # SMOTE过采样\n",
    "kos = SMOTETomek(random_state = 0)  # 综合采样\n",
    "\n",
    "X_ros, y_ros = ros.fit_sample(X_train, y_train)\n",
    "X_sos, y_sos = sos.fit_sample(X_train, y_train)\n",
    "X_kos, y_kos = kos.fit_sample(X_train, y_train)"
   ]
  },
  {
   "cell_type": "code",
   "execution_count": 14,
   "metadata": {},
   "outputs": [
    {
     "name": "stdout",
     "output_type": "stream",
     "text": [
      "ros: 341178, sos:341178, kos:341178\n"
     ]
    }
   ],
   "source": [
    "print('ros: %s, sos:%s, kos:%s' %(len(y_ros), len(y_sos), len(y_kos)))"
   ]
  },
  {
   "cell_type": "code",
   "execution_count": 15,
   "metadata": {},
   "outputs": [
    {
     "data": {
      "text/plain": [
       "(170589, 170589, 170589)"
      ]
     },
     "execution_count": 15,
     "metadata": {},
     "output_type": "execute_result"
    }
   ],
   "source": [
    "y_ros.sum(), y_sos.sum(), y_kos.sum()"
   ]
  },
  {
   "cell_type": "code",
   "execution_count": 16,
   "metadata": {},
   "outputs": [
    {
     "data": {
      "text/plain": [
       "1    170589\n",
       "0    170589\n",
       "Name: 0, dtype: int64"
      ]
     },
     "execution_count": 16,
     "metadata": {},
     "output_type": "execute_result"
    }
   ],
   "source": [
    "a = pd.DataFrame(y_kos)\n",
    "a[0].value_counts()"
   ]
  },
  {
   "cell_type": "markdown",
   "metadata": {},
   "source": [
    "<div id=\"3\"></div>\n",
    "# 3. 建模与调参"
   ]
  },
  {
   "cell_type": "markdown",
   "metadata": {},
   "source": [
    "过采样后，两类样本均衡，下面将对直接划分的训练集和三种过采样方法得到的数据集建立决策树模型进行预测，选择预测效果好的数据集进行后续建模。"
   ]
  },
  {
   "cell_type": "code",
   "execution_count": 17,
   "metadata": {},
   "outputs": [],
   "source": [
    "from sklearn.tree import DecisionTreeClassifier\n",
    "from sklearn.model_selection import GridSearchCV\n",
    "from sklearn.metrics import (confusion_matrix, precision_recall_curve, auc,roc_auc_score,precision_score,roc_curve, recall_score, classification_report, f1_score,precision_recall_fscore_support)"
   ]
  },
  {
   "cell_type": "code",
   "execution_count": 18,
   "metadata": {},
   "outputs": [],
   "source": [
    "clf = DecisionTreeClassifier(criterion = 'gini', random_state = 1234)\n",
    "param_grid = {'max_depth':[3, 4, 5, 6], 'max_leaf_nodes':[4, 6, 8, 10, 12]}\n",
    "cv = GridSearchCV(clf, param_grid = param_grid, scoring = 'f1')"
   ]
  },
  {
   "cell_type": "code",
   "execution_count": 19,
   "metadata": {},
   "outputs": [
    {
     "name": "stderr",
     "output_type": "stream",
     "text": [
      "C:\\ProgramData\\Anaconda3\\lib\\site-packages\\sklearn\\model_selection\\_split.py:1978: FutureWarning: The default value of cv will change from 3 to 5 in version 0.22. Specify it explicitly to silence this warning.\n",
      "  warnings.warn(CV_WARNING, FutureWarning)\n"
     ]
    },
    {
     "name": "stdout",
     "output_type": "stream",
     "text": [
      "auc:0.898 recall:0.797 precision:0.924\n"
     ]
    },
    {
     "name": "stderr",
     "output_type": "stream",
     "text": [
      "C:\\ProgramData\\Anaconda3\\lib\\site-packages\\sklearn\\model_selection\\_split.py:1978: FutureWarning: The default value of cv will change from 3 to 5 in version 0.22. Specify it explicitly to silence this warning.\n",
      "  warnings.warn(CV_WARNING, FutureWarning)\n"
     ]
    },
    {
     "name": "stdout",
     "output_type": "stream",
     "text": [
      "auc:0.930 recall:0.888 precision:0.052\n"
     ]
    },
    {
     "name": "stderr",
     "output_type": "stream",
     "text": [
      "C:\\ProgramData\\Anaconda3\\lib\\site-packages\\sklearn\\model_selection\\_split.py:1978: FutureWarning: The default value of cv will change from 3 to 5 in version 0.22. Specify it explicitly to silence this warning.\n",
      "  warnings.warn(CV_WARNING, FutureWarning)\n"
     ]
    },
    {
     "name": "stdout",
     "output_type": "stream",
     "text": [
      "auc:0.927 recall:0.893 precision:0.038\n"
     ]
    },
    {
     "name": "stderr",
     "output_type": "stream",
     "text": [
      "C:\\ProgramData\\Anaconda3\\lib\\site-packages\\sklearn\\model_selection\\_split.py:1978: FutureWarning: The default value of cv will change from 3 to 5 in version 0.22. Specify it explicitly to silence this warning.\n",
      "  warnings.warn(CV_WARNING, FutureWarning)\n"
     ]
    },
    {
     "name": "stdout",
     "output_type": "stream",
     "text": [
      "auc:0.927 recall:0.893 precision:0.038\n"
     ]
    }
   ],
   "source": [
    "data = [[X_train, y_train],\n",
    "        [X_ros, y_ros],\n",
    "        [X_sos, y_sos],\n",
    "        [X_kos, y_kos]]\n",
    "\n",
    "for features, labels in data:\n",
    "    cv.fit(features, labels)\n",
    "    predict_test = cv.predict(X_test)\n",
    "    \n",
    "    print('auc:%.3f' %roc_auc_score(y_test, predict_test), \n",
    "          'recall:%.3f' %recall_score(y_test, predict_test),\n",
    "          'precision:%.3f' %precision_score(y_test, predict_test))"
   ]
  },
  {
   "cell_type": "markdown",
   "metadata": {},
   "source": [
    "从直接划分的训练集和三种采样方法得到的数据集的决策树建模结果来看，随机过采样的数据集得到的auc值最高，下面则用该组数据集进行建模训练。"
   ]
  },
  {
   "cell_type": "markdown",
   "metadata": {},
   "source": [
    "## <a id=3.1></a>3.1 建立预测模型\n",
    "下面将借助sklearn分别建立逻辑回归、随机森林和GBDT模型。"
   ]
  },
  {
   "cell_type": "code",
   "execution_count": 20,
   "metadata": {},
   "outputs": [],
   "source": [
    "train_data = X_ros\n",
    "train_target = y_ros\n",
    "test_target = y_test\n",
    "test_data = X_test"
   ]
  },
  {
   "cell_type": "code",
   "execution_count": 21,
   "metadata": {},
   "outputs": [
    {
     "name": "stderr",
     "output_type": "stream",
     "text": [
      "C:\\ProgramData\\Anaconda3\\lib\\site-packages\\sklearn\\linear_model\\logistic.py:432: FutureWarning: Default solver will be changed to 'lbfgs' in 0.22. Specify a solver to silence this warning.\n",
      "  FutureWarning)\n"
     ]
    },
    {
     "name": "stdout",
     "output_type": "stream",
     "text": [
      "Logistic Regression accuracy:\n",
      "              precision    recall  f1-score   support\n",
      "\n",
      "           0       1.00      0.98      0.99    113726\n",
      "           1       0.06      0.91      0.11       197\n",
      "\n",
      "    accuracy                           0.98    113923\n",
      "   macro avg       0.53      0.94      0.55    113923\n",
      "weighted avg       1.00      0.98      0.99    113923\n",
      "\n",
      "Logistic Regression AUC: 0.9422\n"
     ]
    }
   ],
   "source": [
    "#逻辑回归\n",
    "from sklearn.linear_model import LogisticRegression\n",
    "lr = LogisticRegression(C = 1, penalty = 'l1')\n",
    "lr.fit(train_data,train_target)\n",
    "test_est = lr.predict(test_data)\n",
    "print(\"Logistic Regression accuracy:\")\n",
    "print(classification_report(test_target,test_est))\n",
    "fpr_test, tpr_test, th_test = roc_curve(test_target, test_est)\n",
    "print('Logistic Regression AUC: %.4f' %auc(fpr_test, tpr_test))"
   ]
  },
  {
   "cell_type": "code",
   "execution_count": 22,
   "metadata": {},
   "outputs": [
    {
     "name": "stdout",
     "output_type": "stream",
     "text": [
      "Random Forest accuracy:\n",
      "              precision    recall  f1-score   support\n",
      "\n",
      "           0       1.00      1.00      1.00    113726\n",
      "           1       0.63      0.83      0.71       197\n",
      "\n",
      "    accuracy                           1.00    113923\n",
      "   macro avg       0.81      0.91      0.86    113923\n",
      "weighted avg       1.00      1.00      1.00    113923\n",
      "\n",
      "Random Forest AUC: 0.9133\n"
     ]
    }
   ],
   "source": [
    "#随机森林\n",
    "import sklearn.tree as tree\n",
    "import sklearn.ensemble as ensemble\n",
    "rf = ensemble.RandomForestClassifier(criterion = 'entropy',max_depth = 10,n_estimators = 15,\n",
    "                                   max_features = 0.6,min_samples_split = 50)\n",
    "rf.fit(train_data, train_target)\n",
    "test_est = rf.predict(test_data)\n",
    "print(\"Random Forest accuracy:\")\n",
    "print(classification_report(test_target,test_est))\n",
    "fpr_test, tpr_test, th_test = roc_curve(test_target, test_est)\n",
    "print('Random Forest AUC: %.4f' %auc(fpr_test, tpr_test))"
   ]
  },
  {
   "cell_type": "code",
   "execution_count": 23,
   "metadata": {},
   "outputs": [
    {
     "name": "stdout",
     "output_type": "stream",
     "text": [
      "GradientBoosting accuracy:\n",
      "              precision    recall  f1-score   support\n",
      "\n",
      "           0       1.00      0.99      0.99    113726\n",
      "           1       0.12      0.90      0.22       197\n",
      "\n",
      "    accuracy                           0.99    113923\n",
      "   macro avg       0.56      0.95      0.61    113923\n",
      "weighted avg       1.00      0.99      0.99    113923\n",
      "\n",
      "GradientBoosting AUC : 0.9463\n"
     ]
    }
   ],
   "source": [
    "#GBDT\n",
    "gb = ensemble.GradientBoostingClassifier(loss = 'exponential',learning_rate = 0.2,n_estimators = 40,\n",
    "                                       max_depth = 3,min_samples_split = 30)\n",
    "gb.fit(train_data, train_target)\n",
    "test_est = gb.predict(test_data)\n",
    "print(\"GradientBoosting accuracy:\")\n",
    "print(classification_report(test_target,test_est))\n",
    "fpr_test, tpr_test, th_test = roc_curve(test_target, test_est)\n",
    "print('GradientBoosting AUC : %.4f' %auc(fpr_test, tpr_test))"
   ]
  },
  {
   "cell_type": "markdown",
   "metadata": {},
   "source": [
    "从三种模型的建模结果来看，逻辑回归的f1值为0.97，auc值约为0.96；随机森林的f1值为0.99，auc值约为0.94；GBDT的f1值为0.98，auc的值约为0.97 。三种模型的效果差距不大，但从auc的角度来看，GBDT的效果更好。"
   ]
  },
  {
   "cell_type": "markdown",
   "metadata": {},
   "source": [
    "## <a id=3.2></a>3.2 寻找最优参数\n",
    "由于树模型的参数较多，参数的选择对模型效果起着重要作用。下面将在上述模型的基础上借助`GridSearchCV`对参数取值进行网格搜索，选出模型auc值最大的那组参数。注意到，各个参数的设置范围可能较大，我们不可能将参数的所有取值遍历到，只能在某些范围内选取某些值进行搜索，因此得到的最优参数可能并不是模型真正的最优参数。"
   ]
  },
  {
   "cell_type": "code",
   "execution_count": null,
   "metadata": {},
   "outputs": [],
   "source": [
    "#随机森林\n",
    "param_grid = {\n",
    "    'criterion':['entropy','gini'],\n",
    "    'max_depth':[8,10,12],\n",
    "    'n_estimators':[11,13,15],  \n",
    "    'max_features':[0.3,0.4,0.5], \n",
    "    'min_samples_split':[4,8,12] \n",
    "}\n",
    "\n",
    "rfc = ensemble.RandomForestClassifier()\n",
    "rfccv = GridSearchCV(estimator = rfc, param_grid = param_grid, scoring = 'roc_auc', cv = 4)\n",
    "rfccv.fit(train_data, train_target)\n",
    "test_est = rfccv.predict(test_data)\n",
    "print(\"Random Forest accuracy:\")\n",
    "print(classification_report(test_target,test_est))\n",
    "fpr_test, tpr_test, th_test = roc_curve(test_target, test_est)\n",
    "print('Random Forest AUC: %.4f' %auc(fpr_test, tpr_test))"
   ]
  },
  {
   "cell_type": "code",
   "execution_count": null,
   "metadata": {},
   "outputs": [],
   "source": [
    "rfccv.best_params_"
   ]
  },
  {
   "cell_type": "markdown",
   "metadata": {},
   "source": [
    "从随机森林的参数搜索结果来看，当设定树的特征选择准则为信息增益，节点划分的最小样本数为4时，建立包含15棵最大深度为12的随机森林，效果在局部达到最好。此时的auc值约为0.93 ，比未进行参数搜索的随机森林模型的auc值小一些，这主要是由于节点划分的最小样本数减小造成的。由此可以发现，网格搜索中，参数的范围设定对搜索结果起着重要作用，并且在搜索时仅能搭建出局部最优模型，而非全局最优模型。"
   ]
  },
  {
   "cell_type": "code",
   "execution_count": null,
   "metadata": {},
   "outputs": [],
   "source": [
    "#GBDT\n",
    "param_grid = {\n",
    "    'learning_rate':[0.1,0.3,0.5],\n",
    "    'n_estimators':[15,20,30], \n",
    "    'max_depth':[1,2,3],  \n",
    "    'min_samples_split':[12,16,20] \n",
    "}\n",
    "\n",
    "gbc = ensemble.GradientBoostingClassifier()\n",
    "gbccv = GridSearchCV(estimator = gbc, param_grid = param_grid, scoring = 'roc_auc', cv = 4)\n",
    "gbccv.fit(train_data, train_target)\n",
    "test_est = gbccv.predict(test_data)\n",
    "print(\"Gradient Boosting accuracy:\")\n",
    "print(classification_report(test_target,test_est))\n",
    "fpr_test, tpr_test, th_test = roc_curve(test_target, test_est)\n",
    "print('Gradient Boosting AUC : %.4f' %auc(fpr_test, tpr_test))"
   ]
  },
  {
   "cell_type": "code",
   "execution_count": null,
   "metadata": {},
   "outputs": [],
   "source": [
    "gbccv.best_params_"
   ]
  },
  {
   "cell_type": "markdown",
   "metadata": {},
   "source": [
    "从GBDT的搜索结果来看，当学习率为0.5，节点划分的最小样本数为16时，建立包含30棵最大深度为3的提升树模型时，auc值最高，约为0.97，效果较好。"
   ]
  },
  {
   "cell_type": "markdown",
   "metadata": {},
   "source": [
    "<div id=\"4\"></div>\n",
    "# 4.总结"
   ]
  },
  {
   "cell_type": "markdown",
   "metadata": {},
   "source": [
    "本案例从信用数据出发，主要通过过采样平衡样本、分类预测等技术建立了一套信用卡反欺诈模型。由于正常值与异常值的数据比例差距较大，本案例分别使用了随机过采样、SMOTE过采样和综合过采样三种采样方法，通过决策树模型选择出最优的采样数据作为训练集。最后对训练数据分别使用随机森林和GBDT模型进行分类预测。结果显示，从auc值的角度考虑，GBDT具有更好的预测效果。本案例通过多种方法进行检测，对比各个模型的结果。"
   ]
  },
  {
   "cell_type": "code",
   "execution_count": null,
   "metadata": {},
   "outputs": [],
   "source": []
  },
  {
   "cell_type": "code",
   "execution_count": null,
   "metadata": {},
   "outputs": [],
   "source": []
  }
 ],
 "metadata": {
  "kernelspec": {
   "display_name": "Python 3",
   "language": "python",
   "name": "python3"
  },
  "language_info": {
   "codemirror_mode": {
    "name": "ipython",
    "version": 3
   },
   "file_extension": ".py",
   "mimetype": "text/x-python",
   "name": "python",
   "nbconvert_exporter": "python",
   "pygments_lexer": "ipython3",
   "version": "3.6.5"
  }
 },
 "nbformat": 4,
 "nbformat_minor": 2
}
