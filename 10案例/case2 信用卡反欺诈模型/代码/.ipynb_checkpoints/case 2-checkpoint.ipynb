{
 "cells": [
  {
   "cell_type": "markdown",
   "metadata": {},
   "source": [
    "# 案例描述：信用卡反欺诈模型\n",
    "\n",
    "本案例基于用户的信用卡及消费贷款交易数据建立了信用卡反欺诈模型。我们知道，在信用卡的申请时，大部分人所提供的信息是真实有效的，仅有少部分人伪造个人信息企图蒙混过关，故本案例的主要目标为识别数据中的虚假信息。首先，我们对数据进行了简单的探索；之后，采用孤立森林等三种方法对数据中的异常值进行识别和标记；最后使用sklearn中的多种分类模型进行预测分析。"
   ]
  },
  {
   "cell_type": "markdown",
   "metadata": {},
   "source": [
    "# 目录\n",
    "1.[数据准备](#1)<br>\n",
    "2.[异常值处理](#2)<br>\n",
    "&emsp;&emsp;2.1 [使用孤立森林识别异常值](#2.1)<br> \n",
    "&emsp;&emsp;2.2 [使用One-class SVM识别异常值](#2.2)<br> \n",
    "&emsp;&emsp;2.3 [使用autoencoder识别异常值](#2.3)<br> \n",
    "&emsp;&emsp;2.4 [使用选举法对上述三种方法进行整合](#2.4)<br> \n",
    "3.[建模与调参](#3)<br>\n",
    "&emsp;&emsp;3.1 [按照被解释变量进行分层超额抽样](#3.1)<br> \n",
    "&emsp;&emsp;3.2 [过采样平衡样本](#3.2)<br> \n",
    "&emsp;&emsp;3.3 [建立预测模型](#3.3)<br> \n",
    "&emsp;&emsp;3.4 [寻找最优参数](#3.4)<br> \n",
    "4.[总结](#4)<br>"
   ]
  },
  {
   "cell_type": "code",
   "execution_count": 1,
   "metadata": {},
   "outputs": [],
   "source": [
    "import pandas as pd\n",
    "import matplotlib.pyplot as plt\n",
    "import numpy as np"
   ]
  },
  {
   "cell_type": "code",
   "execution_count": 3,
   "metadata": {},
   "outputs": [
    {
     "data": {
      "text/plain": [
       "(284807, 31)"
      ]
     },
     "execution_count": 3,
     "metadata": {},
     "output_type": "execute_result"
    }
   ],
   "source": [
    "data = pd.read_csv('data/creditcard.csv')\n",
    "data.shape"
   ]
  },
  {
   "cell_type": "code",
   "execution_count": 5,
   "metadata": {},
   "outputs": [
    {
     "data": {
      "text/html": [
       "<div>\n",
       "<style scoped>\n",
       "    .dataframe tbody tr th:only-of-type {\n",
       "        vertical-align: middle;\n",
       "    }\n",
       "\n",
       "    .dataframe tbody tr th {\n",
       "        vertical-align: top;\n",
       "    }\n",
       "\n",
       "    .dataframe thead th {\n",
       "        text-align: right;\n",
       "    }\n",
       "</style>\n",
       "<table border=\"1\" class=\"dataframe\">\n",
       "  <thead>\n",
       "    <tr style=\"text-align: right;\">\n",
       "      <th></th>\n",
       "      <th>Time</th>\n",
       "      <th>V1</th>\n",
       "      <th>V2</th>\n",
       "      <th>V3</th>\n",
       "      <th>V4</th>\n",
       "      <th>V5</th>\n",
       "      <th>V6</th>\n",
       "      <th>V7</th>\n",
       "      <th>V8</th>\n",
       "      <th>V9</th>\n",
       "      <th>...</th>\n",
       "      <th>V21</th>\n",
       "      <th>V22</th>\n",
       "      <th>V23</th>\n",
       "      <th>V24</th>\n",
       "      <th>V25</th>\n",
       "      <th>V26</th>\n",
       "      <th>V27</th>\n",
       "      <th>V28</th>\n",
       "      <th>Amount</th>\n",
       "      <th>Class</th>\n",
       "    </tr>\n",
       "  </thead>\n",
       "  <tbody>\n",
       "    <tr>\n",
       "      <th>284802</th>\n",
       "      <td>172786.0</td>\n",
       "      <td>-11.881118</td>\n",
       "      <td>10.071785</td>\n",
       "      <td>-9.834783</td>\n",
       "      <td>-2.066656</td>\n",
       "      <td>-5.364473</td>\n",
       "      <td>-2.606837</td>\n",
       "      <td>-4.918215</td>\n",
       "      <td>7.305334</td>\n",
       "      <td>1.914428</td>\n",
       "      <td>...</td>\n",
       "      <td>0.213454</td>\n",
       "      <td>0.111864</td>\n",
       "      <td>1.014480</td>\n",
       "      <td>-0.509348</td>\n",
       "      <td>1.436807</td>\n",
       "      <td>0.250034</td>\n",
       "      <td>0.943651</td>\n",
       "      <td>0.823731</td>\n",
       "      <td>0.77</td>\n",
       "      <td>0</td>\n",
       "    </tr>\n",
       "    <tr>\n",
       "      <th>284803</th>\n",
       "      <td>172787.0</td>\n",
       "      <td>-0.732789</td>\n",
       "      <td>-0.055080</td>\n",
       "      <td>2.035030</td>\n",
       "      <td>-0.738589</td>\n",
       "      <td>0.868229</td>\n",
       "      <td>1.058415</td>\n",
       "      <td>0.024330</td>\n",
       "      <td>0.294869</td>\n",
       "      <td>0.584800</td>\n",
       "      <td>...</td>\n",
       "      <td>0.214205</td>\n",
       "      <td>0.924384</td>\n",
       "      <td>0.012463</td>\n",
       "      <td>-1.016226</td>\n",
       "      <td>-0.606624</td>\n",
       "      <td>-0.395255</td>\n",
       "      <td>0.068472</td>\n",
       "      <td>-0.053527</td>\n",
       "      <td>24.79</td>\n",
       "      <td>0</td>\n",
       "    </tr>\n",
       "    <tr>\n",
       "      <th>284804</th>\n",
       "      <td>172788.0</td>\n",
       "      <td>1.919565</td>\n",
       "      <td>-0.301254</td>\n",
       "      <td>-3.249640</td>\n",
       "      <td>-0.557828</td>\n",
       "      <td>2.630515</td>\n",
       "      <td>3.031260</td>\n",
       "      <td>-0.296827</td>\n",
       "      <td>0.708417</td>\n",
       "      <td>0.432454</td>\n",
       "      <td>...</td>\n",
       "      <td>0.232045</td>\n",
       "      <td>0.578229</td>\n",
       "      <td>-0.037501</td>\n",
       "      <td>0.640134</td>\n",
       "      <td>0.265745</td>\n",
       "      <td>-0.087371</td>\n",
       "      <td>0.004455</td>\n",
       "      <td>-0.026561</td>\n",
       "      <td>67.88</td>\n",
       "      <td>0</td>\n",
       "    </tr>\n",
       "    <tr>\n",
       "      <th>284805</th>\n",
       "      <td>172788.0</td>\n",
       "      <td>-0.240440</td>\n",
       "      <td>0.530483</td>\n",
       "      <td>0.702510</td>\n",
       "      <td>0.689799</td>\n",
       "      <td>-0.377961</td>\n",
       "      <td>0.623708</td>\n",
       "      <td>-0.686180</td>\n",
       "      <td>0.679145</td>\n",
       "      <td>0.392087</td>\n",
       "      <td>...</td>\n",
       "      <td>0.265245</td>\n",
       "      <td>0.800049</td>\n",
       "      <td>-0.163298</td>\n",
       "      <td>0.123205</td>\n",
       "      <td>-0.569159</td>\n",
       "      <td>0.546668</td>\n",
       "      <td>0.108821</td>\n",
       "      <td>0.104533</td>\n",
       "      <td>10.00</td>\n",
       "      <td>0</td>\n",
       "    </tr>\n",
       "    <tr>\n",
       "      <th>284806</th>\n",
       "      <td>172792.0</td>\n",
       "      <td>-0.533413</td>\n",
       "      <td>-0.189733</td>\n",
       "      <td>0.703337</td>\n",
       "      <td>-0.506271</td>\n",
       "      <td>-0.012546</td>\n",
       "      <td>-0.649617</td>\n",
       "      <td>1.577006</td>\n",
       "      <td>-0.414650</td>\n",
       "      <td>0.486180</td>\n",
       "      <td>...</td>\n",
       "      <td>0.261057</td>\n",
       "      <td>0.643078</td>\n",
       "      <td>0.376777</td>\n",
       "      <td>0.008797</td>\n",
       "      <td>-0.473649</td>\n",
       "      <td>-0.818267</td>\n",
       "      <td>-0.002415</td>\n",
       "      <td>0.013649</td>\n",
       "      <td>217.00</td>\n",
       "      <td>0</td>\n",
       "    </tr>\n",
       "  </tbody>\n",
       "</table>\n",
       "<p>5 rows × 31 columns</p>\n",
       "</div>"
      ],
      "text/plain": [
       "            Time         V1         V2        V3        V4        V5  \\\n",
       "284802  172786.0 -11.881118  10.071785 -9.834783 -2.066656 -5.364473   \n",
       "284803  172787.0  -0.732789  -0.055080  2.035030 -0.738589  0.868229   \n",
       "284804  172788.0   1.919565  -0.301254 -3.249640 -0.557828  2.630515   \n",
       "284805  172788.0  -0.240440   0.530483  0.702510  0.689799 -0.377961   \n",
       "284806  172792.0  -0.533413  -0.189733  0.703337 -0.506271 -0.012546   \n",
       "\n",
       "              V6        V7        V8        V9  ...         V21       V22  \\\n",
       "284802 -2.606837 -4.918215  7.305334  1.914428  ...    0.213454  0.111864   \n",
       "284803  1.058415  0.024330  0.294869  0.584800  ...    0.214205  0.924384   \n",
       "284804  3.031260 -0.296827  0.708417  0.432454  ...    0.232045  0.578229   \n",
       "284805  0.623708 -0.686180  0.679145  0.392087  ...    0.265245  0.800049   \n",
       "284806 -0.649617  1.577006 -0.414650  0.486180  ...    0.261057  0.643078   \n",
       "\n",
       "             V23       V24       V25       V26       V27       V28  Amount  \\\n",
       "284802  1.014480 -0.509348  1.436807  0.250034  0.943651  0.823731    0.77   \n",
       "284803  0.012463 -1.016226 -0.606624 -0.395255  0.068472 -0.053527   24.79   \n",
       "284804 -0.037501  0.640134  0.265745 -0.087371  0.004455 -0.026561   67.88   \n",
       "284805 -0.163298  0.123205 -0.569159  0.546668  0.108821  0.104533   10.00   \n",
       "284806  0.376777  0.008797 -0.473649 -0.818267 -0.002415  0.013649  217.00   \n",
       "\n",
       "        Class  \n",
       "284802      0  \n",
       "284803      0  \n",
       "284804      0  \n",
       "284805      0  \n",
       "284806      0  \n",
       "\n",
       "[5 rows x 31 columns]"
      ]
     },
     "execution_count": 5,
     "metadata": {},
     "output_type": "execute_result"
    }
   ],
   "source": [
    "data.head()"
   ]
  },
  {
   "cell_type": "markdown",
   "metadata": {},
   "source": [
    "v1到v28是数据的特征，总共28个，标签值为`Class`,下边我们进行分析。"
   ]
  },
  {
   "cell_type": "markdown",
   "metadata": {},
   "source": [
    "首先，我们通过条形图的形式，查看数据中两种样本类别的数量情况。"
   ]
  },
  {
   "cell_type": "code",
   "execution_count": 6,
   "metadata": {},
   "outputs": [
    {
     "data": {
      "image/png": "[encoded data removed]",
      "text/plain": [
       "<Figure size 504x360 with 1 Axes>"
      ]
     },
     "metadata": {},
     "output_type": "display_data"
    }
   ],
   "source": [
    "plt.subplots(figsize = (7,5))\n",
    "count_classes = pd.value_counts(data['Class'], sort = True).sort_index()\n",
    "count_classes.plot(kind = 'bar')\n",
    "plt.title(\"Fraud class histogram\", fontsize = 13)\n",
    "plt.xlabel(\"Class\", fontsize = 13)\n",
    "plt.xticks(rotation=0)\n",
    "plt.ylabel(\"Frequency\", fontsize = 15)\n",
    "plt.show()"
   ]
  },
  {
   "cell_type": "code",
   "execution_count": 8,
   "metadata": {},
   "outputs": [
    {
     "data": {
      "text/plain": [
       "0    284315\n",
       "1       492\n",
       "Name: Class, dtype: int64"
      ]
     },
     "execution_count": 8,
     "metadata": {},
     "output_type": "execute_result"
    }
   ],
   "source": [
    "data['Class'].value_counts()"
   ]
  },
  {
   "cell_type": "markdown",
   "metadata": {},
   "source": [
    "从图中可以看出，绝大部分样本的类别为“0”，即信用数据可信，仅有极少数的样本类别为“1”，即存在欺诈的情况。  \n",
    "下面将采用切片的方式将特征从数据中划分出来，共计28个特征，即`V1`-`V28`。"
   ]
  },
  {
   "cell_type": "code",
   "execution_count": 7,
   "metadata": {},
   "outputs": [],
   "source": [
    "X_train = data.iloc[:, 1:-2]"
   ]
  },
  {
   "cell_type": "markdown",
   "metadata": {},
   "source": [
    "<div id=\"2\"></div>\n",
    "# 2. 异常值处理\n",
    "对于数据中类别为“1”的样本，由于其占比非常小，所以可以认为它们是数据中的异常值，下面使用几种常见的异常值的处理方式来进行样本类别判断。"
   ]
  },
  {
   "cell_type": "markdown",
   "metadata": {},
   "source": [
    "## <a id=2.1></a>2.1 使用孤立森林识别异常值\n",
    "这里使用sklearn.ensemble中的`IsolationForest`类来进行孤立森林建模，在`IsolationForest`中，最主要的参数是`contamination`，它表示用户认为数据中异常点的比例，一般情况下将其设为异常点比例的5-20倍，例如：本例中异常点数为492,如何异常点比例是20倍，则该参数为492*20/284315=0.0346."
   ]
  },
  {
   "cell_type": "code",
   "execution_count": 9,
   "metadata": {},
   "outputs": [
    {
     "name": "stderr",
     "output_type": "stream",
     "text": [
      "C:\\ProgramData\\Anaconda3\\lib\\site-packages\\sklearn\\ensemble\\iforest.py:247: FutureWarning: behaviour=\"old\" is deprecated and will be removed in version 0.22. Please use behaviour=\"new\", which makes the decision_function change to match other anomaly detection algorithm API.\n",
      "  FutureWarning)\n"
     ]
    },
    {
     "data": {
      "text/plain": [
       "IsolationForest(behaviour='old', bootstrap=False, contamination=0.0346,\n",
       "                max_features=0.6, max_samples=0.6, n_estimators=100,\n",
       "                n_jobs=None, random_state=42, verbose=0, warm_start=False)"
      ]
     },
     "execution_count": 9,
     "metadata": {},
     "output_type": "execute_result"
    }
   ],
   "source": [
    "from sklearn.ensemble import IsolationForest\n",
    "clf = IsolationForest(contamination = 0.0346,n_estimators = 100,max_samples = 0.6,max_features = 0.6,random_state = 42)\n",
    "clf.fit(X_train)"
   ]
  },
  {
   "cell_type": "code",
   "execution_count": 11,
   "metadata": {},
   "outputs": [
    {
     "name": "stderr",
     "output_type": "stream",
     "text": [
      "C:\\ProgramData\\Anaconda3\\lib\\site-packages\\sklearn\\ensemble\\iforest.py:415: DeprecationWarning: threshold_ attribute is deprecated in 0.20 and will be removed in 0.22.\n",
      "  \" be removed in 0.22.\", DeprecationWarning)\n"
     ]
    },
    {
     "data": {
      "text/html": [
       "<div>\n",
       "<style scoped>\n",
       "    .dataframe tbody tr th:only-of-type {\n",
       "        vertical-align: middle;\n",
       "    }\n",
       "\n",
       "    .dataframe tbody tr th {\n",
       "        vertical-align: top;\n",
       "    }\n",
       "\n",
       "    .dataframe thead th {\n",
       "        text-align: right;\n",
       "    }\n",
       "</style>\n",
       "<table border=\"1\" class=\"dataframe\">\n",
       "  <thead>\n",
       "    <tr style=\"text-align: right;\">\n",
       "      <th>col_0</th>\n",
       "      <th>0</th>\n",
       "      <th>1</th>\n",
       "    </tr>\n",
       "    <tr>\n",
       "      <th>Class</th>\n",
       "      <th></th>\n",
       "      <th></th>\n",
       "    </tr>\n",
       "  </thead>\n",
       "  <tbody>\n",
       "    <tr>\n",
       "      <th>0</th>\n",
       "      <td>274881</td>\n",
       "      <td>9434</td>\n",
       "    </tr>\n",
       "    <tr>\n",
       "      <th>1</th>\n",
       "      <td>71</td>\n",
       "      <td>421</td>\n",
       "    </tr>\n",
       "  </tbody>\n",
       "</table>\n",
       "</div>"
      ],
      "text/plain": [
       "col_0       0     1\n",
       "Class              \n",
       "0      274881  9434\n",
       "1          71   421"
      ]
     },
     "execution_count": 11,
     "metadata": {},
     "output_type": "execute_result"
    }
   ],
   "source": [
    "#预测\n",
    "y_pred_1IF = pd.Series(clf.predict(X_train))\n",
    "y_pred_1IF.replace(1,0,inplace = True)\n",
    "y_pred_1IF.replace(-1,1,inplace = True)\n",
    "cross_table = pd.crosstab(data.Class, columns = y_pred_1IF)\n",
    "cross_table"
   ]
  },
  {
   "cell_type": "markdown",
   "metadata": {},
   "source": [
    "从孤立森林的预测结果来看，492个异常值中有421个被检测出来，有71个未被检测出；另外，由于参数contamination设置成0.0346，认为数据中异常值的占比为3.46%，故有9434个正常值也被检测成异常值。"
   ]
  },
  {
   "cell_type": "markdown",
   "metadata": {},
   "source": [
    "## <a id=2.2></a> 2.2 使用One-class SVM识别异常值\n",
    "这里使用sklearn中的`OneClassSVM`进行建模，其中它有一个非常重要的参数为`nu`，表示用户认为的异常点比例，默认值为0.5，一般情况下设为真实异常点比例的5-20倍，根据上面的计算，这里我们仍将其设为0.0346."
   ]
  },
  {
   "cell_type": "code",
   "execution_count": 12,
   "metadata": {},
   "outputs": [
    {
     "name": "stderr",
     "output_type": "stream",
     "text": [
      "C:\\ProgramData\\Anaconda3\\lib\\site-packages\\sklearn\\svm\\classes.py:1185: DeprecationWarning: The random_state parameter is deprecated and will be removed in version 0.22.\n",
      "  \" be removed in version 0.22.\", DeprecationWarning)\n",
      "C:\\ProgramData\\Anaconda3\\lib\\site-packages\\sklearn\\svm\\base.py:193: FutureWarning: The default value of gamma will change from 'auto' to 'scale' in version 0.22 to account better for unscaled features. Set gamma explicitly to 'auto' or 'scale' to avoid this warning.\n",
      "  \"avoid this warning.\", FutureWarning)\n"
     ]
    },
    {
     "data": {
      "text/plain": [
       "OneClassSVM(cache_size=200, coef0=0.0, degree=3, gamma='auto_deprecated',\n",
       "            kernel='rbf', max_iter=-1, nu=0.0346, random_state=42,\n",
       "            shrinking=True, tol=0.001, verbose=False)"
      ]
     },
     "execution_count": 12,
     "metadata": {},
     "output_type": "execute_result"
    }
   ],
   "source": [
    "from sklearn import svm\n",
    "OCSVM = svm.OneClassSVM(nu = 0.0346,kernel = \"rbf\",random_state = 42)\n",
    "OCSVM.fit(X_train)"
   ]
  },
  {
   "cell_type": "code",
   "execution_count": 13,
   "metadata": {},
   "outputs": [
    {
     "data": {
      "text/html": [
       "<div>\n",
       "<style scoped>\n",
       "    .dataframe tbody tr th:only-of-type {\n",
       "        vertical-align: middle;\n",
       "    }\n",
       "\n",
       "    .dataframe tbody tr th {\n",
       "        vertical-align: top;\n",
       "    }\n",
       "\n",
       "    .dataframe thead th {\n",
       "        text-align: right;\n",
       "    }\n",
       "</style>\n",
       "<table border=\"1\" class=\"dataframe\">\n",
       "  <thead>\n",
       "    <tr style=\"text-align: right;\">\n",
       "      <th>col_0</th>\n",
       "      <th>0</th>\n",
       "      <th>1</th>\n",
       "    </tr>\n",
       "    <tr>\n",
       "      <th>Class</th>\n",
       "      <th></th>\n",
       "      <th></th>\n",
       "    </tr>\n",
       "  </thead>\n",
       "  <tbody>\n",
       "    <tr>\n",
       "      <th>0</th>\n",
       "      <td>274864</td>\n",
       "      <td>9451</td>\n",
       "    </tr>\n",
       "    <tr>\n",
       "      <th>1</th>\n",
       "      <td>70</td>\n",
       "      <td>422</td>\n",
       "    </tr>\n",
       "  </tbody>\n",
       "</table>\n",
       "</div>"
      ],
      "text/plain": [
       "col_0       0     1\n",
       "Class              \n",
       "0      274864  9451\n",
       "1          70   422"
      ]
     },
     "execution_count": 13,
     "metadata": {},
     "output_type": "execute_result"
    }
   ],
   "source": [
    "#预测\n",
    "y_pred_2OCSVM = pd.Series(OCSVM.predict(X_train))\n",
    "y_pred_2OCSVM.replace(1,0,inplace = True)\n",
    "y_pred_2OCSVM.replace(-1,1,inplace = True)\n",
    "cross_table = pd.crosstab(data.Class, columns = y_pred_2OCSVM)\n",
    "cross_table"
   ]
  },
  {
   "cell_type": "markdown",
   "metadata": {},
   "source": [
    "从One-class SVM的预测结果来看，有422个异常值被检测出来，70个未被检测出。对比发现，该模型的性能与孤立森林几乎相同。"
   ]
  },
  {
   "cell_type": "markdown",
   "metadata": {},
   "source": [
    "## <a id=2.3></a>2.3 使用autoencoder识别异常值\n",
    "autoencoder是一种基于神经网络的降维方法，它包括两个主要部分：encoder和decoder。encoder的作用是用来发现给定数据的压缩表示，decoder的作用是重建原始输入。autoencoder在做异常点检测时，假设异常点服从不同的分布，因而该模型可以将正常样本重建还原，而异常样本则不能很好的还原，导致还原误差较大，还原误差常使用均方误差MSE来进行衡量。当还原误差大于某一阈值时，则认为是异常值。\n",
    "\n",
    "这里我们使用Keras搭建网络结构。"
   ]
  },
  {
   "cell_type": "code",
   "execution_count": 26,
   "metadata": {},
   "outputs": [],
   "source": [
    "from keras.models import Model\n",
    "from keras.layers import Input, Dense\n",
    "from keras import regularizers"
   ]
  },
  {
   "cell_type": "code",
   "execution_count": 27,
   "metadata": {},
   "outputs": [],
   "source": [
    "input_dim = X_train.shape[1]\n",
    "encoding_dim = 14\n",
    "input_layer = Input(shape = (input_dim, ))\n",
    "\n",
    "encoder = Dense(14, activation = \"tanh\", \n",
    "                activity_regularizer = regularizers.l1(10e-5))(input_layer)\n",
    "encoder = Dense(7, activation = \"relu\")(encoder)\n",
    "\n",
    "decoder = Dense(14, activation = 'tanh')(encoder)\n",
    "decoder = Dense(input_dim, activation = 'relu')(decoder)\n",
    "\n",
    "autoencoder = Model(inputs = input_layer, outputs = decoder)"
   ]
  },
  {
   "cell_type": "code",
   "execution_count": 16,
   "metadata": {},
   "outputs": [
    {
     "name": "stdout",
     "output_type": "stream",
     "text": [
      "_________________________________________________________________\n",
      "Layer (type)                 Output Shape              Param #   \n",
      "=================================================================\n",
      "input_1 (InputLayer)         (None, 28)                0         \n",
      "_________________________________________________________________\n",
      "dense_1 (Dense)              (None, 14)                406       \n",
      "_________________________________________________________________\n",
      "dense_2 (Dense)              (None, 7)                 105       \n",
      "_________________________________________________________________\n",
      "dense_3 (Dense)              (None, 14)                112       \n",
      "_________________________________________________________________\n",
      "dense_4 (Dense)              (None, 28)                420       \n",
      "=================================================================\n",
      "Total params: 1,043\n",
      "Trainable params: 1,043\n",
      "Non-trainable params: 0\n",
      "_________________________________________________________________\n"
     ]
    }
   ],
   "source": [
    "nb_epoch = 10\n",
    "batch_size = 32\n",
    "autoencoder.compile(optimizer = 'adam', \n",
    "                    loss = 'mean_squared_error', \n",
    "                    metrics = ['accuracy'])\n",
    "autoencoder.summary()"
   ]
  },
  {
   "cell_type": "code",
   "execution_count": 17,
   "metadata": {},
   "outputs": [
    {
     "name": "stdout",
     "output_type": "stream",
     "text": [
      "Train on 284807 samples, validate on 284807 samples\n",
      "Epoch 1/10\n",
      "284807/284807 [==============================] - 12s 43us/step - loss: 0.8433 - acc: 0.5960 - val_loss: 0.8033 - val_acc: 0.6529\n",
      "Epoch 2/10\n",
      "284807/284807 [==============================] - 12s 41us/step - loss: 0.7989 - acc: 0.6543 - val_loss: 0.7943 - val_acc: 0.6586\n",
      "Epoch 3/10\n",
      "284807/284807 [==============================] - 12s 41us/step - loss: 0.7943 - acc: 0.6559 - val_loss: 0.7919 - val_acc: 0.6561\n",
      "Epoch 4/10\n",
      "284807/284807 [==============================] - 12s 41us/step - loss: 0.7914 - acc: 0.6567 - val_loss: 0.7905 - val_acc: 0.6552\n",
      "Epoch 5/10\n",
      "284807/284807 [==============================] - 12s 42us/step - loss: 0.7886 - acc: 0.6573 - val_loss: 0.7864 - val_acc: 0.6617\n",
      "Epoch 6/10\n",
      "284807/284807 [==============================] - 12s 42us/step - loss: 0.7867 - acc: 0.6587 - val_loss: 0.7861 - val_acc: 0.6596\n",
      "Epoch 7/10\n",
      "284807/284807 [==============================] - 12s 44us/step - loss: 0.7849 - acc: 0.6621 - val_loss: 0.7820 - val_acc: 0.6687\n",
      "Epoch 8/10\n",
      "284807/284807 [==============================] - 12s 43us/step - loss: 0.7834 - acc: 0.6656 - val_loss: 0.7816 - val_acc: 0.6688\n",
      "Epoch 9/10\n",
      "284807/284807 [==============================] - 12s 42us/step - loss: 0.7823 - acc: 0.6703 - val_loss: 0.7810 - val_acc: 0.6721\n",
      "Epoch 10/10\n",
      "284807/284807 [==============================] - 12s 42us/step - loss: 0.7808 - acc: 0.6763 - val_loss: 0.7799 - val_acc: 0.6832\n"
     ]
    }
   ],
   "source": [
    "x_train = np.array(X_train)    #数据转换成数组\n",
    "history = autoencoder.fit(x_train, x_train,\n",
    "                    epochs = nb_epoch,\n",
    "                    batch_size = batch_size,\n",
    "                    shuffle = True,\n",
    "                    validation_data = (x_train, x_train),\n",
    "                    verbose = 1).history"
   ]
  },
  {
   "cell_type": "code",
   "execution_count": 18,
   "metadata": {},
   "outputs": [],
   "source": [
    "#预测\n",
    "y_pred_AT  = autoencoder.predict(x_train)"
   ]
  },
  {
   "cell_type": "code",
   "execution_count": 29,
   "metadata": {},
   "outputs": [
    {
     "data": {
      "text/html": [
       "<div>\n",
       "<style scoped>\n",
       "    .dataframe tbody tr th:only-of-type {\n",
       "        vertical-align: middle;\n",
       "    }\n",
       "\n",
       "    .dataframe tbody tr th {\n",
       "        vertical-align: top;\n",
       "    }\n",
       "\n",
       "    .dataframe thead th {\n",
       "        text-align: right;\n",
       "    }\n",
       "</style>\n",
       "<table border=\"1\" class=\"dataframe\">\n",
       "  <thead>\n",
       "    <tr style=\"text-align: right;\">\n",
       "      <th></th>\n",
       "      <th>reconstruction_error</th>\n",
       "      <th>true_class</th>\n",
       "    </tr>\n",
       "  </thead>\n",
       "  <tbody>\n",
       "    <tr>\n",
       "      <th>0</th>\n",
       "      <td>0.247092</td>\n",
       "      <td>0</td>\n",
       "    </tr>\n",
       "    <tr>\n",
       "      <th>1</th>\n",
       "      <td>0.090862</td>\n",
       "      <td>0</td>\n",
       "    </tr>\n",
       "    <tr>\n",
       "      <th>2</th>\n",
       "      <td>1.006066</td>\n",
       "      <td>0</td>\n",
       "    </tr>\n",
       "    <tr>\n",
       "      <th>3</th>\n",
       "      <td>0.402534</td>\n",
       "      <td>0</td>\n",
       "    </tr>\n",
       "    <tr>\n",
       "      <th>4</th>\n",
       "      <td>0.251568</td>\n",
       "      <td>0</td>\n",
       "    </tr>\n",
       "  </tbody>\n",
       "</table>\n",
       "</div>"
      ],
      "text/plain": [
       "   reconstruction_error  true_class\n",
       "0              0.247092           0\n",
       "1              0.090862           0\n",
       "2              1.006066           0\n",
       "3              0.402534           0\n",
       "4              0.251568           0"
      ]
     },
     "execution_count": 29,
     "metadata": {},
     "output_type": "execute_result"
    }
   ],
   "source": [
    "#计算还原误差\n",
    "mse = np.mean(np.power(x_train - y_pred_AT, 2), axis = 1)\n",
    "error_df = pd.DataFrame({'reconstruction_error': mse,\n",
    "                        'true_class': data.Class})\n",
    "error_df.head(5)"
   ]
  },
  {
   "cell_type": "code",
   "execution_count": 20,
   "metadata": {},
   "outputs": [],
   "source": [
    "from sklearn.metrics import (confusion_matrix, precision_recall_curve, auc,roc_auc_score,precision_score,roc_curve, recall_score, classification_report, f1_score,precision_recall_fscore_support)"
   ]
  },
  {
   "cell_type": "code",
   "execution_count": 21,
   "metadata": {},
   "outputs": [
    {
     "data": {
      "image/png": "[encoded data removed]",
      "text/plain": [
       "<Figure size 504x360 with 1 Axes>"
      ]
     },
     "metadata": {},
     "output_type": "display_data"
    }
   ],
   "source": [
    "#画ROC曲线\n",
    "fpr, tpr, thresholds = roc_curve(error_df.true_class, error_df.reconstruction_error)\n",
    "roc_auc = auc(fpr, tpr)\n",
    "\n",
    "plt.subplots(figsize = (7,5))\n",
    "plt.plot(fpr, tpr, label = 'AUC = %0.4f'% roc_auc)\n",
    "plt.legend(loc = 'lower right')\n",
    "plt.plot([0,1],[0,1],'r--')\n",
    "plt.xlim([-0.001, 1])\n",
    "plt.ylim([0, 1.001])\n",
    "plt.ylabel('True Positive Rate',fontsize = 13)\n",
    "plt.xlabel('False Positive Rate',fontsize = 13)\n",
    "plt.title('Receiver Operating Characteristic',fontsize = 13)\n",
    "plt.show()"
   ]
  },
  {
   "cell_type": "markdown",
   "metadata": {},
   "source": [
    "我们知道，ROC曲线越靠近左上角效果越好，即满足较小的一类错误率（fpr）和较大的功效（tpr）。通过均衡二者，我们认为tpr-(1-fpr)接近0的点就是最佳切点。"
   ]
  },
  {
   "cell_type": "code",
   "execution_count": 22,
   "metadata": {},
   "outputs": [],
   "source": [
    "#寻找最佳切分点\n",
    "i = np.arange(len(tpr)) \n",
    "cop = pd.DataFrame(\n",
    "    {'fpr' : pd.Series(fpr, index = i),\n",
    "     'tpr' : pd.Series(tpr, index = i), \n",
    "     '1-fpr' : pd.Series(1-fpr, index = i), \n",
    "     'tf' : pd.Series(tpr - (1-fpr), index = i), \n",
    "     'thresholds' : pd.Series(thresholds, index = i)})"
   ]
  },
  {
   "cell_type": "code",
   "execution_count": 23,
   "metadata": {},
   "outputs": [
    {
     "data": {
      "image/png": "[encoded data removed]",
      "text/plain": [
       "<Figure size 504x360 with 2 Axes>"
      ]
     },
     "metadata": {},
     "output_type": "display_data"
    }
   ],
   "source": [
    "import matplotlib\n",
    "matplotlib.rcParams['axes.unicode_minus'] = False #解决保存图像时负号'-'显示为方块的问题\n",
    "plt.rcParams['font.sans-serif'] = ['SimHei'] #指定默认字体 \n",
    "fig = plt.figure(figsize = (7,5))\n",
    "ax1 = fig.add_subplot(111)\n",
    "ax1.plot(cop['thresholds'], cop['tpr'],'blue')\n",
    "ax1.set_ylabel('召回率TPR(blue)',fontsize = 13)\n",
    "ax1.set_title(\"阈值决定曲线\",fontsize = 13)\n",
    "\n",
    "ax2 = ax1.twinx()  \n",
    "ax2.plot(cop['thresholds'], cop['1-fpr'], 'red')\n",
    "ax2.set_xlim([0, 4])\n",
    "ax2.set_ylabel('负例召回率TNR=1-fpr(red)',fontsize = 13)\n",
    "ax2.set_xlabel('thresholds',fontsize = 13)\n",
    "plt.show()"
   ]
  },
  {
   "cell_type": "code",
   "execution_count": 24,
   "metadata": {},
   "outputs": [
    {
     "data": {
      "text/html": [
       "<div>\n",
       "<style scoped>\n",
       "    .dataframe tbody tr th:only-of-type {\n",
       "        vertical-align: middle;\n",
       "    }\n",
       "\n",
       "    .dataframe tbody tr th {\n",
       "        vertical-align: top;\n",
       "    }\n",
       "\n",
       "    .dataframe thead th {\n",
       "        text-align: right;\n",
       "    }\n",
       "</style>\n",
       "<table border=\"1\" class=\"dataframe\">\n",
       "  <thead>\n",
       "    <tr style=\"text-align: right;\">\n",
       "      <th></th>\n",
       "      <th>fpr</th>\n",
       "      <th>tpr</th>\n",
       "      <th>1-fpr</th>\n",
       "      <th>tf</th>\n",
       "      <th>thresholds</th>\n",
       "    </tr>\n",
       "  </thead>\n",
       "  <tbody>\n",
       "    <tr>\n",
       "      <th>1213</th>\n",
       "      <td>0.105598</td>\n",
       "      <td>0.894309</td>\n",
       "      <td>0.894402</td>\n",
       "      <td>-0.000093</td>\n",
       "      <td>1.010539</td>\n",
       "    </tr>\n",
       "  </tbody>\n",
       "</table>\n",
       "</div>"
      ],
      "text/plain": [
       "           fpr       tpr     1-fpr        tf  thresholds\n",
       "1213  0.105598  0.894309  0.894402 -0.000093    1.010539"
      ]
     },
     "execution_count": 24,
     "metadata": {},
     "output_type": "execute_result"
    }
   ],
   "source": [
    "#查值最小的点\n",
    "cop.loc[(cop.tf-0).abs().argsort()[:1]]"
   ]
  },
  {
   "cell_type": "markdown",
   "metadata": {},
   "source": [
    "从阈值决定曲线来看，tpr和1-fpr两条曲线在阈值为1附近时相交，即当阈值为1时，可以认为是最佳切分点。但观察到，当阈值为1时，犯一类错误的概率为0.2左右，即将正常样本检测为异常样本的概率过高，这并不是我们期望的结果，所以这里退而求其次，选择切分点的阈值为2.2."
   ]
  },
  {
   "cell_type": "code",
   "execution_count": 46,
   "metadata": {},
   "outputs": [
    {
     "data": {
      "text/html": [
       "<div>\n",
       "<style scoped>\n",
       "    .dataframe tbody tr th:only-of-type {\n",
       "        vertical-align: middle;\n",
       "    }\n",
       "\n",
       "    .dataframe tbody tr th {\n",
       "        vertical-align: top;\n",
       "    }\n",
       "\n",
       "    .dataframe thead th {\n",
       "        text-align: right;\n",
       "    }\n",
       "</style>\n",
       "<table border=\"1\" class=\"dataframe\">\n",
       "  <thead>\n",
       "    <tr style=\"text-align: right;\">\n",
       "      <th>col_0</th>\n",
       "      <th>0</th>\n",
       "      <th>1</th>\n",
       "    </tr>\n",
       "    <tr>\n",
       "      <th>Class</th>\n",
       "      <th></th>\n",
       "      <th></th>\n",
       "    </tr>\n",
       "  </thead>\n",
       "  <tbody>\n",
       "    <tr>\n",
       "      <th>0</th>\n",
       "      <td>274797</td>\n",
       "      <td>9518</td>\n",
       "    </tr>\n",
       "    <tr>\n",
       "      <th>1</th>\n",
       "      <td>80</td>\n",
       "      <td>412</td>\n",
       "    </tr>\n",
       "  </tbody>\n",
       "</table>\n",
       "</div>"
      ],
      "text/plain": [
       "col_0       0     1\n",
       "Class              \n",
       "0      274797  9518\n",
       "1          80   412"
      ]
     },
     "execution_count": 46,
     "metadata": {},
     "output_type": "execute_result"
    }
   ],
   "source": [
    "# 建立混淆矩阵\n",
    "threshold = 2.2\n",
    "y_pred_3AR = np.array([1 if e > threshold else 0 for e in error_df.reconstruction_error.values])\n",
    "cross_table = pd.crosstab(data.Class, columns = y_pred_3AR)\n",
    "cross_table"
   ]
  },
  {
   "cell_type": "markdown",
   "metadata": {},
   "source": [
    "从autoencoder模型结果来看，当设定还原误差的阈值为2.2时，有412个异常值被检测出来，80个未被检测出来。"
   ]
  },
  {
   "cell_type": "markdown",
   "metadata": {},
   "source": [
    "## <a id=2.4></a> 2.4 使用选举法对上述三种方法进行整合\n",
    "下面将上述三种方法的结果整合起来，采用多数投票的原则，进行异常值判定，即当有2种及以上的方法检测出某条数据为异常值时，则该条数据就为异常值，否则为正常值。"
   ]
  },
  {
   "cell_type": "code",
   "execution_count": 47,
   "metadata": {},
   "outputs": [],
   "source": [
    "three_score = pd.DataFrame([y_pred_1IF,y_pred_2OCSVM,y_pred_3AR]).T\n",
    "y_infer = three_score.apply(lambda x: x.mode(), axis = 1)   #多数投票"
   ]
  },
  {
   "cell_type": "code",
   "execution_count": 48,
   "metadata": {},
   "outputs": [],
   "source": [
    "data['Class_infer'] = y_infer"
   ]
  },
  {
   "cell_type": "code",
   "execution_count": 51,
   "metadata": {},
   "outputs": [
    {
     "data": {
      "text/plain": [
       "0    0\n",
       "1    0\n",
       "2    0\n",
       "3    0\n",
       "4    0\n",
       "Name: Class_infer, dtype: int64"
      ]
     },
     "execution_count": 51,
     "metadata": {},
     "output_type": "execute_result"
    }
   ],
   "source": [
    "data['Class_infer'].head()"
   ]
  },
  {
   "cell_type": "code",
   "execution_count": 49,
   "metadata": {},
   "outputs": [
    {
     "data": {
      "text/html": [
       "<div>\n",
       "<style scoped>\n",
       "    .dataframe tbody tr th:only-of-type {\n",
       "        vertical-align: middle;\n",
       "    }\n",
       "\n",
       "    .dataframe tbody tr th {\n",
       "        vertical-align: top;\n",
       "    }\n",
       "\n",
       "    .dataframe thead th {\n",
       "        text-align: right;\n",
       "    }\n",
       "</style>\n",
       "<table border=\"1\" class=\"dataframe\">\n",
       "  <thead>\n",
       "    <tr style=\"text-align: right;\">\n",
       "      <th>Class_infer</th>\n",
       "      <th>0</th>\n",
       "      <th>1</th>\n",
       "    </tr>\n",
       "    <tr>\n",
       "      <th>Class</th>\n",
       "      <th></th>\n",
       "      <th></th>\n",
       "    </tr>\n",
       "  </thead>\n",
       "  <tbody>\n",
       "    <tr>\n",
       "      <th>0</th>\n",
       "      <td>275238</td>\n",
       "      <td>9077</td>\n",
       "    </tr>\n",
       "    <tr>\n",
       "      <th>1</th>\n",
       "      <td>71</td>\n",
       "      <td>421</td>\n",
       "    </tr>\n",
       "  </tbody>\n",
       "</table>\n",
       "</div>"
      ],
      "text/plain": [
       "Class_infer       0     1\n",
       "Class                    \n",
       "0            275238  9077\n",
       "1                71   421"
      ]
     },
     "execution_count": 49,
     "metadata": {},
     "output_type": "execute_result"
    }
   ],
   "source": [
    "cross_table = pd.crosstab(data.Class, columns = data.Class_infer)\n",
    "cross_table"
   ]
  },
  {
   "cell_type": "markdown",
   "metadata": {},
   "source": [
    "从三种方法的多数投票结果来看，有421个异常值被检测出来，该方法比上述三种方法的单个预测结果均好。\n",
    "下面在`data`中创建一个新的列`Class_new`，用于记录本条数据是否是正常数据。"
   ]
  },
  {
   "cell_type": "code",
   "execution_count": 52,
   "metadata": {},
   "outputs": [],
   "source": [
    "label = {\n",
    "    (0,0):0,   \n",
    "    (1,1):1,  \n",
    "    (0,1):1,  \n",
    "    (1,0):0    \n",
    "}\n",
    "data['Class_new'] = data[['Class','Class_infer']].apply(lambda x: label[(x[0],x[1])], axis = 1)"
   ]
  },
  {
   "cell_type": "code",
   "execution_count": 53,
   "metadata": {},
   "outputs": [
    {
     "data": {
      "text/plain": [
       "0    275309\n",
       "1      9498\n",
       "Name: Class_new, dtype: int64"
      ]
     },
     "execution_count": 53,
     "metadata": {},
     "output_type": "execute_result"
    }
   ],
   "source": [
    "count_classes = pd.value_counts(data['Class_new'], sort = True).sort_index()\n",
    "count_classes"
   ]
  },
  {
   "cell_type": "markdown",
   "metadata": {},
   "source": [
    "最终得到数据中有2270条异常，被标记为“1”，其余为正常数据，标记为“0”。下面将使用机器学习方法对数据的正常与异常情况进行分类预测。"
   ]
  },
  {
   "cell_type": "markdown",
   "metadata": {},
   "source": [
    "<div id=\"3\"></div>\n",
    "# 3. 建模与调参"
   ]
  },
  {
   "cell_type": "code",
   "execution_count": 54,
   "metadata": {},
   "outputs": [],
   "source": [
    "data = data.drop(['Time','Class','Class_infer'],axis = 1)"
   ]
  },
  {
   "cell_type": "markdown",
   "metadata": {},
   "source": [
    "## <a id=3.1></a>3.1 按照被解释变量进行分层超额抽样\n",
    "这里我们使用sklearn.model_selection中的`StratifiedShuffleSplit`做训练集和测试集的划分，该方法先将数据集打乱，之后根据参数设置划分出train/test对，同时可以保证每组划分中类别比例相同。"
   ]
  },
  {
   "cell_type": "code",
   "execution_count": 55,
   "metadata": {},
   "outputs": [],
   "source": [
    "#划分训练集和测试集\n",
    "from sklearn.model_selection import StratifiedShuffleSplit\n",
    "X = np.array(data.loc[:,:\"V28\"])\n",
    "y = np.array(data[\"Class_new\"])\n",
    "sess = StratifiedShuffleSplit(n_splits = 5,test_size = 0.4,random_state = 0)"
   ]
  },
  {
   "cell_type": "code",
   "execution_count": 56,
   "metadata": {},
   "outputs": [],
   "source": [
    "for train_index,test_index in sess.split(X, y):\n",
    "    X_train, X_test = X[train_index], X[test_index]\n",
    "    y_train, y_test = y[train_index], y[test_index]"
   ]
  },
  {
   "cell_type": "code",
   "execution_count": 57,
   "metadata": {},
   "outputs": [
    {
     "name": "stdout",
     "output_type": "stream",
     "text": [
      "train_size: 170884 test_size: 113923\n"
     ]
    }
   ],
   "source": [
    "print('train_size: %s' %len(y_train),\n",
    "     'test_size: %s' % len(y_test))"
   ]
  },
  {
   "cell_type": "code",
   "execution_count": 58,
   "metadata": {},
   "outputs": [
    {
     "data": {
      "image/png": "[encoded data removed]",
      "text/plain": [
       "<Figure size 504x360 with 1 Axes>"
      ]
     },
     "metadata": {},
     "output_type": "display_data"
    }
   ],
   "source": [
    "plt.figure(figsize = (7,5))\n",
    "count_classes = pd.value_counts(y_train, sort = True)\n",
    "count_classes.plot(kind = 'bar')\n",
    "plt.title(\"The histogram of fraud class in trainingdata \", fontsize = 13)\n",
    "plt.xlabel(\"Class\", fontsize = 13)\n",
    "plt.ylabel(\"Frequency\", fontsize = 15)\n",
    "plt.xticks(rotation=0)\n",
    "plt.show()"
   ]
  },
  {
   "cell_type": "markdown",
   "metadata": {},
   "source": [
    "从训练集的两种类别的直方图来看，“0”类数据远多于“1”类数据，数据存在不平衡现象，在建模之前需要进行处理。"
   ]
  },
  {
   "cell_type": "markdown",
   "metadata": {},
   "source": [
    "## <a id=3.2></a>3.2 过采样平衡样本\n",
    "这里我们将对“0”类数据进行过采样来保证数据平衡，采用的方法为：随机过采样、SMOTE过采样和综合过采样。"
   ]
  },
  {
   "cell_type": "code",
   "execution_count": null,
   "metadata": {},
   "outputs": [],
   "source": [
    "from imblearn.over_sampling import RandomOverSampler, SMOTE\n",
    "from imblearn.combine import SMOTETomek\n",
    "\n",
    "ros = RandomOverSampler(random_state = 0, ratio = 'auto') # 随机过采样\n",
    "sos = SMOTE(random_state = 0)      # SMOTE过采样\n",
    "kos = SMOTETomek(random_state = 0)  # 综合采样\n",
    "\n",
    "X_ros, y_ros = ros.fit_sample(X_train, y_train)\n",
    "X_sos, y_sos = sos.fit_sample(X_train, y_train)\n",
    "X_kos, y_kos = kos.fit_sample(X_train, y_train)"
   ]
  },
  {
   "cell_type": "code",
   "execution_count": null,
   "metadata": {},
   "outputs": [],
   "source": [
    "print('ros: %s, sos:%s, kos:%s' %(len(y_ros), len(y_sos), len(y_kos)))"
   ]
  },
  {
   "cell_type": "code",
   "execution_count": null,
   "metadata": {},
   "outputs": [],
   "source": [
    "y_ros.sum(), y_sos.sum(), y_kos.sum()"
   ]
  },
  {
   "cell_type": "markdown",
   "metadata": {},
   "source": [
    "过采样后，两类样本均衡，下面将对直接划分的训练集和三种过采样方法得到的数据集建立决策树模型进行预测，选择预测效果好的数据集进行后续建模。"
   ]
  },
  {
   "cell_type": "code",
   "execution_count": null,
   "metadata": {},
   "outputs": [],
   "source": [
    "from sklearn.tree import DecisionTreeClassifier\n",
    "from sklearn.model_selection import GridSearchCV"
   ]
  },
  {
   "cell_type": "code",
   "execution_count": null,
   "metadata": {},
   "outputs": [],
   "source": [
    "clf = DecisionTreeClassifier(criterion = 'gini', random_state = 1234)\n",
    "param_grid = {'max_depth':[3, 4, 5, 6], 'max_leaf_nodes':[4, 6, 8, 10, 12]}\n",
    "cv = GridSearchCV(clf, param_grid = param_grid, scoring = 'f1')"
   ]
  },
  {
   "cell_type": "code",
   "execution_count": null,
   "metadata": {},
   "outputs": [],
   "source": [
    "data = [[X_train, y_train],\n",
    "        [X_ros, y_ros],\n",
    "        [X_sos, y_sos],\n",
    "        [X_kos, y_kos]]\n",
    "\n",
    "for features, labels in data:\n",
    "    cv.fit(features, labels)\n",
    "    predict_test = cv.predict(X_test)\n",
    "    \n",
    "    print('auc:%.3f' %roc_auc_score(y_test, predict_test), \n",
    "          'recall:%.3f' %recall_score(y_test, predict_test),\n",
    "          'precision:%.3f' %precision_score(y_test, predict_test))"
   ]
  },
  {
   "cell_type": "markdown",
   "metadata": {},
   "source": [
    "从直接划分的训练集和三种采样方法得到的数据集的决策树建模结果来看，随机过采样的数据集得到的auc值最高，下面则用该组数据集进行建模训练。"
   ]
  },
  {
   "cell_type": "markdown",
   "metadata": {},
   "source": [
    "## <a id=3.3></a>3.3 建立预测模型\n",
    "下面将借助sklearn分别建立逻辑回归、随机森林和GBDT模型。"
   ]
  },
  {
   "cell_type": "code",
   "execution_count": null,
   "metadata": {},
   "outputs": [],
   "source": [
    "train_data = X_ros\n",
    "train_target = y_ros\n",
    "test_target = y_test\n",
    "test_data = X_test"
   ]
  },
  {
   "cell_type": "code",
   "execution_count": null,
   "metadata": {},
   "outputs": [],
   "source": [
    "#逻辑回归\n",
    "from sklearn.linear_model import LogisticRegression\n",
    "lr = LogisticRegression(C = 1, penalty = 'l1')\n",
    "lr.fit(train_data,train_target)\n",
    "test_est = lr.predict(test_data)\n",
    "print(\"Logistic Regression accuracy:\")\n",
    "print(classification_report(test_target,test_est))\n",
    "fpr_test, tpr_test, th_test = roc_curve(test_target, test_est)\n",
    "print('Logistic Regression AUC: %.4f' %auc(fpr_test, tpr_test))"
   ]
  },
  {
   "cell_type": "code",
   "execution_count": null,
   "metadata": {},
   "outputs": [],
   "source": [
    "#随机森林\n",
    "import sklearn.tree as tree\n",
    "import sklearn.ensemble as ensemble\n",
    "rf = ensemble.RandomForestClassifier(criterion = 'entropy',max_depth = 10,n_estimators = 15,\n",
    "                                   max_features = 0.6,min_samples_split = 50)\n",
    "rf.fit(train_data, train_target)\n",
    "test_est = rf.predict(test_data)\n",
    "print(\"Random Forest accuracy:\")\n",
    "print(classification_report(test_target,test_est))\n",
    "fpr_test, tpr_test, th_test = roc_curve(test_target, test_est)\n",
    "print('Random Forest AUC: %.4f' %auc(fpr_test, tpr_test))"
   ]
  },
  {
   "cell_type": "code",
   "execution_count": null,
   "metadata": {},
   "outputs": [],
   "source": [
    "#GBDT\n",
    "gb = ensemble.GradientBoostingClassifier(loss = 'exponential',learning_rate = 0.2,n_estimators = 40,\n",
    "                                       max_depth = 3,min_samples_split = 30)\n",
    "gb.fit(train_data, train_target)\n",
    "test_est = gb.predict(test_data)\n",
    "print(\"GradientBoosting accuracy:\")\n",
    "print(classification_report(test_target,test_est))\n",
    "fpr_test, tpr_test, th_test = roc_curve(test_target, test_est)\n",
    "print('GradientBoosting AUC : %.4f' %auc(fpr_test, tpr_test))"
   ]
  },
  {
   "cell_type": "markdown",
   "metadata": {},
   "source": [
    "从三种模型的建模结果来看，逻辑回归的f1值为0.97，auc值约为0.96；随机森林的f1值为0.99，auc值约为0.94；GBDT的f1值为0.98，auc的值约为0.97 。三种模型的效果差距不大，但从auc的角度来看，GBDT的效果更好。"
   ]
  },
  {
   "cell_type": "markdown",
   "metadata": {},
   "source": [
    "## <a id=3.4></a>3.4 寻找最优参数\n",
    "由于树模型的参数较多，参数的选择对模型效果起着重要作用。下面将在上述模型的基础上借助`GridSearchCV`对参数取值进行网格搜索，选出模型auc值最大的那组参数。注意到，各个参数的设置范围可能较大，我们不可能将参数的所有取值遍历到，只能在某些范围内选取某些值进行搜索，因此得到的最优参数可能并不是模型真正的最优参数。"
   ]
  },
  {
   "cell_type": "code",
   "execution_count": null,
   "metadata": {},
   "outputs": [],
   "source": [
    "#随机森林\n",
    "param_grid = {\n",
    "    'criterion':['entropy','gini'],\n",
    "    'max_depth':[8,10,12],\n",
    "    'n_estimators':[11,13,15],  \n",
    "    'max_features':[0.3,0.4,0.5], \n",
    "    'min_samples_split':[4,8,12] \n",
    "}\n",
    "\n",
    "rfc = ensemble.RandomForestClassifier()\n",
    "rfccv = GridSearchCV(estimator = rfc, param_grid = param_grid, scoring = 'roc_auc', cv = 4)\n",
    "rfccv.fit(train_data, train_target)\n",
    "test_est = rfccv.predict(test_data)\n",
    "print(\"Random Forest accuracy:\")\n",
    "print(classification_report(test_target,test_est))\n",
    "fpr_test, tpr_test, th_test = roc_curve(test_target, test_est)\n",
    "print('Random Forest AUC: %.4f' %auc(fpr_test, tpr_test))"
   ]
  },
  {
   "cell_type": "code",
   "execution_count": null,
   "metadata": {},
   "outputs": [],
   "source": [
    "rfccv.best_params_"
   ]
  },
  {
   "cell_type": "markdown",
   "metadata": {},
   "source": [
    "从随机森林的参数搜索结果来看，当设定树的特征选择准则为信息增益，节点划分的最小样本数为4时，建立包含15棵最大深度为12的随机森林，效果在局部达到最好。此时的auc值约为0.93 ，比未进行参数搜索的随机森林模型的auc值小一些，这主要是由于节点划分的最小样本数减小造成的。由此可以发现，网格搜索中，参数的范围设定对搜索结果起着重要作用，并且在搜索时仅能搭建出局部最优模型，而非全局最优模型。"
   ]
  },
  {
   "cell_type": "code",
   "execution_count": null,
   "metadata": {},
   "outputs": [],
   "source": [
    "#GBDT\n",
    "param_grid = {\n",
    "    'learning_rate':[0.1,0.3,0.5],\n",
    "    'n_estimators':[15,20,30], \n",
    "    'max_depth':[1,2,3],  \n",
    "    'min_samples_split':[12,16,20] \n",
    "}\n",
    "\n",
    "gbc = ensemble.GradientBoostingClassifier()\n",
    "gbccv = GridSearchCV(estimator = gbc, param_grid = param_grid, scoring = 'roc_auc', cv = 4)\n",
    "gbccv.fit(train_data, train_target)\n",
    "test_est = gbccv.predict(test_data)\n",
    "print(\"Gradient Boosting accuracy:\")\n",
    "print(classification_report(test_target,test_est))\n",
    "fpr_test, tpr_test, th_test = roc_curve(test_target, test_est)\n",
    "print('Gradient Boosting AUC : %.4f' %auc(fpr_test, tpr_test))"
   ]
  },
  {
   "cell_type": "code",
   "execution_count": null,
   "metadata": {},
   "outputs": [],
   "source": [
    "gbccv.best_params_"
   ]
  },
  {
   "cell_type": "markdown",
   "metadata": {},
   "source": [
    "从GBDT的搜索结果来看，当学习率为0.5，节点划分的最小样本数为16时，建立包含30棵最大深度为3的提升树模型时，auc值最高，约为0.97，效果较好。"
   ]
  },
  {
   "cell_type": "markdown",
   "metadata": {},
   "source": [
    "<div id=\"4\"></div>\n",
    "# 4.总结"
   ]
  },
  {
   "cell_type": "markdown",
   "metadata": {},
   "source": [
    "本案例从信用数据出发，主要通过异常值检测、过采样平衡样本、分类预测等技术建立了一套信用卡反欺诈模型。首先，分别采用孤立森林、One-Class SVM和autoencoder这三种方法进行数据的异常值检测，最终对三种方法采取多数投票的原则确定数据中的异常值。由于正常值与异常值的数据比例差距较大，本文分别使用了随机过采样、SMOTE过采样和综合过采样三种采样方法，通过决策树模型选择出最优的采样数据作为训练集。最后对训练数据分别使用随机森林和GBDT模型进行分类预测。结果显示，从auc值的角度考虑，GBDT具有更好的预测效果。本案例通过多种方法进行检测，对比各个模型的结果，通过本次案例能够为建模的学习提供参考。"
   ]
  },
  {
   "cell_type": "code",
   "execution_count": null,
   "metadata": {},
   "outputs": [],
   "source": []
  }
 ],
 "metadata": {
  "kernelspec": {
   "display_name": "Python 3",
   "language": "python",
   "name": "python3"
  },
  "language_info": {
   "codemirror_mode": {
    "name": "ipython",
    "version": 3
   },
   "file_extension": ".py",
   "mimetype": "text/x-python",
   "name": "python",
   "nbconvert_exporter": "python",
   "pygments_lexer": "ipython3",
   "version": "3.6.5"
  }
 },
 "nbformat": 4,
 "nbformat_minor": 2
}
