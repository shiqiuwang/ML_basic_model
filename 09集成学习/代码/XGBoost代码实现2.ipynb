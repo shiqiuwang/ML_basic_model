{
 "cells": [
  {
   "cell_type": "markdown",
   "metadata": {},
   "source": [
    "# XGBoost代码实现2"
   ]
  },
  {
   "cell_type": "code",
   "execution_count": 32,
   "metadata": {},
   "outputs": [],
   "source": [
    "import xgboost as xgb\n",
    "from sklearn.metrics import accuracy_score\n",
    "import matplotlib.pyplot as plt"
   ]
  },
  {
   "cell_type": "markdown",
   "metadata": {},
   "source": [
    "#### 读取数据(把libsvm格式读取成以前我们常用的二维数组形式)"
   ]
  },
  {
   "cell_type": "code",
   "execution_count": 1,
   "metadata": {},
   "outputs": [],
   "source": [
    "from sklearn.datasets import load_svmlight_file\n",
    "#data_train = xgb.DMatrix('data/agaricus.txt.train')\n",
    "#data_test = xgb.DMatrix('data/agaricus.txt.test')\n",
    "X_train,y_train = load_svmlight_file('data/agaricus.txt.train')\n",
    "X_test,y_test = load_svmlight_file('data/agaricus.txt.test')"
   ]
  },
  {
   "cell_type": "code",
   "execution_count": 6,
   "metadata": {},
   "outputs": [
    {
     "data": {
      "text/plain": [
       "(6513, 126)"
      ]
     },
     "execution_count": 6,
     "metadata": {},
     "output_type": "execute_result"
    }
   ],
   "source": [
    "X_train.toarray().shape"
   ]
  },
  {
   "cell_type": "markdown",
   "metadata": {},
   "source": [
    "#### 设置参数"
   ]
  },
  {
   "cell_type": "code",
   "execution_count": 9,
   "metadata": {},
   "outputs": [
    {
     "data": {
      "text/plain": [
       "XGBClassifier(base_score=0.5, booster='gbtree', colsample_bylevel=1,\n",
       "              colsample_bynode=1, colsample_bytree=1, gamma=0, learning_rate=1,\n",
       "              max_delta_step=0, max_depth=2, min_child_weight=1, missing=None,\n",
       "              n_estimators=6, n_jobs=1, nthread=None,\n",
       "              objective='binary:logistic', random_state=0, reg_alpha=0,\n",
       "              reg_lambda=1, scale_pos_weight=1, seed=None, silent=True,\n",
       "              subsample=1, verbosity=1)"
      ]
     },
     "execution_count": 9,
     "metadata": {},
     "output_type": "execute_result"
    }
   ],
   "source": [
    "model =xgb.XGBClassifier(max_depth=2, learning_rate=1, n_estimators=6, \n",
    "                   silent=True, objective='binary:logistic')\n",
    "\n",
    "model.fit(X_train, y_train)"
   ]
  },
  {
   "cell_type": "markdown",
   "metadata": {},
   "source": [
    "#### 计算准确率"
   ]
  },
  {
   "cell_type": "code",
   "execution_count": 13,
   "metadata": {},
   "outputs": [
    {
     "name": "stdout",
     "output_type": "stream",
     "text": [
      "Train Accuary: 99.88%\n"
     ]
    }
   ],
   "source": [
    "# 训练集上准确率\n",
    "train_preds = model.predict(X_train)\n",
    "train_predictions = [round(value) for value in train_preds]\n",
    "\n",
    "train_accuracy = accuracy_score(y_train, train_predictions)\n",
    "print (\"Train Accuary: %.2f%%\" % (train_accuracy * 100.0))\n"
   ]
  },
  {
   "cell_type": "code",
   "execution_count": 15,
   "metadata": {},
   "outputs": [
    {
     "name": "stdout",
     "output_type": "stream",
     "text": [
      "Test Accuracy: 100.00%\n"
     ]
    }
   ],
   "source": [
    "# 测试集上准确率\n",
    "# make prediction\n",
    "preds = model.predict(X_test)\n",
    "predictions = [round(value) for value in preds]\n",
    "\n",
    "test_accuracy = accuracy_score(y_test, predictions)\n",
    "print(\"Test Accuracy: %.2f%%\" % (test_accuracy * 100.0))"
   ]
  },
  {
   "cell_type": "code",
   "execution_count": null,
   "metadata": {},
   "outputs": [],
   "source": []
  },
  {
   "cell_type": "markdown",
   "metadata": {},
   "source": [
    "# GridSearchcv 搜索最优参数"
   ]
  },
  {
   "cell_type": "code",
   "execution_count": 21,
   "metadata": {},
   "outputs": [],
   "source": [
    "from sklearn.model_selection import GridSearchCV"
   ]
  },
  {
   "cell_type": "code",
   "execution_count": 24,
   "metadata": {},
   "outputs": [
    {
     "data": {
      "text/plain": [
       "GridSearchCV(cv=5, error_score='raise-deprecating',\n",
       "             estimator=XGBClassifier(base_score=0.5, booster='gbtree',\n",
       "                                     colsample_bylevel=1, colsample_bynode=1,\n",
       "                                     colsample_bytree=1, gamma=0,\n",
       "                                     learning_rate=0.1, max_delta_step=0,\n",
       "                                     max_depth=3, min_child_weight=1,\n",
       "                                     missing=None, n_estimators=100, n_jobs=1,\n",
       "                                     nthread=None, objective='binary:logistic',\n",
       "                                     random_state=0, reg_alpha=0, reg_lambda=1,\n",
       "                                     scale_pos_weight=1, seed=None, silent=True,\n",
       "                                     subsample=1, verbosity=1),\n",
       "             iid='warn', n_jobs=None,\n",
       "             param_grid={'max_depth': range(1, 10),\n",
       "                         'n_estimators': range(1, 51)},\n",
       "             pre_dispatch='2*n_jobs', refit=True, return_train_score=False,\n",
       "             scoring='accuracy', verbose=0)"
      ]
     },
     "execution_count": 24,
     "metadata": {},
     "output_type": "execute_result"
    }
   ],
   "source": [
    "model = xgb.XGBClassifier(learning_rate=0.1, silent=True, objective='binary:logistic')\n",
    "param_grid = {\n",
    " 'n_estimators': range(1, 51, 1),\n",
    " 'max_depth':range(1,10,1)\n",
    "}\n",
    "clf = GridSearchCV(model, param_grid, \"accuracy\",cv=5)\n",
    "clf.fit(X_train, y_train)"
   ]
  },
  {
   "cell_type": "code",
   "execution_count": 25,
   "metadata": {},
   "outputs": [
    {
     "data": {
      "text/plain": [
       "({'max_depth': 2, 'n_estimators': 30}, 0.9841854752034392)"
      ]
     },
     "execution_count": 25,
     "metadata": {},
     "output_type": "execute_result"
    }
   ],
   "source": [
    "clf.best_params_, clf.best_score_"
   ]
  },
  {
   "cell_type": "code",
   "execution_count": null,
   "metadata": {},
   "outputs": [],
   "source": []
  },
  {
   "cell_type": "markdown",
   "metadata": {},
   "source": [
    "# early-stop\n",
    "\n",
    "我们设置验证valid集，当我们迭代过程中发现在验证集上错误率增加，则提前停止迭代。"
   ]
  },
  {
   "cell_type": "code",
   "execution_count": 26,
   "metadata": {},
   "outputs": [],
   "source": [
    "from sklearn.model_selection import train_test_split"
   ]
  },
  {
   "cell_type": "code",
   "execution_count": 28,
   "metadata": {},
   "outputs": [],
   "source": [
    "X_train_part, X_validate, y_train_part, y_validate = train_test_split(X_train, y_train, test_size=0.3,random_state=0)"
   ]
  },
  {
   "cell_type": "code",
   "execution_count": 29,
   "metadata": {},
   "outputs": [
    {
     "name": "stdout",
     "output_type": "stream",
     "text": [
      "[0]\tvalidation_0-error:0.048618\n",
      "Will train until validation_0-error hasn't improved in 10 rounds.\n",
      "[1]\tvalidation_0-error:0.042989\n",
      "[2]\tvalidation_0-error:0.048618\n",
      "[3]\tvalidation_0-error:0.042989\n",
      "[4]\tvalidation_0-error:0.048618\n",
      "[5]\tvalidation_0-error:0.048618\n",
      "[6]\tvalidation_0-error:0.042989\n",
      "[7]\tvalidation_0-error:0.042989\n",
      "[8]\tvalidation_0-error:0.042989\n",
      "[9]\tvalidation_0-error:0.042989\n",
      "[10]\tvalidation_0-error:0.042989\n",
      "[11]\tvalidation_0-error:0.024053\n",
      "[12]\tvalidation_0-error:0.029683\n",
      "[13]\tvalidation_0-error:0.019447\n",
      "[14]\tvalidation_0-error:0.019447\n",
      "[15]\tvalidation_0-error:0.019447\n",
      "[16]\tvalidation_0-error:0.019447\n",
      "[17]\tvalidation_0-error:0.019447\n",
      "[18]\tvalidation_0-error:0.019447\n",
      "[19]\tvalidation_0-error:0.019447\n",
      "[20]\tvalidation_0-error:0.019447\n",
      "[21]\tvalidation_0-error:0.026612\n",
      "[22]\tvalidation_0-error:0.023541\n",
      "[23]\tvalidation_0-error:0.023541\n",
      "Stopping. Best iteration:\n",
      "[13]\tvalidation_0-error:0.019447\n",
      "\n"
     ]
    },
    {
     "data": {
      "text/plain": [
       "XGBClassifier(base_score=0.5, booster='gbtree', colsample_bylevel=1,\n",
       "              colsample_bynode=1, colsample_bytree=1, gamma=0,\n",
       "              learning_rate=0.1, max_delta_step=0, max_depth=2,\n",
       "              min_child_weight=1, missing=None, n_estimators=100, n_jobs=1,\n",
       "              nthread=None, objective='binary:logistic', random_state=0,\n",
       "              reg_alpha=0, reg_lambda=1, scale_pos_weight=1, seed=None,\n",
       "              silent=True, subsample=1, verbosity=1)"
      ]
     },
     "execution_count": 29,
     "metadata": {},
     "output_type": "execute_result"
    }
   ],
   "source": [
    "# 设置boosting迭代计算次数\n",
    "num_round = 100\n",
    "\n",
    "bst =xgb.XGBClassifier(max_depth=2, learning_rate=0.1, n_estimators=num_round, silent=True, objective='binary:logistic')\n",
    "\n",
    "eval_set =[(X_validate, y_validate)]\n",
    "bst.fit(X_train_part, y_train_part, early_stopping_rounds=10, eval_metric=\"error\",\n",
    "    eval_set=eval_set, verbose=True)"
   ]
  },
  {
   "cell_type": "code",
   "execution_count": 30,
   "metadata": {},
   "outputs": [
    {
     "data": {
      "text/plain": [
       "{'validation_0': {'error': [0.048618,\n",
       "   0.042989,\n",
       "   0.048618,\n",
       "   0.042989,\n",
       "   0.048618,\n",
       "   0.048618,\n",
       "   0.042989,\n",
       "   0.042989,\n",
       "   0.042989,\n",
       "   0.042989,\n",
       "   0.042989,\n",
       "   0.024053,\n",
       "   0.029683,\n",
       "   0.019447,\n",
       "   0.019447,\n",
       "   0.019447,\n",
       "   0.019447,\n",
       "   0.019447,\n",
       "   0.019447,\n",
       "   0.019447,\n",
       "   0.019447,\n",
       "   0.026612,\n",
       "   0.023541]}}"
      ]
     },
     "execution_count": 30,
     "metadata": {},
     "output_type": "execute_result"
    }
   ],
   "source": [
    "results = bst.evals_result()\n",
    "results"
   ]
  },
  {
   "cell_type": "markdown",
   "metadata": {},
   "source": [
    "#### 我们可以将上面的错误率进行可视化，方便我们更直观的观察"
   ]
  },
  {
   "cell_type": "code",
   "execution_count": 33,
   "metadata": {},
   "outputs": [
    {
     "data": {
      "image/png": "[encoded data removed]",
      "text/plain": [
       "<Figure size 432x288 with 1 Axes>"
      ]
     },
     "metadata": {},
     "output_type": "display_data"
    }
   ],
   "source": [
    "results = bst.evals_result()\n",
    "#print(results)\n",
    "\n",
    "epochs = len(results['validation_0']['error'])\n",
    "x_axis = range(0, epochs)\n",
    "\n",
    "# plot log loss\n",
    "\n",
    "plt.plot(x_axis, results['validation_0']['error'], label='Test')\n",
    "\n",
    "plt.ylabel('Error')\n",
    "plt.xlabel('Round')\n",
    "plt.title('XGBoost Early Stop')\n",
    "plt.show()"
   ]
  },
  {
   "cell_type": "markdown",
   "metadata": {},
   "source": [
    "# 学习曲线"
   ]
  },
  {
   "cell_type": "code",
   "execution_count": 35,
   "metadata": {},
   "outputs": [
    {
     "name": "stdout",
     "output_type": "stream",
     "text": [
      "[0]\tvalidation_0-error:0.045624\tvalidation_0-logloss:0.614662\tvalidation_1-error:0.048618\tvalidation_1-logloss:0.615088\n",
      "[1]\tvalidation_0-error:0.041018\tvalidation_0-logloss:0.550026\tvalidation_1-error:0.042989\tvalidation_1-logloss:0.550209\n",
      "[2]\tvalidation_0-error:0.045624\tvalidation_0-logloss:0.495522\tvalidation_1-error:0.048618\tvalidation_1-logloss:0.49614\n",
      "[3]\tvalidation_0-error:0.041018\tvalidation_0-logloss:0.449244\tvalidation_1-error:0.042989\tvalidation_1-logloss:0.449696\n",
      "[4]\tvalidation_0-error:0.045624\tvalidation_0-logloss:0.409657\tvalidation_1-error:0.048618\tvalidation_1-logloss:0.410504\n",
      "[5]\tvalidation_0-error:0.045624\tvalidation_0-logloss:0.375021\tvalidation_1-error:0.048618\tvalidation_1-logloss:0.375261\n",
      "[6]\tvalidation_0-error:0.041018\tvalidation_0-logloss:0.343731\tvalidation_1-error:0.042989\tvalidation_1-logloss:0.344092\n",
      "[7]\tvalidation_0-error:0.041018\tvalidation_0-logloss:0.316475\tvalidation_1-error:0.042989\tvalidation_1-logloss:0.316797\n",
      "[8]\tvalidation_0-error:0.041018\tvalidation_0-logloss:0.292281\tvalidation_1-error:0.042989\tvalidation_1-logloss:0.292168\n",
      "[9]\tvalidation_0-error:0.041018\tvalidation_0-logloss:0.270281\tvalidation_1-error:0.042989\tvalidation_1-logloss:0.270305\n",
      "[10]\tvalidation_0-error:0.041018\tvalidation_0-logloss:0.250843\tvalidation_1-error:0.042989\tvalidation_1-logloss:0.250749\n",
      "[11]\tvalidation_0-error:0.023031\tvalidation_0-logloss:0.233488\tvalidation_1-error:0.024053\tvalidation_1-logloss:0.233221\n",
      "[12]\tvalidation_0-error:0.028954\tvalidation_0-logloss:0.214126\tvalidation_1-error:0.029683\tvalidation_1-logloss:0.214109\n",
      "[13]\tvalidation_0-error:0.016451\tvalidation_0-logloss:0.197265\tvalidation_1-error:0.019447\tvalidation_1-logloss:0.197466\n",
      "[14]\tvalidation_0-error:0.016451\tvalidation_0-logloss:0.182541\tvalidation_1-error:0.019447\tvalidation_1-logloss:0.182957\n",
      "[15]\tvalidation_0-error:0.016451\tvalidation_0-logloss:0.169691\tvalidation_1-error:0.019447\tvalidation_1-logloss:0.170289\n",
      "[16]\tvalidation_0-error:0.016451\tvalidation_0-logloss:0.158453\tvalidation_1-error:0.019447\tvalidation_1-logloss:0.159225\n",
      "[17]\tvalidation_0-error:0.016451\tvalidation_0-logloss:0.149991\tvalidation_1-error:0.019447\tvalidation_1-logloss:0.151064\n",
      "[18]\tvalidation_0-error:0.016451\tvalidation_0-logloss:0.141083\tvalidation_1-error:0.019447\tvalidation_1-logloss:0.14227\n",
      "[19]\tvalidation_0-error:0.016451\tvalidation_0-logloss:0.134176\tvalidation_1-error:0.019447\tvalidation_1-logloss:0.135443\n",
      "[20]\tvalidation_0-error:0.016451\tvalidation_0-logloss:0.126909\tvalidation_1-error:0.019447\tvalidation_1-logloss:0.12827\n",
      "[21]\tvalidation_0-error:0.025005\tvalidation_0-logloss:0.120552\tvalidation_1-error:0.026612\tvalidation_1-logloss:0.121991\n",
      "[22]\tvalidation_0-error:0.020619\tvalidation_0-logloss:0.115349\tvalidation_1-error:0.023541\tvalidation_1-logloss:0.11683\n",
      "[23]\tvalidation_0-error:0.020619\tvalidation_0-logloss:0.110155\tvalidation_1-error:0.023541\tvalidation_1-logloss:0.111688\n",
      "[24]\tvalidation_0-error:0.020619\tvalidation_0-logloss:0.105854\tvalidation_1-error:0.023541\tvalidation_1-logloss:0.107253\n",
      "[25]\tvalidation_0-error:0.020619\tvalidation_0-logloss:0.101958\tvalidation_1-error:0.023541\tvalidation_1-logloss:0.10337\n",
      "[26]\tvalidation_0-error:0.020619\tvalidation_0-logloss:0.097992\tvalidation_1-error:0.023541\tvalidation_1-logloss:0.099448\n",
      "[27]\tvalidation_0-error:0.020619\tvalidation_0-logloss:0.094533\tvalidation_1-error:0.023541\tvalidation_1-logloss:0.096204\n",
      "[28]\tvalidation_0-error:0.020619\tvalidation_0-logloss:0.091122\tvalidation_1-error:0.023541\tvalidation_1-logloss:0.092829\n",
      "[29]\tvalidation_0-error:0.020619\tvalidation_0-logloss:0.088092\tvalidation_1-error:0.023541\tvalidation_1-logloss:0.08991\n",
      "[30]\tvalidation_0-error:0.020619\tvalidation_0-logloss:0.085214\tvalidation_1-error:0.023541\tvalidation_1-logloss:0.086927\n",
      "[31]\tvalidation_0-error:0.020619\tvalidation_0-logloss:0.081874\tvalidation_1-error:0.023541\tvalidation_1-logloss:0.083243\n",
      "[32]\tvalidation_0-error:0.020619\tvalidation_0-logloss:0.078828\tvalidation_1-error:0.023541\tvalidation_1-logloss:0.08027\n",
      "[33]\tvalidation_0-error:0.020619\tvalidation_0-logloss:0.07606\tvalidation_1-error:0.023541\tvalidation_1-logloss:0.077215\n",
      "[34]\tvalidation_0-error:0.020619\tvalidation_0-logloss:0.073493\tvalidation_1-error:0.023541\tvalidation_1-logloss:0.074906\n",
      "[35]\tvalidation_0-error:0.020619\tvalidation_0-logloss:0.070785\tvalidation_1-error:0.023541\tvalidation_1-logloss:0.072131\n",
      "[36]\tvalidation_0-error:0.014696\tvalidation_0-logloss:0.068438\tvalidation_1-error:0.017912\tvalidation_1-logloss:0.069846\n",
      "[37]\tvalidation_0-error:0.01009\tvalidation_0-logloss:0.066194\tvalidation_1-error:0.010235\tvalidation_1-logloss:0.067424\n",
      "[38]\tvalidation_0-error:0.014696\tvalidation_0-logloss:0.063997\tvalidation_1-error:0.017912\tvalidation_1-logloss:0.06544\n",
      "[39]\tvalidation_0-error:0.001535\tvalidation_0-logloss:0.061881\tvalidation_1-error:0.003071\tvalidation_1-logloss:0.063493\n",
      "[40]\tvalidation_0-error:0.001535\tvalidation_0-logloss:0.059879\tvalidation_1-error:0.003071\tvalidation_1-logloss:0.061325\n",
      "[41]\tvalidation_0-error:0.001535\tvalidation_0-logloss:0.057975\tvalidation_1-error:0.003071\tvalidation_1-logloss:0.05936\n",
      "[42]\tvalidation_0-error:0.001535\tvalidation_0-logloss:0.056209\tvalidation_1-error:0.003071\tvalidation_1-logloss:0.057743\n",
      "[43]\tvalidation_0-error:0.001535\tvalidation_0-logloss:0.054409\tvalidation_1-error:0.003071\tvalidation_1-logloss:0.056002\n",
      "[44]\tvalidation_0-error:0.001535\tvalidation_0-logloss:0.052745\tvalidation_1-error:0.003071\tvalidation_1-logloss:0.054257\n",
      "[45]\tvalidation_0-error:0.001535\tvalidation_0-logloss:0.051212\tvalidation_1-error:0.003071\tvalidation_1-logloss:0.052661\n",
      "[46]\tvalidation_0-error:0.001535\tvalidation_0-logloss:0.049716\tvalidation_1-error:0.003071\tvalidation_1-logloss:0.051307\n",
      "[47]\tvalidation_0-error:0.001535\tvalidation_0-logloss:0.048202\tvalidation_1-error:0.003071\tvalidation_1-logloss:0.049848\n",
      "[48]\tvalidation_0-error:0.001535\tvalidation_0-logloss:0.0468\tvalidation_1-error:0.003071\tvalidation_1-logloss:0.048379\n",
      "[49]\tvalidation_0-error:0.001535\tvalidation_0-logloss:0.045522\tvalidation_1-error:0.003071\tvalidation_1-logloss:0.047151\n",
      "[50]\tvalidation_0-error:0.001535\tvalidation_0-logloss:0.044227\tvalidation_1-error:0.003071\tvalidation_1-logloss:0.04583\n",
      "[51]\tvalidation_0-error:0.001535\tvalidation_0-logloss:0.043019\tvalidation_1-error:0.003071\tvalidation_1-logloss:0.044561\n",
      "[52]\tvalidation_0-error:0.001535\tvalidation_0-logloss:0.041896\tvalidation_1-error:0.003071\tvalidation_1-logloss:0.043581\n",
      "[53]\tvalidation_0-error:0.001535\tvalidation_0-logloss:0.040718\tvalidation_1-error:0.003071\tvalidation_1-logloss:0.04234\n",
      "[54]\tvalidation_0-error:0.001535\tvalidation_0-logloss:0.039669\tvalidation_1-error:0.003071\tvalidation_1-logloss:0.041341\n",
      "[55]\tvalidation_0-error:0.001535\tvalidation_0-logloss:0.038661\tvalidation_1-error:0.003071\tvalidation_1-logloss:0.040273\n",
      "[56]\tvalidation_0-error:0.001535\tvalidation_0-logloss:0.037658\tvalidation_1-error:0.003071\tvalidation_1-logloss:0.039398\n",
      "[57]\tvalidation_0-error:0.001535\tvalidation_0-logloss:0.036629\tvalidation_1-error:0.003071\tvalidation_1-logloss:0.038493\n",
      "[58]\tvalidation_0-error:0.001535\tvalidation_0-logloss:0.035693\tvalidation_1-error:0.003071\tvalidation_1-logloss:0.037512\n",
      "[59]\tvalidation_0-error:0.001535\tvalidation_0-logloss:0.034818\tvalidation_1-error:0.003071\tvalidation_1-logloss:0.036583\n",
      "[60]\tvalidation_0-error:0.001535\tvalidation_0-logloss:0.033933\tvalidation_1-error:0.003071\tvalidation_1-logloss:0.035813\n",
      "[61]\tvalidation_0-error:0.001535\tvalidation_0-logloss:0.032721\tvalidation_1-error:0.003071\tvalidation_1-logloss:0.034503\n",
      "[62]\tvalidation_0-error:0.001535\tvalidation_0-logloss:0.03192\tvalidation_1-error:0.003071\tvalidation_1-logloss:0.033668\n",
      "[63]\tvalidation_0-error:0.001535\tvalidation_0-logloss:0.031157\tvalidation_1-error:0.003071\tvalidation_1-logloss:0.032955\n",
      "[64]\tvalidation_0-error:0.001535\tvalidation_0-logloss:0.030408\tvalidation_1-error:0.003071\tvalidation_1-logloss:0.03216\n",
      "[65]\tvalidation_0-error:0.001535\tvalidation_0-logloss:0.029685\tvalidation_1-error:0.003071\tvalidation_1-logloss:0.031401\n",
      "[66]\tvalidation_0-error:0.001535\tvalidation_0-logloss:0.029011\tvalidation_1-error:0.003071\tvalidation_1-logloss:0.030794\n",
      "[67]\tvalidation_0-error:0.001535\tvalidation_0-logloss:0.028339\tvalidation_1-error:0.003071\tvalidation_1-logloss:0.030173\n"
     ]
    },
    {
     "name": "stdout",
     "output_type": "stream",
     "text": [
      "[68]\tvalidation_0-error:0.001535\tvalidation_0-logloss:0.027707\tvalidation_1-error:0.003071\tvalidation_1-logloss:0.02948\n",
      "[69]\tvalidation_0-error:0.001535\tvalidation_0-logloss:0.027084\tvalidation_1-error:0.003071\tvalidation_1-logloss:0.02896\n",
      "[70]\tvalidation_0-error:0.001535\tvalidation_0-logloss:0.026461\tvalidation_1-error:0.003071\tvalidation_1-logloss:0.028341\n",
      "[71]\tvalidation_0-error:0.001535\tvalidation_0-logloss:0.025886\tvalidation_1-error:0.003071\tvalidation_1-logloss:0.027733\n",
      "[72]\tvalidation_0-error:0.001535\tvalidation_0-logloss:0.025325\tvalidation_1-error:0.003071\tvalidation_1-logloss:0.027121\n",
      "[73]\tvalidation_0-error:0.001535\tvalidation_0-logloss:0.024787\tvalidation_1-error:0.003071\tvalidation_1-logloss:0.02663\n",
      "[74]\tvalidation_0-error:0.001535\tvalidation_0-logloss:0.024274\tvalidation_1-error:0.003071\tvalidation_1-logloss:0.025998\n",
      "[75]\tvalidation_0-error:0.001535\tvalidation_0-logloss:0.023756\tvalidation_1-error:0.003071\tvalidation_1-logloss:0.02553\n",
      "[76]\tvalidation_0-error:0.001535\tvalidation_0-logloss:0.023266\tvalidation_1-error:0.003071\tvalidation_1-logloss:0.025122\n",
      "[77]\tvalidation_0-error:0.001535\tvalidation_0-logloss:0.022778\tvalidation_1-error:0.003071\tvalidation_1-logloss:0.024611\n",
      "[78]\tvalidation_0-error:0.001535\tvalidation_0-logloss:0.022327\tvalidation_1-error:0.003071\tvalidation_1-logloss:0.024205\n",
      "[79]\tvalidation_0-error:0.001535\tvalidation_0-logloss:0.021861\tvalidation_1-error:0.003071\tvalidation_1-logloss:0.023779\n",
      "[80]\tvalidation_0-error:0.001535\tvalidation_0-logloss:0.021435\tvalidation_1-error:0.003071\tvalidation_1-logloss:0.023298\n",
      "[81]\tvalidation_0-error:0.001535\tvalidation_0-logloss:0.020903\tvalidation_1-error:0.003071\tvalidation_1-logloss:0.022712\n",
      "[82]\tvalidation_0-error:0.001535\tvalidation_0-logloss:0.020497\tvalidation_1-error:0.003071\tvalidation_1-logloss:0.02239\n",
      "[83]\tvalidation_0-error:0.001535\tvalidation_0-logloss:0.020087\tvalidation_1-error:0.003071\tvalidation_1-logloss:0.022057\n",
      "[84]\tvalidation_0-error:0.001535\tvalidation_0-logloss:0.019691\tvalidation_1-error:0.003071\tvalidation_1-logloss:0.02159\n",
      "[85]\tvalidation_0-error:0.001535\tvalidation_0-logloss:0.019314\tvalidation_1-error:0.003071\tvalidation_1-logloss:0.021259\n",
      "[86]\tvalidation_0-error:0.001535\tvalidation_0-logloss:0.018947\tvalidation_1-error:0.003071\tvalidation_1-logloss:0.020875\n",
      "[87]\tvalidation_0-error:0.001535\tvalidation_0-logloss:0.018366\tvalidation_1-error:0.003071\tvalidation_1-logloss:0.020208\n",
      "[88]\tvalidation_0-error:0.001535\tvalidation_0-logloss:0.018037\tvalidation_1-error:0.003071\tvalidation_1-logloss:0.019921\n",
      "[89]\tvalidation_0-error:0.001535\tvalidation_0-logloss:0.017715\tvalidation_1-error:0.003071\tvalidation_1-logloss:0.019556\n",
      "[90]\tvalidation_0-error:0.001535\tvalidation_0-logloss:0.01741\tvalidation_1-error:0.003071\tvalidation_1-logloss:0.019295\n",
      "[91]\tvalidation_0-error:0.001535\tvalidation_0-logloss:0.0171\tvalidation_1-error:0.003071\tvalidation_1-logloss:0.018976\n",
      "[92]\tvalidation_0-error:0.001535\tvalidation_0-logloss:0.016602\tvalidation_1-error:0.003071\tvalidation_1-logloss:0.018393\n",
      "[93]\tvalidation_0-error:0.001535\tvalidation_0-logloss:0.016016\tvalidation_1-error:0.003071\tvalidation_1-logloss:0.017481\n",
      "[94]\tvalidation_0-error:0.001535\tvalidation_0-logloss:0.015756\tvalidation_1-error:0.003071\tvalidation_1-logloss:0.017206\n",
      "[95]\tvalidation_0-error:0.001535\tvalidation_0-logloss:0.015474\tvalidation_1-error:0.003071\tvalidation_1-logloss:0.016922\n",
      "[96]\tvalidation_0-error:0.001535\tvalidation_0-logloss:0.015203\tvalidation_1-error:0.003071\tvalidation_1-logloss:0.016717\n",
      "[97]\tvalidation_0-error:0.001535\tvalidation_0-logloss:0.01492\tvalidation_1-error:0.003071\tvalidation_1-logloss:0.016405\n",
      "[98]\tvalidation_0-error:0.001535\tvalidation_0-logloss:0.014442\tvalidation_1-error:0.003071\tvalidation_1-logloss:0.015697\n",
      "[99]\tvalidation_0-error:0.001535\tvalidation_0-logloss:0.014218\tvalidation_1-error:0.003071\tvalidation_1-logloss:0.015432\n"
     ]
    },
    {
     "data": {
      "text/plain": [
       "XGBClassifier(base_score=0.5, booster='gbtree', colsample_bylevel=1,\n",
       "              colsample_bynode=1, colsample_bytree=1, gamma=0,\n",
       "              learning_rate=0.1, max_delta_step=0, max_depth=2,\n",
       "              min_child_weight=1, missing=None, n_estimators=100, n_jobs=1,\n",
       "              nthread=None, objective='binary:logistic', random_state=0,\n",
       "              reg_alpha=0, reg_lambda=1, scale_pos_weight=1, seed=None,\n",
       "              silent=True, subsample=1, verbosity=1)"
      ]
     },
     "execution_count": 35,
     "metadata": {},
     "output_type": "execute_result"
    }
   ],
   "source": [
    "# 设置boosting迭代计算次数\n",
    "num_round = 100\n",
    "\n",
    "# 没有 eraly_stop\n",
    "bst =xgb.XGBClassifier(max_depth=2, learning_rate=0.1, n_estimators=num_round, silent=True, objective='binary:logistic')\n",
    " \n",
    "eval_set = [(X_train_part, y_train_part), (X_validate, y_validate)]\n",
    "bst.fit(X_train_part, y_train_part, eval_metric=[\"error\", \"logloss\"], eval_set=eval_set, verbose=True)"
   ]
  },
  {
   "cell_type": "code",
   "execution_count": 36,
   "metadata": {},
   "outputs": [
    {
     "data": {
      "text/plain": [
       "{'validation_0': {'error': [0.045624,\n",
       "   0.041018,\n",
       "   0.045624,\n",
       "   0.041018,\n",
       "   0.045624,\n",
       "   0.045624,\n",
       "   0.041018,\n",
       "   0.041018,\n",
       "   0.041018,\n",
       "   0.041018,\n",
       "   0.041018,\n",
       "   0.023031,\n",
       "   0.028954,\n",
       "   0.016451,\n",
       "   0.016451,\n",
       "   0.016451,\n",
       "   0.016451,\n",
       "   0.016451,\n",
       "   0.016451,\n",
       "   0.016451,\n",
       "   0.016451,\n",
       "   0.025005,\n",
       "   0.020619,\n",
       "   0.020619,\n",
       "   0.020619,\n",
       "   0.020619,\n",
       "   0.020619,\n",
       "   0.020619,\n",
       "   0.020619,\n",
       "   0.020619,\n",
       "   0.020619,\n",
       "   0.020619,\n",
       "   0.020619,\n",
       "   0.020619,\n",
       "   0.020619,\n",
       "   0.020619,\n",
       "   0.014696,\n",
       "   0.01009,\n",
       "   0.014696,\n",
       "   0.001535,\n",
       "   0.001535,\n",
       "   0.001535,\n",
       "   0.001535,\n",
       "   0.001535,\n",
       "   0.001535,\n",
       "   0.001535,\n",
       "   0.001535,\n",
       "   0.001535,\n",
       "   0.001535,\n",
       "   0.001535,\n",
       "   0.001535,\n",
       "   0.001535,\n",
       "   0.001535,\n",
       "   0.001535,\n",
       "   0.001535,\n",
       "   0.001535,\n",
       "   0.001535,\n",
       "   0.001535,\n",
       "   0.001535,\n",
       "   0.001535,\n",
       "   0.001535,\n",
       "   0.001535,\n",
       "   0.001535,\n",
       "   0.001535,\n",
       "   0.001535,\n",
       "   0.001535,\n",
       "   0.001535,\n",
       "   0.001535,\n",
       "   0.001535,\n",
       "   0.001535,\n",
       "   0.001535,\n",
       "   0.001535,\n",
       "   0.001535,\n",
       "   0.001535,\n",
       "   0.001535,\n",
       "   0.001535,\n",
       "   0.001535,\n",
       "   0.001535,\n",
       "   0.001535,\n",
       "   0.001535,\n",
       "   0.001535,\n",
       "   0.001535,\n",
       "   0.001535,\n",
       "   0.001535,\n",
       "   0.001535,\n",
       "   0.001535,\n",
       "   0.001535,\n",
       "   0.001535,\n",
       "   0.001535,\n",
       "   0.001535,\n",
       "   0.001535,\n",
       "   0.001535,\n",
       "   0.001535,\n",
       "   0.001535,\n",
       "   0.001535,\n",
       "   0.001535,\n",
       "   0.001535,\n",
       "   0.001535,\n",
       "   0.001535,\n",
       "   0.001535],\n",
       "  'logloss': [0.614662,\n",
       "   0.550026,\n",
       "   0.495522,\n",
       "   0.449244,\n",
       "   0.409657,\n",
       "   0.375021,\n",
       "   0.343731,\n",
       "   0.316475,\n",
       "   0.292281,\n",
       "   0.270281,\n",
       "   0.250843,\n",
       "   0.233488,\n",
       "   0.214126,\n",
       "   0.197265,\n",
       "   0.182541,\n",
       "   0.169691,\n",
       "   0.158453,\n",
       "   0.149991,\n",
       "   0.141083,\n",
       "   0.134176,\n",
       "   0.126909,\n",
       "   0.120552,\n",
       "   0.115349,\n",
       "   0.110155,\n",
       "   0.105854,\n",
       "   0.101958,\n",
       "   0.097992,\n",
       "   0.094533,\n",
       "   0.091122,\n",
       "   0.088092,\n",
       "   0.085214,\n",
       "   0.081874,\n",
       "   0.078828,\n",
       "   0.07606,\n",
       "   0.073493,\n",
       "   0.070785,\n",
       "   0.068438,\n",
       "   0.066194,\n",
       "   0.063997,\n",
       "   0.061881,\n",
       "   0.059879,\n",
       "   0.057975,\n",
       "   0.056209,\n",
       "   0.054409,\n",
       "   0.052745,\n",
       "   0.051212,\n",
       "   0.049716,\n",
       "   0.048202,\n",
       "   0.0468,\n",
       "   0.045522,\n",
       "   0.044227,\n",
       "   0.043019,\n",
       "   0.041896,\n",
       "   0.040718,\n",
       "   0.039669,\n",
       "   0.038661,\n",
       "   0.037658,\n",
       "   0.036629,\n",
       "   0.035693,\n",
       "   0.034818,\n",
       "   0.033933,\n",
       "   0.032721,\n",
       "   0.03192,\n",
       "   0.031157,\n",
       "   0.030408,\n",
       "   0.029685,\n",
       "   0.029011,\n",
       "   0.028339,\n",
       "   0.027707,\n",
       "   0.027084,\n",
       "   0.026461,\n",
       "   0.025886,\n",
       "   0.025325,\n",
       "   0.024787,\n",
       "   0.024274,\n",
       "   0.023756,\n",
       "   0.023266,\n",
       "   0.022778,\n",
       "   0.022327,\n",
       "   0.021861,\n",
       "   0.021435,\n",
       "   0.020903,\n",
       "   0.020497,\n",
       "   0.020087,\n",
       "   0.019691,\n",
       "   0.019314,\n",
       "   0.018947,\n",
       "   0.018366,\n",
       "   0.018037,\n",
       "   0.017715,\n",
       "   0.01741,\n",
       "   0.0171,\n",
       "   0.016602,\n",
       "   0.016016,\n",
       "   0.015756,\n",
       "   0.015474,\n",
       "   0.015203,\n",
       "   0.01492,\n",
       "   0.014442,\n",
       "   0.014218]},\n",
       " 'validation_1': {'error': [0.048618,\n",
       "   0.042989,\n",
       "   0.048618,\n",
       "   0.042989,\n",
       "   0.048618,\n",
       "   0.048618,\n",
       "   0.042989,\n",
       "   0.042989,\n",
       "   0.042989,\n",
       "   0.042989,\n",
       "   0.042989,\n",
       "   0.024053,\n",
       "   0.029683,\n",
       "   0.019447,\n",
       "   0.019447,\n",
       "   0.019447,\n",
       "   0.019447,\n",
       "   0.019447,\n",
       "   0.019447,\n",
       "   0.019447,\n",
       "   0.019447,\n",
       "   0.026612,\n",
       "   0.023541,\n",
       "   0.023541,\n",
       "   0.023541,\n",
       "   0.023541,\n",
       "   0.023541,\n",
       "   0.023541,\n",
       "   0.023541,\n",
       "   0.023541,\n",
       "   0.023541,\n",
       "   0.023541,\n",
       "   0.023541,\n",
       "   0.023541,\n",
       "   0.023541,\n",
       "   0.023541,\n",
       "   0.017912,\n",
       "   0.010235,\n",
       "   0.017912,\n",
       "   0.003071,\n",
       "   0.003071,\n",
       "   0.003071,\n",
       "   0.003071,\n",
       "   0.003071,\n",
       "   0.003071,\n",
       "   0.003071,\n",
       "   0.003071,\n",
       "   0.003071,\n",
       "   0.003071,\n",
       "   0.003071,\n",
       "   0.003071,\n",
       "   0.003071,\n",
       "   0.003071,\n",
       "   0.003071,\n",
       "   0.003071,\n",
       "   0.003071,\n",
       "   0.003071,\n",
       "   0.003071,\n",
       "   0.003071,\n",
       "   0.003071,\n",
       "   0.003071,\n",
       "   0.003071,\n",
       "   0.003071,\n",
       "   0.003071,\n",
       "   0.003071,\n",
       "   0.003071,\n",
       "   0.003071,\n",
       "   0.003071,\n",
       "   0.003071,\n",
       "   0.003071,\n",
       "   0.003071,\n",
       "   0.003071,\n",
       "   0.003071,\n",
       "   0.003071,\n",
       "   0.003071,\n",
       "   0.003071,\n",
       "   0.003071,\n",
       "   0.003071,\n",
       "   0.003071,\n",
       "   0.003071,\n",
       "   0.003071,\n",
       "   0.003071,\n",
       "   0.003071,\n",
       "   0.003071,\n",
       "   0.003071,\n",
       "   0.003071,\n",
       "   0.003071,\n",
       "   0.003071,\n",
       "   0.003071,\n",
       "   0.003071,\n",
       "   0.003071,\n",
       "   0.003071,\n",
       "   0.003071,\n",
       "   0.003071,\n",
       "   0.003071,\n",
       "   0.003071,\n",
       "   0.003071,\n",
       "   0.003071,\n",
       "   0.003071,\n",
       "   0.003071],\n",
       "  'logloss': [0.615088,\n",
       "   0.550209,\n",
       "   0.49614,\n",
       "   0.449696,\n",
       "   0.410504,\n",
       "   0.375261,\n",
       "   0.344092,\n",
       "   0.316797,\n",
       "   0.292168,\n",
       "   0.270305,\n",
       "   0.250749,\n",
       "   0.233221,\n",
       "   0.214109,\n",
       "   0.197466,\n",
       "   0.182957,\n",
       "   0.170289,\n",
       "   0.159225,\n",
       "   0.151064,\n",
       "   0.14227,\n",
       "   0.135443,\n",
       "   0.12827,\n",
       "   0.121991,\n",
       "   0.11683,\n",
       "   0.111688,\n",
       "   0.107253,\n",
       "   0.10337,\n",
       "   0.099448,\n",
       "   0.096204,\n",
       "   0.092829,\n",
       "   0.08991,\n",
       "   0.086927,\n",
       "   0.083243,\n",
       "   0.08027,\n",
       "   0.077215,\n",
       "   0.074906,\n",
       "   0.072131,\n",
       "   0.069846,\n",
       "   0.067424,\n",
       "   0.06544,\n",
       "   0.063493,\n",
       "   0.061325,\n",
       "   0.05936,\n",
       "   0.057743,\n",
       "   0.056002,\n",
       "   0.054257,\n",
       "   0.052661,\n",
       "   0.051307,\n",
       "   0.049848,\n",
       "   0.048379,\n",
       "   0.047151,\n",
       "   0.04583,\n",
       "   0.044561,\n",
       "   0.043581,\n",
       "   0.04234,\n",
       "   0.041341,\n",
       "   0.040273,\n",
       "   0.039398,\n",
       "   0.038493,\n",
       "   0.037512,\n",
       "   0.036583,\n",
       "   0.035813,\n",
       "   0.034503,\n",
       "   0.033668,\n",
       "   0.032955,\n",
       "   0.03216,\n",
       "   0.031401,\n",
       "   0.030794,\n",
       "   0.030173,\n",
       "   0.02948,\n",
       "   0.02896,\n",
       "   0.028341,\n",
       "   0.027733,\n",
       "   0.027121,\n",
       "   0.02663,\n",
       "   0.025998,\n",
       "   0.02553,\n",
       "   0.025122,\n",
       "   0.024611,\n",
       "   0.024205,\n",
       "   0.023779,\n",
       "   0.023298,\n",
       "   0.022712,\n",
       "   0.02239,\n",
       "   0.022057,\n",
       "   0.02159,\n",
       "   0.021259,\n",
       "   0.020875,\n",
       "   0.020208,\n",
       "   0.019921,\n",
       "   0.019556,\n",
       "   0.019295,\n",
       "   0.018976,\n",
       "   0.018393,\n",
       "   0.017481,\n",
       "   0.017206,\n",
       "   0.016922,\n",
       "   0.016717,\n",
       "   0.016405,\n",
       "   0.015697,\n",
       "   0.015432]}}"
      ]
     },
     "execution_count": 36,
     "metadata": {},
     "output_type": "execute_result"
    }
   ],
   "source": [
    "results = bst.evals_result()\n",
    "results"
   ]
  },
  {
   "cell_type": "code",
   "execution_count": 38,
   "metadata": {},
   "outputs": [
    {
     "data": {
      "image/png": "[encoded data removed]",
      "text/plain": [
       "<Figure size 432x288 with 1 Axes>"
      ]
     },
     "metadata": {},
     "output_type": "display_data"
    },
    {
     "data": {
      "image/png": "[encoded data removed]",
      "text/plain": [
       "<Figure size 432x288 with 1 Axes>"
      ]
     },
     "metadata": {},
     "output_type": "display_data"
    }
   ],
   "source": [
    "# retrieve performance metrics\n",
    "results = bst.evals_result()\n",
    "#print(results)\n",
    "\n",
    "\n",
    "epochs = len(results['validation_0']['error'])\n",
    "x_axis = range(0, epochs)\n",
    "\n",
    "# plot log loss\n",
    "fig, ax = plt.subplots()\n",
    "ax.plot(x_axis, results['validation_0']['logloss'], label='Train')\n",
    "ax.plot(x_axis, results['validation_1']['logloss'], label='Test')\n",
    "ax.legend()\n",
    "plt.ylabel('Log Loss')\n",
    "plt.title('XGBoost Log Loss')\n",
    "plt.show()\n",
    "\n",
    "# plot classification error\n",
    "fig, ax = plt.subplots()\n",
    "ax.plot(x_axis, results['validation_0']['error'], label='Train')\n",
    "ax.plot(x_axis, results['validation_1']['error'], label='Test')\n",
    "ax.legend()\n",
    "plt.ylabel('Classification Error')\n",
    "plt.title('XGBoost Classification Error')\n",
    "plt.show()"
   ]
  },
  {
   "cell_type": "code",
   "execution_count": null,
   "metadata": {},
   "outputs": [],
   "source": []
  }
 ],
 "metadata": {
  "kernelspec": {
   "display_name": "Python 3",
   "language": "python",
   "name": "python3"
  },
  "language_info": {
   "codemirror_mode": {
    "name": "ipython",
    "version": 3
   },
   "file_extension": ".py",
   "mimetype": "text/x-python",
   "name": "python",
   "nbconvert_exporter": "python",
   "pygments_lexer": "ipython3",
   "version": "3.6.5"
  }
 },
 "nbformat": 4,
 "nbformat_minor": 2
}
