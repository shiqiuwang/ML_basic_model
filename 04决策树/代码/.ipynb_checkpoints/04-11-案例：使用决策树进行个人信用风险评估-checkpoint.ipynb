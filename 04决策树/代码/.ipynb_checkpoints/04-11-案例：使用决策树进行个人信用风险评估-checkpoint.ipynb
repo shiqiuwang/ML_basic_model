{
 "cells": [
  {
   "cell_type": "markdown",
   "metadata": {},
   "source": [
    "# 使用决策树进行个人信用风险评估"
   ]
  },
  {
   "cell_type": "markdown",
   "metadata": {},
   "source": [
    "使用sklearn中的DecisionTreeClassifier算法来对德国贷款数据建立决策树模型"
   ]
  },
  {
   "cell_type": "markdown",
   "metadata": {},
   "source": [
    "# 目录\n",
    "[1 数据源](#1)<br>\n",
    "[2 数据探索和预处理](#2)<br>\n",
    "[3 划分训练集和测试集](#3)<br>\n",
    "[4 模型训练](#4)<br>\n",
    "[5 模型性能评估](#5)<br>\n",
    "[6 模型性能提升](#6)<br>"
   ]
  },
  {
   "cell_type": "markdown",
   "metadata": {},
   "source": [
    "<div id=\"1\"></div>\n",
    "\n",
    "# 1 数据源\n",
    "使用UCI上的德国信用数据集。该数据集包含了1000个贷款信息，每一个贷款有20个自变量和一个类变量记录该笔贷款是否违约。\n",
    "我们将使用该数据集构建模型来预测贷款是否违约。"
   ]
  },
  {
   "cell_type": "markdown",
   "metadata": {},
   "source": [
    "<div id=\"2\"></div>\n",
    "\n",
    "# 2 数据探索和预处理"
   ]
  },
  {
   "cell_type": "code",
   "execution_count": 231,
   "metadata": {},
   "outputs": [
    {
     "data": {
      "text/html": [
       "<div>\n",
       "<style scoped>\n",
       "    .dataframe tbody tr th:only-of-type {\n",
       "        vertical-align: middle;\n",
       "    }\n",
       "\n",
       "    .dataframe tbody tr th {\n",
       "        vertical-align: top;\n",
       "    }\n",
       "\n",
       "    .dataframe thead th {\n",
       "        text-align: right;\n",
       "    }\n",
       "</style>\n",
       "<table border=\"1\" class=\"dataframe\">\n",
       "  <thead>\n",
       "    <tr style=\"text-align: right;\">\n",
       "      <th></th>\n",
       "      <th>default</th>\n",
       "      <th>account_check_status</th>\n",
       "      <th>duration_in_month</th>\n",
       "      <th>credit_history</th>\n",
       "      <th>purpose</th>\n",
       "      <th>credit_amount</th>\n",
       "      <th>savings</th>\n",
       "      <th>present_emp_since</th>\n",
       "      <th>installment_as_income_perc</th>\n",
       "      <th>personal_status_sex</th>\n",
       "      <th>...</th>\n",
       "      <th>present_res_since</th>\n",
       "      <th>property</th>\n",
       "      <th>age</th>\n",
       "      <th>other_installment_plans</th>\n",
       "      <th>housing</th>\n",
       "      <th>credits_this_bank</th>\n",
       "      <th>job</th>\n",
       "      <th>people_under_maintenance</th>\n",
       "      <th>telephone</th>\n",
       "      <th>foreign_worker</th>\n",
       "    </tr>\n",
       "  </thead>\n",
       "  <tbody>\n",
       "    <tr>\n",
       "      <th>0</th>\n",
       "      <td>0</td>\n",
       "      <td>&lt; 0 DM</td>\n",
       "      <td>6</td>\n",
       "      <td>critical account/ other credits existing (not ...</td>\n",
       "      <td>domestic appliances</td>\n",
       "      <td>1169</td>\n",
       "      <td>unknown/ no savings account</td>\n",
       "      <td>.. &gt;= 7 years</td>\n",
       "      <td>4</td>\n",
       "      <td>male : single</td>\n",
       "      <td>...</td>\n",
       "      <td>4</td>\n",
       "      <td>real estate</td>\n",
       "      <td>67</td>\n",
       "      <td>none</td>\n",
       "      <td>own</td>\n",
       "      <td>2</td>\n",
       "      <td>skilled employee / official</td>\n",
       "      <td>1</td>\n",
       "      <td>yes, registered under the customers name</td>\n",
       "      <td>yes</td>\n",
       "    </tr>\n",
       "    <tr>\n",
       "      <th>1</th>\n",
       "      <td>1</td>\n",
       "      <td>0 &lt;= ... &lt; 200 DM</td>\n",
       "      <td>48</td>\n",
       "      <td>existing credits paid back duly till now</td>\n",
       "      <td>domestic appliances</td>\n",
       "      <td>5951</td>\n",
       "      <td>... &lt; 100 DM</td>\n",
       "      <td>1 &lt;= ... &lt; 4 years</td>\n",
       "      <td>2</td>\n",
       "      <td>female : divorced/separated/married</td>\n",
       "      <td>...</td>\n",
       "      <td>2</td>\n",
       "      <td>real estate</td>\n",
       "      <td>22</td>\n",
       "      <td>none</td>\n",
       "      <td>own</td>\n",
       "      <td>1</td>\n",
       "      <td>skilled employee / official</td>\n",
       "      <td>1</td>\n",
       "      <td>none</td>\n",
       "      <td>yes</td>\n",
       "    </tr>\n",
       "  </tbody>\n",
       "</table>\n",
       "<p>2 rows × 21 columns</p>\n",
       "</div>"
      ],
      "text/plain": [
       "   default account_check_status  duration_in_month  \\\n",
       "0        0               < 0 DM                  6   \n",
       "1        1    0 <= ... < 200 DM                 48   \n",
       "\n",
       "                                      credit_history              purpose  \\\n",
       "0  critical account/ other credits existing (not ...  domestic appliances   \n",
       "1           existing credits paid back duly till now  domestic appliances   \n",
       "\n",
       "   credit_amount                      savings   present_emp_since  \\\n",
       "0           1169  unknown/ no savings account       .. >= 7 years   \n",
       "1           5951                 ... < 100 DM  1 <= ... < 4 years   \n",
       "\n",
       "   installment_as_income_perc                  personal_status_sex  \\\n",
       "0                           4                        male : single   \n",
       "1                           2  female : divorced/separated/married   \n",
       "\n",
       "       ...       present_res_since     property age  other_installment_plans  \\\n",
       "0      ...                       4  real estate  67                     none   \n",
       "1      ...                       2  real estate  22                     none   \n",
       "\n",
       "  housing credits_this_bank                          job  \\\n",
       "0     own                 2  skilled employee / official   \n",
       "1     own                 1  skilled employee / official   \n",
       "\n",
       "  people_under_maintenance                                  telephone  \\\n",
       "0                        1  yes, registered under the customers name    \n",
       "1                        1                                       none   \n",
       "\n",
       "  foreign_worker  \n",
       "0            yes  \n",
       "1            yes  \n",
       "\n",
       "[2 rows x 21 columns]"
      ]
     },
     "execution_count": 231,
     "metadata": {},
     "output_type": "execute_result"
    }
   ],
   "source": [
    "import pandas as pd\n",
    "import numpy as np\n",
    "import matplotlib.pyplot as plt\n",
    "\n",
    "credit = pd.read_csv(\"data/german_credit.csv\")\n",
    "credit.head(2)"
   ]
  },
  {
   "cell_type": "code",
   "execution_count": 232,
   "metadata": {},
   "outputs": [
    {
     "data": {
      "text/plain": [
       "(1000, 21)"
      ]
     },
     "execution_count": 232,
     "metadata": {},
     "output_type": "execute_result"
    }
   ],
   "source": [
    "credit.shape"
   ]
  },
  {
   "cell_type": "markdown",
   "metadata": {},
   "source": [
    "该数据集包含1000个样本和21个变量。其中default表示信用好坏，其余为特征变量\n",
    "\n",
    "使用value_counts()函数对支票余额变量account_check_status和储蓄账户余额变量savings_balance进行查看。"
   ]
  },
  {
   "cell_type": "code",
   "execution_count": 233,
   "metadata": {},
   "outputs": [
    {
     "data": {
      "text/plain": [
       "skilled employee / official                                      630\n",
       "unskilled - resident                                             200\n",
       "management/ self-employed/ highly qualified employee/ officer    148\n",
       "unemployed/ unskilled - non-resident                              22\n",
       "Name: job, dtype: int64"
      ]
     },
     "execution_count": 233,
     "metadata": {},
     "output_type": "execute_result"
    }
   ],
   "source": [
    "credit.job.value_counts()"
   ]
  },
  {
   "cell_type": "code",
   "execution_count": 234,
   "metadata": {},
   "outputs": [
    {
     "data": {
      "text/plain": [
       "... < 100 DM                   603\n",
       "unknown/ no savings account    183\n",
       "100 <= ... < 500 DM            103\n",
       "500 <= ... < 1000 DM            63\n",
       ".. >= 1000 DM                   48\n",
       "Name: savings, dtype: int64"
      ]
     },
     "execution_count": 234,
     "metadata": {},
     "output_type": "execute_result"
    }
   ],
   "source": [
    "credit.savings.value_counts()"
   ]
  },
  {
   "cell_type": "markdown",
   "metadata": {},
   "source": [
    "上述两个变量的单位都是德国马克（Deutsche Mark, DM）。 直观来看，支票余额和储蓄账户余额越大，贷款违约的可能性越小。\n",
    "\n",
    "该贷款数据集还有一些数值型变量，例如贷款期限（duration_in_month）和贷款申请额度（credit_amount）。"
   ]
  },
  {
   "cell_type": "markdown",
   "metadata": {},
   "source": [
    "##### 我们需要把字符变量转换为数字"
   ]
  },
  {
   "cell_type": "markdown",
   "metadata": {},
   "source": [
    "查看哪些列是字符串类型的"
   ]
  },
  {
   "cell_type": "code",
   "execution_count": 235,
   "metadata": {},
   "outputs": [
    {
     "name": "stdout",
     "output_type": "stream",
     "text": [
      "<class 'pandas.core.frame.DataFrame'>\n",
      "RangeIndex: 1000 entries, 0 to 999\n",
      "Data columns (total 21 columns):\n",
      "default                       1000 non-null int64\n",
      "account_check_status          1000 non-null object\n",
      "duration_in_month             1000 non-null int64\n",
      "credit_history                1000 non-null object\n",
      "purpose                       1000 non-null object\n",
      "credit_amount                 1000 non-null int64\n",
      "savings                       1000 non-null object\n",
      "present_emp_since             1000 non-null object\n",
      "installment_as_income_perc    1000 non-null int64\n",
      "personal_status_sex           1000 non-null object\n",
      "other_debtors                 1000 non-null object\n",
      "present_res_since             1000 non-null int64\n",
      "property                      1000 non-null object\n",
      "age                           1000 non-null int64\n",
      "other_installment_plans       1000 non-null object\n",
      "housing                       1000 non-null object\n",
      "credits_this_bank             1000 non-null int64\n",
      "job                           1000 non-null object\n",
      "people_under_maintenance      1000 non-null int64\n",
      "telephone                     1000 non-null object\n",
      "foreign_worker                1000 non-null object\n",
      "dtypes: int64(8), object(13)\n",
      "memory usage: 164.1+ KB\n"
     ]
    }
   ],
   "source": [
    "credit.info()"
   ]
  },
  {
   "cell_type": "markdown",
   "metadata": {},
   "source": [
    "查看可取哪些值"
   ]
  },
  {
   "cell_type": "code",
   "execution_count": 247,
   "metadata": {
    "scrolled": true
   },
   "outputs": [
    {
     "data": {
      "text/plain": [
       "0    394\n",
       "1    274\n",
       "2    269\n",
       "3     63\n",
       "Name: account_check_status, dtype: int64"
      ]
     },
     "execution_count": 247,
     "metadata": {},
     "output_type": "execute_result"
    }
   ],
   "source": [
    "credit.account_check_status.value_counts()"
   ]
  },
  {
   "cell_type": "code",
   "execution_count": 237,
   "metadata": {},
   "outputs": [
    {
     "data": {
      "text/html": [
       "<div>\n",
       "<style scoped>\n",
       "    .dataframe tbody tr th:only-of-type {\n",
       "        vertical-align: middle;\n",
       "    }\n",
       "\n",
       "    .dataframe tbody tr th {\n",
       "        vertical-align: top;\n",
       "    }\n",
       "\n",
       "    .dataframe thead th {\n",
       "        text-align: right;\n",
       "    }\n",
       "</style>\n",
       "<table border=\"1\" class=\"dataframe\">\n",
       "  <thead>\n",
       "    <tr style=\"text-align: right;\">\n",
       "      <th></th>\n",
       "      <th>default</th>\n",
       "      <th>account_check_status</th>\n",
       "      <th>duration_in_month</th>\n",
       "      <th>credit_history</th>\n",
       "      <th>purpose</th>\n",
       "      <th>credit_amount</th>\n",
       "      <th>savings</th>\n",
       "      <th>present_emp_since</th>\n",
       "      <th>installment_as_income_perc</th>\n",
       "      <th>personal_status_sex</th>\n",
       "      <th>...</th>\n",
       "      <th>present_res_since</th>\n",
       "      <th>property</th>\n",
       "      <th>age</th>\n",
       "      <th>other_installment_plans</th>\n",
       "      <th>housing</th>\n",
       "      <th>credits_this_bank</th>\n",
       "      <th>job</th>\n",
       "      <th>people_under_maintenance</th>\n",
       "      <th>telephone</th>\n",
       "      <th>foreign_worker</th>\n",
       "    </tr>\n",
       "  </thead>\n",
       "  <tbody>\n",
       "    <tr>\n",
       "      <th>0</th>\n",
       "      <td>0</td>\n",
       "      <td>1</td>\n",
       "      <td>6</td>\n",
       "      <td>1</td>\n",
       "      <td>0</td>\n",
       "      <td>1169</td>\n",
       "      <td>1</td>\n",
       "      <td>1</td>\n",
       "      <td>4</td>\n",
       "      <td>0</td>\n",
       "      <td>...</td>\n",
       "      <td>4</td>\n",
       "      <td>1</td>\n",
       "      <td>67</td>\n",
       "      <td>0</td>\n",
       "      <td>0</td>\n",
       "      <td>2</td>\n",
       "      <td>0</td>\n",
       "      <td>1</td>\n",
       "      <td>1</td>\n",
       "      <td>0</td>\n",
       "    </tr>\n",
       "    <tr>\n",
       "      <th>1</th>\n",
       "      <td>1</td>\n",
       "      <td>2</td>\n",
       "      <td>48</td>\n",
       "      <td>0</td>\n",
       "      <td>0</td>\n",
       "      <td>5951</td>\n",
       "      <td>0</td>\n",
       "      <td>0</td>\n",
       "      <td>2</td>\n",
       "      <td>1</td>\n",
       "      <td>...</td>\n",
       "      <td>2</td>\n",
       "      <td>1</td>\n",
       "      <td>22</td>\n",
       "      <td>0</td>\n",
       "      <td>0</td>\n",
       "      <td>1</td>\n",
       "      <td>0</td>\n",
       "      <td>1</td>\n",
       "      <td>0</td>\n",
       "      <td>0</td>\n",
       "    </tr>\n",
       "    <tr>\n",
       "      <th>2</th>\n",
       "      <td>0</td>\n",
       "      <td>0</td>\n",
       "      <td>12</td>\n",
       "      <td>1</td>\n",
       "      <td>5</td>\n",
       "      <td>2096</td>\n",
       "      <td>0</td>\n",
       "      <td>2</td>\n",
       "      <td>2</td>\n",
       "      <td>0</td>\n",
       "      <td>...</td>\n",
       "      <td>3</td>\n",
       "      <td>1</td>\n",
       "      <td>49</td>\n",
       "      <td>0</td>\n",
       "      <td>0</td>\n",
       "      <td>1</td>\n",
       "      <td>1</td>\n",
       "      <td>2</td>\n",
       "      <td>0</td>\n",
       "      <td>0</td>\n",
       "    </tr>\n",
       "    <tr>\n",
       "      <th>3</th>\n",
       "      <td>0</td>\n",
       "      <td>1</td>\n",
       "      <td>42</td>\n",
       "      <td>0</td>\n",
       "      <td>2</td>\n",
       "      <td>7882</td>\n",
       "      <td>0</td>\n",
       "      <td>2</td>\n",
       "      <td>2</td>\n",
       "      <td>0</td>\n",
       "      <td>...</td>\n",
       "      <td>4</td>\n",
       "      <td>2</td>\n",
       "      <td>45</td>\n",
       "      <td>0</td>\n",
       "      <td>1</td>\n",
       "      <td>1</td>\n",
       "      <td>0</td>\n",
       "      <td>2</td>\n",
       "      <td>0</td>\n",
       "      <td>0</td>\n",
       "    </tr>\n",
       "    <tr>\n",
       "      <th>4</th>\n",
       "      <td>1</td>\n",
       "      <td>1</td>\n",
       "      <td>24</td>\n",
       "      <td>2</td>\n",
       "      <td>1</td>\n",
       "      <td>4870</td>\n",
       "      <td>0</td>\n",
       "      <td>0</td>\n",
       "      <td>3</td>\n",
       "      <td>0</td>\n",
       "      <td>...</td>\n",
       "      <td>4</td>\n",
       "      <td>3</td>\n",
       "      <td>53</td>\n",
       "      <td>0</td>\n",
       "      <td>1</td>\n",
       "      <td>2</td>\n",
       "      <td>0</td>\n",
       "      <td>2</td>\n",
       "      <td>0</td>\n",
       "      <td>0</td>\n",
       "    </tr>\n",
       "  </tbody>\n",
       "</table>\n",
       "<p>5 rows × 21 columns</p>\n",
       "</div>"
      ],
      "text/plain": [
       "   default  account_check_status  duration_in_month  credit_history  purpose  \\\n",
       "0        0                     1                  6               1        0   \n",
       "1        1                     2                 48               0        0   \n",
       "2        0                     0                 12               1        5   \n",
       "3        0                     1                 42               0        2   \n",
       "4        1                     1                 24               2        1   \n",
       "\n",
       "   credit_amount  savings  present_emp_since  installment_as_income_perc  \\\n",
       "0           1169        1                  1                           4   \n",
       "1           5951        0                  0                           2   \n",
       "2           2096        0                  2                           2   \n",
       "3           7882        0                  2                           2   \n",
       "4           4870        0                  0                           3   \n",
       "\n",
       "   personal_status_sex       ...        present_res_since  property  age  \\\n",
       "0                    0       ...                        4         1   67   \n",
       "1                    1       ...                        2         1   22   \n",
       "2                    0       ...                        3         1   49   \n",
       "3                    0       ...                        4         2   45   \n",
       "4                    0       ...                        4         3   53   \n",
       "\n",
       "   other_installment_plans  housing  credits_this_bank  job  \\\n",
       "0                        0        0                  2    0   \n",
       "1                        0        0                  1    0   \n",
       "2                        0        0                  1    1   \n",
       "3                        0        1                  1    0   \n",
       "4                        0        1                  2    0   \n",
       "\n",
       "   people_under_maintenance  telephone  foreign_worker  \n",
       "0                         1          1               0  \n",
       "1                         1          0               0  \n",
       "2                         2          0               0  \n",
       "3                         2          0               0  \n",
       "4                         2          0               0  \n",
       "\n",
       "[5 rows x 21 columns]"
      ]
     },
     "execution_count": 237,
     "metadata": {},
     "output_type": "execute_result"
    }
   ],
   "source": [
    "#取字符串的数组\n",
    "cols = ['account_check_status','credit_history', 'purpose', 'savings', 'present_emp_since','personal_status_sex', \n",
    "        'other_debtors','property','other_installment_plans','housing','job','telephone','foreign_worker']\n",
    "#映射字典\n",
    "col_dicts = {}\n",
    "col_dicts = {\n",
    "  'account_check_status': {\n",
    "    '0 <= ... < 200 DM': 2,\n",
    "    '< 0 DM': 1,\n",
    "    '>= 200 DM / salary assignments for at least 1 year': 3,\n",
    "    'no checking account': 0\n",
    "  },\n",
    "             \n",
    "  'credit_history': {\n",
    "      'existing credits paid back duly till now': 0,\n",
    "      'critical account/ other credits existing (not at this bank)': 1,\n",
    "      'delay in paying off in the past': 2,\n",
    "      'all credits at this bank paid back duly': 3,\n",
    "      'no credits taken/ all credits paid back duly': 4\n",
    "  },\n",
    "           \n",
    "  'purpose': {\n",
    "      'domestic appliances': 0,\n",
    "      'car (new)': 1,\n",
    "      'radio/television': 2,\n",
    "      'car (used)': 3,\n",
    "      'business': 4,\n",
    "      '(vacation - does not exist?)': 5,\n",
    "      'education': 6,\n",
    "      'furniture/equipment': 7,\n",
    "      'repairs': 8,\n",
    "      'retraining': 9\n",
    "  },\n",
    "                \n",
    " 'savings': {'... < 100 DM': 0,\n",
    "  'unknown/ no savings account': 1,\n",
    "  '100 <= ... < 500 DM': 2,\n",
    "  '500 <= ... < 1000 DM': 3,\n",
    "  '.. >= 1000 DM': 4},\n",
    "  \n",
    " 'present_emp_since':{\n",
    "     '1 <= ... < 4 years':0,\n",
    "     '.. >= 7 years':1,\n",
    "     '4 <= ... < 7 years':2,\n",
    "     '... < 1 year':3,\n",
    "     'unemployed':4\n",
    " },\n",
    " \n",
    "'other_installment_plans':{\n",
    "    'none':0,\n",
    "    'bank':1,\n",
    "    'stores':2\n",
    "},\n",
    "             \n",
    " 'foreign_worker': {'no': 1, 'yes': 0},\n",
    "             \n",
    " 'housing': {'for free': 1, 'own': 0, 'rent': 2},\n",
    "                               \n",
    " 'job': {'skilled employee / official': 0,\n",
    "  'unskilled - resident': 1,\n",
    "  'management/ self-employed/ highly qualified employee/ officer': 2,\n",
    "  'unemployed/ unskilled - non-resident': 3},\n",
    "             \n",
    " 'other_debtors': {'co-applicant': 2, 'guarantor': 1, 'none': 0},\n",
    "             \n",
    " 'personal_status_sex': {'male : single': 0,\n",
    "  'female : divorced/separated/married': 1,\n",
    "  'male : married/widowed': 2,\n",
    "  'male : divorced/separated': 3},\n",
    "           \n",
    " 'property': {'if not A121/A122 : car or other, not in attribute 6': 0,\n",
    "  'real estate': 1,\n",
    "  'if not A121 : building society savings agreement/ life insurance': 2,\n",
    "  'unknown / no property': 3},\n",
    "             \n",
    " 'telephone': {'none': 0, 'yes, registered under the customers name': 1}}\n",
    "\n",
    "for col in cols:\n",
    "    credit[col] = credit[col].map(lambda x: x.strip())\n",
    "    credit[col] = credit[col].map(col_dicts[col])\n",
    "    \n",
    "credit.head(5)"
   ]
  },
  {
   "cell_type": "code",
   "execution_count": 238,
   "metadata": {},
   "outputs": [
    {
     "name": "stdout",
     "output_type": "stream",
     "text": [
      "<class 'pandas.core.frame.DataFrame'>\n",
      "RangeIndex: 1000 entries, 0 to 999\n",
      "Data columns (total 21 columns):\n",
      "default                       1000 non-null int64\n",
      "account_check_status          1000 non-null int64\n",
      "duration_in_month             1000 non-null int64\n",
      "credit_history                1000 non-null int64\n",
      "purpose                       1000 non-null int64\n",
      "credit_amount                 1000 non-null int64\n",
      "savings                       1000 non-null int64\n",
      "present_emp_since             1000 non-null int64\n",
      "installment_as_income_perc    1000 non-null int64\n",
      "personal_status_sex           1000 non-null int64\n",
      "other_debtors                 1000 non-null int64\n",
      "present_res_since             1000 non-null int64\n",
      "property                      1000 non-null int64\n",
      "age                           1000 non-null int64\n",
      "other_installment_plans       1000 non-null int64\n",
      "housing                       1000 non-null int64\n",
      "credits_this_bank             1000 non-null int64\n",
      "job                           1000 non-null int64\n",
      "people_under_maintenance      1000 non-null int64\n",
      "telephone                     1000 non-null int64\n",
      "foreign_worker                1000 non-null int64\n",
      "dtypes: int64(21)\n",
      "memory usage: 164.1 KB\n"
     ]
    }
   ],
   "source": [
    "credit.info()"
   ]
  },
  {
   "cell_type": "markdown",
   "metadata": {},
   "source": [
    "<div id=\"3\"></div>\n",
    "\n",
    "# 3 划分训练集和测试集\n",
    "在正式建模之前，我们需要将数据集分为训练集和测试集两部分。其中训练集用来构建决策树模型，测试集用来评估模型性能。\n",
    "我们将使用70%数据作为训练数据，30%作为训练数据。"
   ]
  },
  {
   "cell_type": "code",
   "execution_count": 239,
   "metadata": {},
   "outputs": [],
   "source": [
    "from sklearn import model_selection\n",
    "\n",
    "y = credit['default']\n",
    "X  = credit.loc[:,'account_check_status':'foreign_worker']\n",
    "X_train, X_test, y_train, y_test = model_selection.train_test_split(X, y, test_size=0.3, random_state=1)"
   ]
  },
  {
   "cell_type": "markdown",
   "metadata": {},
   "source": [
    "我们验证一下训练集和测试集中，违约贷款的比例是否接近。"
   ]
  },
  {
   "cell_type": "code",
   "execution_count": 240,
   "metadata": {},
   "outputs": [
    {
     "name": "stdout",
     "output_type": "stream",
     "text": [
      "0    0.694286\n",
      "1    0.305714\n",
      "Name: default, dtype: float64\n",
      "0    0.713333\n",
      "1    0.286667\n",
      "Name: default, dtype: float64\n"
     ]
    }
   ],
   "source": [
    "print (y_train.value_counts()/len(y_train))\n",
    "print (y_test.value_counts()/len(y_test))"
   ]
  },
  {
   "cell_type": "markdown",
   "metadata": {},
   "source": [
    "可见，训练集和测试集中违约贷款比例均接近30%。"
   ]
  },
  {
   "cell_type": "markdown",
   "metadata": {},
   "source": [
    "<div id=\"4\"></div>\n",
    "\n",
    "# 4 模型训练\n",
    "我们将使用Scikit-learn中的DecisionTreeClassifier算法来训练决策树模型。\n",
    "DecisionTreeClassifier算法位于sklearn.tree包，首先将其导入，然后调用`fit()`方法进行模型训练。"
   ]
  },
  {
   "cell_type": "code",
   "execution_count": 241,
   "metadata": {},
   "outputs": [
    {
     "data": {
      "text/plain": [
       "DecisionTreeClassifier(class_weight=None, criterion='gini', max_depth=None,\n",
       "                       max_features=None, max_leaf_nodes=None,\n",
       "                       min_impurity_decrease=0.0, min_impurity_split=None,\n",
       "                       min_samples_leaf=6, min_samples_split=2,\n",
       "                       min_weight_fraction_leaf=0.0, presort=False,\n",
       "                       random_state=1, splitter='best')"
      ]
     },
     "execution_count": 241,
     "metadata": {},
     "output_type": "execute_result"
    }
   ],
   "source": [
    "from sklearn import tree\n",
    "from sklearn.tree import DecisionTreeClassifier\n",
    "credit_model = DecisionTreeClassifier(min_samples_leaf = 6,random_state=1)\n",
    "credit_model.fit(X_train, y_train)"
   ]
  },
  {
   "cell_type": "markdown",
   "metadata": {},
   "source": [
    "<div id=\"5\"></div>\n",
    "\n",
    "# 5 模型性能评估\n",
    "为了将我们训练好的决策树模型应用于测试数据，我们使用`predict()`函数，代码如下："
   ]
  },
  {
   "cell_type": "code",
   "execution_count": 242,
   "metadata": {},
   "outputs": [],
   "source": [
    "credit_pred = credit_model.predict(X_test)"
   ]
  },
  {
   "cell_type": "markdown",
   "metadata": {},
   "source": [
    "现在，我们得到了决策树模型在测试数据上的预测结果，通过将预测结果和真实结果进行对比可以评估模型性能。\n",
    "可以使用`sklearn.metrics`包中的`classification_report()`和`confusion_matrix()`函数，展示模型分类结果："
   ]
  },
  {
   "cell_type": "code",
   "execution_count": 243,
   "metadata": {},
   "outputs": [
    {
     "name": "stdout",
     "output_type": "stream",
     "text": [
      "              precision    recall  f1-score   support\n",
      "\n",
      "           0       0.77      0.83      0.80       214\n",
      "           1       0.48      0.40      0.43        86\n",
      "\n",
      "    accuracy                           0.70       300\n",
      "   macro avg       0.63      0.61      0.62       300\n",
      "weighted avg       0.69      0.70      0.69       300\n",
      "\n",
      "[[116  98]\n",
      " [ 13  73]]\n"
     ]
    }
   ],
   "source": [
    "from sklearn import metrics\n",
    "print (metrics.classification_report(y_test, credit_pred))\n",
    "print (metrics.confusion_matrix(y_test, credit_pred_cost))"
   ]
  },
  {
   "cell_type": "markdown",
   "metadata": {},
   "source": [
    "在300个贷款申请测试数据中，模型的预测正确率（Accuracy）为71.7%。 214个未违约贷款中，模型正确预测了80%。 86个违约贷款中，模型正确预测出了43%。 下面，我们看看是否能够进一步改善模型的性能。"
   ]
  },
  {
   "cell_type": "markdown",
   "metadata": {},
   "source": [
    "<div id=\"6\"></div>\n",
    "\n",
    "# 6 模型性能提升\n",
    "在实际应用中，模型的预测正确率不高，很难将其应用到实时的信贷评审过程。\n",
    "在本案例中，如果一个模型将所有的贷款都预测为“未违约”，此时模型的正确率将为72%，而该模型是一个完全无用的模型。\n",
    "上节中我们建立的模型，正确率为70.7%，但是对于违约贷款的识别性能很差。\n",
    "我们可以通过创建一个代价矩阵定义模型犯不同错误时的代价。\n",
    "假设我们认为一个贷款违约者给银行带来的损失是银行错过一个不违约的贷款带来损失的4倍，则未违约和违约的代价权重可以定义为："
   ]
  },
  {
   "cell_type": "code",
   "execution_count": 246,
   "metadata": {},
   "outputs": [
    {
     "name": "stdout",
     "output_type": "stream",
     "text": [
      "              precision    recall  f1-score   support\n",
      "\n",
      "           0       0.90      0.53      0.67       214\n",
      "           1       0.43      0.86      0.57        86\n",
      "\n",
      "    accuracy                           0.63       300\n",
      "   macro avg       0.67      0.70      0.62       300\n",
      "weighted avg       0.77      0.63      0.64       300\n",
      "\n",
      "[[114 100]\n",
      " [ 12  74]]\n"
     ]
    }
   ],
   "source": [
    "class_weights = {0:1, 1:4}\n",
    "credit_model_cost = DecisionTreeClassifier(max_depth=6,class_weight = class_weights)\n",
    "credit_model_cost.fit(X_train, y_train)\n",
    "credit_pred_cost = credit_model_cost.predict(X_test)\n",
    "\n",
    "print (metrics.classification_report(y_test, credit_pred_cost))\n",
    "print (metrics.confusion_matrix(y_test, credit_pred_cost))\n"
   ]
  },
  {
   "cell_type": "markdown",
   "metadata": {},
   "source": [
    "可见，模型的整体正确率下降为63%，但是此时的模型能将86个违约贷款中的74个正确识别，识别率为86%。"
   ]
  },
  {
   "cell_type": "code",
   "execution_count": null,
   "metadata": {},
   "outputs": [],
   "source": []
  }
 ],
 "metadata": {
  "kernelspec": {
   "display_name": "Python 3",
   "language": "python",
   "name": "python3"
  },
  "language_info": {
   "codemirror_mode": {
    "name": "ipython",
    "version": 3
   },
   "file_extension": ".py",
   "mimetype": "text/x-python",
   "name": "python",
   "nbconvert_exporter": "python",
   "pygments_lexer": "ipython3",
   "version": "3.6.5"
  }
 },
 "nbformat": 4,
 "nbformat_minor": 2
}
