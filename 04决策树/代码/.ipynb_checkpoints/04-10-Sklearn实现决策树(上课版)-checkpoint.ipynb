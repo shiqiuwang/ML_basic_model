{
 "cells": [
  {
   "cell_type": "code",
   "execution_count": null,
   "metadata": {},
   "outputs": [],
   "source": [
    "from sklearn import tree\n",
    "import numpy as np\n",
    "from sklearn.tree import export_graphviz\n",
    "import graphviz"
   ]
  },
  {
   "cell_type": "code",
   "execution_count": null,
   "metadata": {},
   "outputs": [],
   "source": [
    "def loaddata():\n",
    "    dataSet = [[0, 0,0,0, 'no'],\n",
    "               [0, 0,0,1,'no'],\n",
    "               [0, 1,0,1, 'yes'],\n",
    "               [0, 1,1,0, 'yes'],\n",
    "               [0, 0,0,0, 'no'],\n",
    "               [1, 0,0,0, 'no'],\n",
    "               [1, 0,0,1, 'no'],\n",
    "               [1, 1,1,1, 'yes'],\n",
    "               [1, 0,1,2, 'yes'],\n",
    "               [1, 0,1,2, 'yes'],\n",
    "               [2, 0,1,2, 'yes'],\n",
    "               [2, 0,1,1, 'yes'],\n",
    "               [2, 1,0,1, 'yes'],\n",
    "               [2, 1,0,2, 'yes'],\n",
    "               [2, 0,0,0,'no']]\n",
    "    feature_name = ['age','job','house','credit']\n",
    "    return dataSet, feature_name"
   ]
  },
  {
   "cell_type": "markdown",
   "metadata": {},
   "source": [
    "Sklearn中实现的决策树都是二叉树\n",
    "\n",
    "DecisionTreeClassifier的常用参数含义：\n",
    "- criterion：‘gini’ or ‘entropy’ (default=”gini”)，前者是基尼系数，后者是信息熵。\n",
    "- max_depth：决策树最大深度。常用来解决过拟合。\n",
    "- min_impurity_decrease：这个值限制了决策树的增长，如果某节点的不纯度(基尼系数，信息增益)小于这个阈值，则该节点不再生成子节点。\n",
    "- min_samples_split：如果是 int，则取传入值本身作为最小样本数； 如果是 float，则用 ceil(min_samples_split * 样本数量) 的值作为最小样本数，即向上取整。\n",
    "- min_samples_leaf：如果是 int，则取传入值本身作为最小样本数； 如果是 float，则去 ceil(min_samples_leaf * 样本数量) 的值作为最小样本数，即向上取整。 这个值限制了叶子节点最少的样本数，如果某叶子节点数目小于样本数，则会和兄弟节点一起被剪枝。\n",
    "- max_leaf_nodes：最大叶子节点数。如果特征不多，可以不考虑这个值，但是如果特征分成多的话，可以加以限制，具体的值可以通过交叉验证得到。\n",
    "- min_impurity_split：决策树在创建分支时，信息增益（基尼系数）必须大于这个阀值，否则不分裂"
   ]
  },
  {
   "cell_type": "code",
   "execution_count": null,
   "metadata": {},
   "outputs": [],
   "source": [
    "myDat,feature_name = loaddata()\n",
    "#取训练数据X\n",
    "\n",
    "#取标签y\n",
    "\n",
    "#定义决策树\n",
    "\n",
    "#fit数据\n",
    "\n",
    "#预测[1,1,0,1]的分类\n"
   ]
  },
  {
   "cell_type": "markdown",
   "metadata": {},
   "source": [
    "下面代码如果能正常运行，需：\n",
    "- 1、下载graphviz安装包：http://www.graphviz.org/download/\n",
    "- 2、在python中安装graphviz库，pip install graphviz"
   ]
  },
  {
   "cell_type": "code",
   "execution_count": null,
   "metadata": {},
   "outputs": [],
   "source": [
    "export_graphviz(\n",
    "    model,\n",
    "    out_file=\"tree.dot\",\n",
    "    feature_names=feature_name,\n",
    "    class_names=['yes','no'],\n",
    "    rounded=True,\n",
    "    filled=True\n",
    ")"
   ]
  },
  {
   "cell_type": "code",
   "execution_count": null,
   "metadata": {},
   "outputs": [],
   "source": [
    "with open(\"tree.dot\") as f:\n",
    "    dot_grapth = f.read()\n",
    "dot = graphviz.Source(dot_grapth)\n",
    "dot.view()"
   ]
  },
  {
   "cell_type": "code",
   "execution_count": null,
   "metadata": {},
   "outputs": [],
   "source": []
  }
 ],
 "metadata": {
  "kernelspec": {
   "display_name": "Python 3",
   "language": "python",
   "name": "python3"
  },
  "language_info": {
   "codemirror_mode": {
    "name": "ipython",
    "version": 3
   },
   "file_extension": ".py",
   "mimetype": "text/x-python",
   "name": "python",
   "nbconvert_exporter": "python",
   "pygments_lexer": "ipython3",
   "version": "3.6.5"
  }
 },
 "nbformat": 4,
 "nbformat_minor": 2
}
