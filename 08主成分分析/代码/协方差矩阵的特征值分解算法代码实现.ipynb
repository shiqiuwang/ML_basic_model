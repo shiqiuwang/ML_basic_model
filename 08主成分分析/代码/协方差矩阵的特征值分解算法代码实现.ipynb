{
 "cells": [
  {
   "cell_type": "markdown",
   "metadata": {},
   "source": [
    "# 基于协方差矩阵的特征值分解算法"
   ]
  },
  {
   "cell_type": "code",
   "execution_count": 28,
   "metadata": {},
   "outputs": [],
   "source": [
    "import numpy as np\n",
    "import matplotlib.pyplot as plt\n",
    "import matplotlib as mpl"
   ]
  },
  {
   "cell_type": "code",
   "execution_count": 29,
   "metadata": {},
   "outputs": [],
   "source": [
    "def loaddata():\n",
    "    data = np.loadtxt('data/pca_data.csv',delimiter=',')\n",
    "    return data"
   ]
  },
  {
   "cell_type": "code",
   "execution_count": 30,
   "metadata": {},
   "outputs": [
    {
     "data": {
      "image/png": "[encoded data removed]",
      "text/plain": [
       "<Figure size 432x288 with 1 Axes>"
      ]
     },
     "metadata": {},
     "output_type": "display_data"
    }
   ],
   "source": [
    "X = loaddata()\n",
    "plt.scatter(X[:,0],X[:,1])\n",
    "plt.show()"
   ]
  },
  {
   "cell_type": "markdown",
   "metadata": {},
   "source": [
    "### 特征归一化"
   ]
  },
  {
   "cell_type": "code",
   "execution_count": 31,
   "metadata": {},
   "outputs": [],
   "source": [
    "def featureNormalize(X):\n",
    "    mu = np.mean(X,axis=0).reshape(1,-1)\n",
    "    sigma = np.std(X,axis=0,ddof=1).reshape(1,-1)\n",
    "    X = (X-mu)/sigma\n",
    "    return X,mu,sigma"
   ]
  },
  {
   "cell_type": "markdown",
   "metadata": {},
   "source": [
    "### PCA实现\n",
    "<img src=\"images/01.png\" width=\"500\" align=\"left\" />"
   ]
  },
  {
   "cell_type": "code",
   "execution_count": 32,
   "metadata": {},
   "outputs": [],
   "source": [
    "def pca(X,K):\n",
    "    m = len(X)\n",
    "    sigma = np.dot(np.transpose(X),X)/(m-1)\n",
    "\n",
    "    #返回的特征向量要是排序后的\n",
    "    eigenvalues,eigenvectors = np.linalg.eig(sigma)\n",
    "\n",
    "    index = np.argsort(-eigenvalues)  # 依照featValue进行从大到小排序\n",
    "    eigenvectors = eigenvectors[:,index]\n",
    "\n",
    "    u_reduce = eigenvectors[:, 0:K]\n",
    "    return np.dot(X, u_reduce),eigenvectors"
   ]
  },
  {
   "cell_type": "code",
   "execution_count": 33,
   "metadata": {},
   "outputs": [
    {
     "name": "stdout",
     "output_type": "stream",
     "text": [
      "[[ 1.48127391]\n",
      " [-0.91291229]\n",
      " [ 1.21208656]\n",
      " [ 1.62734009]\n",
      " [ 1.26042409]\n",
      " [-0.96700223]\n",
      " [ 1.25605967]\n",
      " [-2.31794969]\n",
      " [-0.02968998]\n",
      " [-0.77386123]\n",
      " [-0.62532902]\n",
      " [-0.54724542]\n",
      " [-0.08878025]\n",
      " [-0.520569  ]\n",
      " [ 1.548434  ]\n",
      " [-1.89684585]\n",
      " [-0.87788459]\n",
      " [ 0.94646472]\n",
      " [-2.30653955]\n",
      " [-0.4731351 ]\n",
      " [-2.19518524]\n",
      " [ 0.38509662]\n",
      " [-1.76688508]\n",
      " [ 0.0512347 ]\n",
      " [ 1.64838858]\n",
      " [ 0.50302869]\n",
      " [-1.2246766 ]\n",
      " [-1.16020771]\n",
      " [ 0.83375215]\n",
      " [-0.00686207]\n",
      " [-0.22565101]\n",
      " [-1.49788781]\n",
      " [ 1.3252858 ]\n",
      " [-0.58656923]\n",
      " [ 0.67225099]\n",
      " [-1.33938187]\n",
      " [ 1.67053477]\n",
      " [-1.37836539]\n",
      " [ 2.53419743]\n",
      " [-0.27570789]\n",
      " [-0.96695982]\n",
      " [ 0.8792732 ]\n",
      " [ 1.28362916]\n",
      " [-0.97972108]\n",
      " [ 1.79450473]\n",
      " [-0.26923019]\n",
      " [ 3.16088618]\n",
      " [ 1.20080033]\n",
      " [ 0.36423084]\n",
      " [-1.42814204]]\n"
     ]
    }
   ],
   "source": [
    "X,mu,sigma = featureNormalize(X)\n",
    "Z,eigenvectors = pca(X,1)\n",
    "print(Z)"
   ]
  },
  {
   "cell_type": "code",
   "execution_count": 34,
   "metadata": {},
   "outputs": [],
   "source": [
    "def recoverData(Z, U, K):\n",
    "    U_reduce = U[:,0:K]\n",
    "    X_rec = np.dot(Z,np.transpose(U_reduce))\n",
    "    return X_rec"
   ]
  },
  {
   "cell_type": "code",
   "execution_count": 35,
   "metadata": {},
   "outputs": [],
   "source": [
    "def plotData(X_orgin,X_rec):\n",
    "    plt.scatter(X_orgin[:,0],X_orgin[:,1])\n",
    "    plt.scatter(X_rec[:, 0], X_rec[:, 1],c='red')\n",
    "    plt.show()"
   ]
  },
  {
   "cell_type": "code",
   "execution_count": 36,
   "metadata": {},
   "outputs": [
    {
     "data": {
      "image/png": "[encoded data removed]",
      "text/plain": [
       "<Figure size 432x288 with 1 Axes>"
      ]
     },
     "metadata": {},
     "output_type": "display_data"
    }
   ],
   "source": [
    "X_rec = recoverData(Z,eigenvectors,1)\n",
    "plotData(X,X_rec)"
   ]
  },
  {
   "cell_type": "code",
   "execution_count": null,
   "metadata": {},
   "outputs": [],
   "source": []
  }
 ],
 "metadata": {
  "kernelspec": {
   "display_name": "Python 3",
   "language": "python",
   "name": "python3"
  },
  "language_info": {
   "codemirror_mode": {
    "name": "ipython",
    "version": 3
   },
   "file_extension": ".py",
   "mimetype": "text/x-python",
   "name": "python",
   "nbconvert_exporter": "python",
   "pygments_lexer": "ipython3",
   "version": "3.6.5"
  }
 },
 "nbformat": 4,
 "nbformat_minor": 2
}
