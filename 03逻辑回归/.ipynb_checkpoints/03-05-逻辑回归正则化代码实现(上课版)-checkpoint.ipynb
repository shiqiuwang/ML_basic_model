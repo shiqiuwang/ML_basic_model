{
 "cells": [
  {
   "cell_type": "markdown",
   "metadata": {},
   "source": [
    "# 逻辑回归代码实现"
   ]
  },
  {
   "cell_type": "code",
   "execution_count": 84,
   "metadata": {},
   "outputs": [],
   "source": [
    "import numpy as np\n",
    "import matplotlib.pyplot as plt\n",
    "import matplotlib as mpl\n",
    "from sklearn.metrics import accuracy_score"
   ]
  },
  {
   "cell_type": "markdown",
   "metadata": {},
   "source": [
    "##### 加载数据的函数"
   ]
  },
  {
   "cell_type": "code",
   "execution_count": 85,
   "metadata": {},
   "outputs": [],
   "source": [
    "def loaddata():\n",
    "    data = np.loadtxt('data/data1.txt',delimiter=',')\n",
    "    n = data.shape[1] - 1  # 特征数\n",
    "    X = data[:, 0:n]\n",
    "    y = data[:, -1].reshape(-1, 1)\n",
    "    return X, y"
   ]
  },
  {
   "cell_type": "markdown",
   "metadata": {},
   "source": [
    "##### 画散点图"
   ]
  },
  {
   "cell_type": "code",
   "execution_count": 86,
   "metadata": {},
   "outputs": [],
   "source": [
    "def plot(X,y):\n",
    "    pos = np.where(y==1)\n",
    "    neg = np.where(y==0)\n",
    "    plt.scatter(X[pos[0],0],X[pos[0],1],marker='x')\n",
    "    plt.scatter(X[neg[0], 0], X[neg[0], 1], marker='o')\n",
    "    plt.xlabel('Exam 1 score')\n",
    "    plt.ylabel('Exam 2 score')\n",
    "    plt.show()"
   ]
  },
  {
   "cell_type": "code",
   "execution_count": 87,
   "metadata": {},
   "outputs": [
    {
     "data": {
      "image/png": "[encoded data removed]",
      "text/plain": [
       "<Figure size 432x288 with 1 Axes>"
      ]
     },
     "metadata": {},
     "output_type": "display_data"
    }
   ],
   "source": [
    "X,y = loaddata()\n",
    "plot(X,y)"
   ]
  },
  {
   "cell_type": "markdown",
   "metadata": {},
   "source": [
    "##### 实现sigmoid函数\n",
    "<img src=\"images/01.png\" width=\"200\" align=\"left\"/>"
   ]
  },
  {
   "cell_type": "code",
   "execution_count": 88,
   "metadata": {},
   "outputs": [],
   "source": [
    "def sigmoid(z):\n",
    "    r = 1/(1+np.exp(-z))\n",
    "    return r"
   ]
  },
  {
   "cell_type": "markdown",
   "metadata": {},
   "source": [
    "##### 实现假设函数\n",
    "<img src=\"images/02.png\" width=\"200\" align=\"left\"/>"
   ]
  },
  {
   "cell_type": "code",
   "execution_count": 89,
   "metadata": {},
   "outputs": [],
   "source": [
    "def hypothesis(X,theta):\n",
    "    z=np.dot(X,theta)\n",
    "    return sigmoid(z)"
   ]
  },
  {
   "cell_type": "markdown",
   "metadata": {},
   "source": [
    "##### 损失函数\n",
    "<img src=\"images/03.png\" width=\"250\" align=\"left\"/>\n",
    "<br/>\n",
    "##### <font color='red'>成本函数（改变处）</font>\n",
    "  \n",
    "<img src=\"images/05.png\" width=\"400\" align=\"left\"/>"
   ]
  },
  {
   "cell_type": "code",
   "execution_count": 90,
   "metadata": {},
   "outputs": [],
   "source": [
    "#多传入lambd\n",
    "def computeCost(X,y,theta,lambd):\n",
    "    m = X.shape[0]\n",
    "    z = -1*y*np.log(hypothesis(X,theta))-(1-y)*np.log(1-hypothesis(X,theta))\n",
    "    #下面返回值的代码要改\n",
    "    #return np.sum(z)/m\n",
    "    return np.sum(z)/m+(lamda/2*m)+np.sum(np.power(theta,2))"
   ]
  },
  {
   "cell_type": "markdown",
   "metadata": {},
   "source": [
    "##### <font color='red'>梯度下降法求解(有变化)</font>\n",
    "<img src=\"images/04.png\" width=\"250\" align=\"left\"/>\n",
    "<br>\n",
    "<br>   \n",
    "改变为：\n",
    "\n",
    "<img src=\"images/06.png\" width=\"250\" align=\"left\"/>"
   ]
  },
  {
   "cell_type": "code",
   "execution_count": 91,
   "metadata": {},
   "outputs": [],
   "source": [
    "def gradientDescent(X,y,theta,iterations,alpha,lambd):\n",
    "    #取数据条数\n",
    "    m = X.shape[0]\n",
    "    #在x最前面插入全1的列\n",
    "    X = np.hstack((np.ones((m, 1)), X))\n",
    "    for i in range(iterations):\n",
    "        for j in range(len(theta)):\n",
    "            #下面的迭代公式要改\n",
    "            #theta[j] = theta[j]-(alpha/m)*np.sum((hypothesis(X,theta) - y)*X[:,j].reshape(-1,1))\n",
    "\n",
    "        #每迭代1000次输出一次损失值\n",
    "        if(i%10000==0):\n",
    "            print('第',i,'次迭代，当前损失为：',computeCost(X,y,theta,lambd),'theta=',theta)\n",
    "    return theta"
   ]
  },
  {
   "cell_type": "markdown",
   "metadata": {},
   "source": [
    "##### 预测函数"
   ]
  },
  {
   "cell_type": "code",
   "execution_count": 92,
   "metadata": {},
   "outputs": [],
   "source": [
    "def predict(X):\n",
    "    # 在x最前面插入全1的列\n",
    "    c = np.ones(X.shape[0]).transpose()\n",
    "    X = np.insert(X, 0, values=c, axis=1)  \n",
    "    #求解假设函数的值\n",
    "    h = hypothesis(X,theta)\n",
    "    #根据概率值决定最终的分类,>=0.5为1类，<0.5为0类\n",
    "    h[h>=0.5]=1\n",
    "    h[h<0.5]=0\n",
    "    return h"
   ]
  },
  {
   "cell_type": "code",
   "execution_count": 93,
   "metadata": {},
   "outputs": [],
   "source": [
    "X,y = loaddata()"
   ]
  },
  {
   "cell_type": "code",
   "execution_count": 94,
   "metadata": {},
   "outputs": [],
   "source": [
    "n = X.shape[1]#特征数\n",
    "theta = np.zeros(n+1).reshape(n+1, 1)  # theta是列向量,+1是因为求梯度时X前会增加一个全1列\n",
    "iterations = 250000\n",
    "alpha = 0.008"
   ]
  },
  {
   "cell_type": "code",
   "execution_count": 95,
   "metadata": {},
   "outputs": [
    {
     "name": "stdout",
     "output_type": "stream",
     "text": [
      "第 0 次迭代，当前损失为： 3.4898211734024334 theta= [[ 0.0008    ]\n",
      " [ 0.0959687 ]\n",
      " [-0.17080118]]\n",
      "第 10000 次迭代，当前损失为： 1.742800591795805 theta= [[-5.97396642]\n",
      " [ 0.03494948]\n",
      " [ 0.00734691]]\n",
      "第 20000 次迭代，当前损失为： 1.6350296421727863 theta= [[-10.99045142]\n",
      " [ -0.0957601 ]\n",
      " [  0.25509445]]\n",
      "第 30000 次迭代，当前损失为： 1.2755309233391 theta= [[-14.47603256]\n",
      " [  0.24101975]\n",
      " [  0.08375873]]\n",
      "第 40000 次迭代，当前损失为： 0.9171076789517963 theta= [[-17.43209425]\n",
      " [  0.26455879]\n",
      " [  0.08760486]]\n",
      "第 50000 次迭代，当前损失为： 0.7870734058134988 theta= [[-19.33019256]\n",
      " [  0.1848856 ]\n",
      " [  0.1962559 ]]\n",
      "第 60000 次迭代，当前损失为： 0.7678570762112327 theta= [[-20.65128186]\n",
      " [  0.3170618 ]\n",
      " [  0.04350708]]\n",
      "第 70000 次迭代，当前损失为： 0.5480573979988327 theta= [[-21.59058274]\n",
      " [  0.09375762]\n",
      " [  0.23119576]]\n",
      "第 80000 次迭代，当前损失为： 0.5252331725834901 theta= [[-22.35637706]\n",
      " [  0.11682465]\n",
      " [  0.27621063]]\n",
      "第 90000 次迭代，当前损失为： 0.5338996369673558 theta= [[-22.96485411]\n",
      " [  0.28047518]\n",
      " [  0.08323508]]\n",
      "第 100000 次迭代，当前损失为： 0.4656598627829162 theta= [[-23.45384231]\n",
      " [  0.11660825]\n",
      " [  0.27483063]]\n",
      "第 110000 次迭代，当前损失为： 0.38610073479527657 theta= [[-23.8389841 ]\n",
      " [  0.21008919]\n",
      " [  0.21305452]]\n",
      "第 120000 次迭代，当前损失为： 0.4191934240021029 theta= [[-24.1433255 ]\n",
      " [  0.27666663]\n",
      " [  0.14013568]]\n",
      "第 130000 次迭代，当前损失为： 0.3575964833997531 theta= [[-24.38411957]\n",
      " [  0.14302413]\n",
      " [  0.24194373]]\n",
      "第 140000 次迭代，当前损失为： 0.34627927629320376 theta= [[-24.56753515]\n",
      " [  0.22300429]\n",
      " [  0.20671332]]\n",
      "第 150000 次迭代，当前损失为： 0.3660485164508709 theta= [[-24.70994973]\n",
      " [  0.23088081]\n",
      " [  0.14543833]]\n",
      "第 160000 次迭代，当前损失为： 0.3241458479086377 theta= [[-24.81913813]\n",
      " [  0.16087509]\n",
      " [  0.22485146]]\n",
      "第 170000 次迭代，当前损失为： 0.32714208967507863 theta= [[-24.89958227]\n",
      " [  0.24000659]\n",
      " [  0.19020067]]\n",
      "第 180000 次迭代，当前损失为： 0.3054592163407034 theta= [[-24.96184358]\n",
      " [  0.19746902]\n",
      " [  0.23072786]]\n",
      "第 190000 次迭代，当前损失为： 0.31820272966878566 theta= [[-25.00741744]\n",
      " [  0.2375324 ]\n",
      " [  0.19329859]]\n",
      "第 200000 次迭代，当前损失为： 0.3273561243941825 theta= [[-25.04162387]\n",
      " [  0.25808419]\n",
      " [  0.16673773]]\n",
      "第 210000 次迭代，当前损失为： 0.3101333515604361 theta= [[-25.06871986]\n",
      " [  0.16083039]\n",
      " [  0.25064563]]\n",
      "第 220000 次迭代，当前损失为： 0.3234168745113324 theta= [[-25.08625778]\n",
      " [  0.25905906]\n",
      " [  0.16374   ]]\n",
      "第 230000 次迭代，当前损失为： 0.30495215144877946 theta= [[-25.10169164]\n",
      " [  0.16646131]\n",
      " [  0.25053326]]\n",
      "第 240000 次迭代，当前损失为： 0.30516257920744394 theta= [[-25.11216047]\n",
      " [  0.16454622]\n",
      " [  0.25041135]]\n",
      "theta=\n",
      " [[-25.11944059]\n",
      " [  0.21193097]\n",
      " [  0.17255222]]\n"
     ]
    }
   ],
   "source": [
    "theta = gradientDescent(X,y,theta,iterations,alpha,0.01)\n",
    "print('theta=\\n',theta)"
   ]
  },
  {
   "cell_type": "markdown",
   "metadata": {},
   "source": [
    "##### 画决策边界"
   ]
  },
  {
   "cell_type": "code",
   "execution_count": 96,
   "metadata": {},
   "outputs": [],
   "source": [
    "def plotDescisionBoundary(X,y,theta):\n",
    "    cm_dark = mpl.colors.ListedColormap(['g', 'r'])\n",
    "    plt.xlabel('Exam 1 score')\n",
    "    plt.ylabel('Exam 2 score')\n",
    "    plt.scatter(X[:,0],X[:,1],c=np.array(y).squeeze(),cmap=cm_dark,s=30)\n",
    "\n",
    "    #化分类决策面 theta0+theta1*x1+theta2*x2 = 0\n",
    "    # x1 = np.arange(20,110,0.1)\n",
    "    x1 = np.arange(min(X[:, 0]), max(X[:, 0]), 0.1)\n",
    "    x2 = -(theta[1]*x1+theta[0])/theta[2]\n",
    "    plt.plot(x1,x2)\n",
    "    plt.show()"
   ]
  },
  {
   "cell_type": "code",
   "execution_count": 97,
   "metadata": {},
   "outputs": [
    {
     "data": {
      "image/png": "[encoded data removed]",
      "text/plain": [
       "<Figure size 432x288 with 1 Axes>"
      ]
     },
     "metadata": {},
     "output_type": "display_data"
    }
   ],
   "source": [
    "plotDescisionBoundary(X,y,theta)"
   ]
  },
  {
   "cell_type": "code",
   "execution_count": 98,
   "metadata": {},
   "outputs": [
    {
     "name": "stdout",
     "output_type": "stream",
     "text": [
      "准确度： 0.88\n",
      "准确度： 0.88\n"
     ]
    }
   ],
   "source": [
    "p = predict(X)\n",
    "print('准确度：',np.mean(p==y))\n",
    "print('准确度：',accuracy_score(y,p))"
   ]
  },
  {
   "cell_type": "code",
   "execution_count": null,
   "metadata": {},
   "outputs": [],
   "source": []
  }
 ],
 "metadata": {
  "kernelspec": {
   "display_name": "Python 3",
   "language": "python",
   "name": "python3"
  },
  "language_info": {
   "codemirror_mode": {
    "name": "ipython",
    "version": 3
   },
   "file_extension": ".py",
   "mimetype": "text/x-python",
   "name": "python",
   "nbconvert_exporter": "python",
   "pygments_lexer": "ipython3",
   "version": "3.6.5"
  }
 },
 "nbformat": 4,
 "nbformat_minor": 2
}
