{
 "cells": [
  {
   "cell_type": "markdown",
   "metadata": {},
   "source": [
    "# 高斯混合模型"
   ]
  },
  {
   "cell_type": "code",
   "execution_count": 1,
   "metadata": {},
   "outputs": [],
   "source": [
    "import numpy as np\n",
    "import matplotlib.pyplot as plt"
   ]
  },
  {
   "cell_type": "markdown",
   "metadata": {},
   "source": [
    "### 生成一些数据用来做实验\n",
    "### 1、生成均值为1.71，标准差为0.056的男生身高数据"
   ]
  },
  {
   "cell_type": "code",
   "execution_count": 3,
   "metadata": {},
   "outputs": [],
   "source": [
    "np.random.seed(0)\n",
    "\n",
    "mu_m = 1.71  #期望\n",
    "sigma_m = 0.056  #标准差\n",
    "num_m = 10000  #数据个数为10000\n",
    "rand_data_m = np.random.normal(mu_m, sigma_m, num_m)#生成数据\n",
    "y_m = np.ones(num_m)#生成标签"
   ]
  },
  {
   "cell_type": "markdown",
   "metadata": {},
   "source": [
    "### 2、生成均值为1.58，标准差为0.051的女生身高数据"
   ]
  },
  {
   "cell_type": "code",
   "execution_count": 4,
   "metadata": {},
   "outputs": [],
   "source": [
    "np.random.seed(0)\n",
    "\n",
    "mu_w = 1.58  #期望\n",
    "sigma_w = 0.051  #标准差数据\n",
    "num_w = 10000  #个数为10000\n",
    "rand_data_w = np.random.normal(mu_w, sigma_w, num_w)#生成数据\n",
    "y_w = np.zeros(num_m)#生成标签"
   ]
  },
  {
   "cell_type": "markdown",
   "metadata": {},
   "source": [
    "### 3、把男生数据和女生数据合在一起"
   ]
  },
  {
   "cell_type": "code",
   "execution_count": 5,
   "metadata": {},
   "outputs": [
    {
     "name": "stdout",
     "output_type": "stream",
     "text": [
      "[[1.80878693]\n",
      " [1.7324088 ]\n",
      " [1.76480933]\n",
      " ...\n",
      " [1.60636048]\n",
      " [1.57832104]\n",
      " [1.64620368]]\n",
      "[1. 1. 1. ... 0. 0. 0.]\n"
     ]
    }
   ],
   "source": [
    "data = np.append(rand_data_m,rand_data_w)\n",
    "data = data.reshape(-1,1)\n",
    "y = np.append(y_m,y_w)\n",
    "print(data)\n",
    "print(y)"
   ]
  },
  {
   "cell_type": "code",
   "execution_count": 6,
   "metadata": {},
   "outputs": [
    {
     "name": "stdout",
     "output_type": "stream",
     "text": [
      "类别概率:\t 0.487388464507264\n",
      "均值:\t [1.57749047] [1.70726384]\n",
      "方差:\n",
      " [[0.00244834]] \n",
      "\n",
      " [[0.00315184]] \n",
      "\n"
     ]
    }
   ],
   "source": [
    "from scipy.stats import multivariate_normal\n",
    "\n",
    "num_iter = 1000\n",
    "n, d = data.shape\n",
    "#初始化参数\n",
    "mu1 = data.min(axis=0)\n",
    "mu2 = data.max(axis=0)\n",
    "sigma1 = np.identity(d)\n",
    "sigma2 = np.identity(d)\n",
    "pi = 0.5\n",
    "\n",
    "for i in range(num_iter):\n",
    "    #计算gamma\n",
    "    norm1 = multivariate_normal(mu1, sigma1)\n",
    "    norm2 = multivariate_normal(mu2, sigma2)\n",
    "    tau1 = pi * norm1.pdf(data)\n",
    "    tau2 = (1 - pi) * norm2.pdf(data)\n",
    "    gamma = tau1 / (tau1 + tau2)\n",
    "\n",
    "    #计算mu1\n",
    "    mu1 = np.dot(gamma, data) / np.sum(gamma)\n",
    "    #计算mu2\n",
    "    mu2 = np.dot((1 - gamma), data) / np.sum((1 - gamma))\n",
    "    #计算sigma1\n",
    "    sigma1 = np.dot(gamma * (data - mu1).T, data - mu1) / np.sum(gamma)\n",
    "    #计算sigmal2\n",
    "    sigma2 = np.dot((1 - gamma) * (data - mu2).T, data - mu2) / np.sum(1 - gamma)\n",
    "    #计算pi\n",
    "    pi = np.sum(gamma) / n\n",
    "\n",
    "print(u'类别概率:\\t', pi)\n",
    "print(u'均值:\\t', mu1, mu2)\n",
    "print(u'方差:\\n', sigma1, '\\n\\n', sigma2, '\\n')"
   ]
  },
  {
   "cell_type": "code",
   "execution_count": null,
   "metadata": {},
   "outputs": [],
   "source": []
  }
 ],
 "metadata": {
  "kernelspec": {
   "display_name": "Python 3",
   "language": "python",
   "name": "python3"
  },
  "language_info": {
   "codemirror_mode": {
    "name": "ipython",
    "version": 3
   },
   "file_extension": ".py",
   "mimetype": "text/x-python",
   "name": "python",
   "nbconvert_exporter": "python",
   "pygments_lexer": "ipython3",
   "version": "3.6.5"
  }
 },
 "nbformat": 4,
 "nbformat_minor": 2
}
