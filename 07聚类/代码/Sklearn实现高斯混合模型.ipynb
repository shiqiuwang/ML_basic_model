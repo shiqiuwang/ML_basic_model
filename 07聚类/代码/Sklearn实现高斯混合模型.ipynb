{
 "cells": [
  {
   "cell_type": "markdown",
   "metadata": {},
   "source": [
    "# Sklearn实现高斯混合模型"
   ]
  },
  {
   "cell_type": "code",
   "execution_count": 8,
   "metadata": {},
   "outputs": [],
   "source": [
    "import numpy as np\n",
    "import matplotlib.pyplot as plt"
   ]
  },
  {
   "cell_type": "markdown",
   "metadata": {},
   "source": [
    "### 生成一些数据用来做实验\n",
    "### 1、生成均值为1.71，标准差为0.056的男生身高数据"
   ]
  },
  {
   "cell_type": "code",
   "execution_count": 9,
   "metadata": {},
   "outputs": [],
   "source": [
    "np.random.seed(0)\n",
    "\n",
    "mu_m = 1.71  #期望为\n",
    "sigma_m = 0.056  #标准差为\n",
    "num_m = 10000  #个数为10000\n",
    "rand_data_m = np.random.normal(mu_m, sigma_m, num_m)\n",
    "y_m = np.ones(num_m)"
   ]
  },
  {
   "cell_type": "markdown",
   "metadata": {},
   "source": [
    "### 2、生成均值为1.58，标准差为0.051的女生身高数据"
   ]
  },
  {
   "cell_type": "code",
   "execution_count": 10,
   "metadata": {},
   "outputs": [],
   "source": [
    "np.random.seed(0)\n",
    "\n",
    "mu_w = 1.58  #期望为\n",
    "sigma_w = 0.051  #标准差为\n",
    "num_w = 10000  #个数为10000\n",
    "rand_data_w = np.random.normal(mu_w, sigma_w, num_w)\n",
    "y_w = np.zeros(num_m)"
   ]
  },
  {
   "cell_type": "markdown",
   "metadata": {},
   "source": [
    "### 3、把男生数据和女生数据合在一起"
   ]
  },
  {
   "cell_type": "code",
   "execution_count": 11,
   "metadata": {},
   "outputs": [
    {
     "name": "stdout",
     "output_type": "stream",
     "text": [
      "[[1.80878693]\n",
      " [1.7324088 ]\n",
      " [1.76480933]\n",
      " ...\n",
      " [1.60636048]\n",
      " [1.57832104]\n",
      " [1.64620368]]\n",
      "[1. 1. 1. ... 0. 0. 0.]\n"
     ]
    }
   ],
   "source": [
    "data = np.append(rand_data_m,rand_data_w)\n",
    "data = data.reshape(-1,1)\n",
    "y = np.append(y_m,y_w)\n",
    "print(data)\n",
    "print(y)"
   ]
  },
  {
   "cell_type": "code",
   "execution_count": 12,
   "metadata": {},
   "outputs": [
    {
     "name": "stdout",
     "output_type": "stream",
     "text": [
      "类别概率:\t 0.4997126713994801\n",
      "均值:\n",
      " [[1.57895803]\n",
      " [1.70899484]] \n",
      "\n",
      "方差:\n",
      " [[[0.00251689]]\n",
      "\n",
      " [[0.00306315]]] \n",
      "\n"
     ]
    }
   ],
   "source": [
    "from sklearn.mixture import GaussianMixture\n",
    "g = GaussianMixture(n_components=2, covariance_type='full', tol=1e-6, max_iter=1000)\n",
    "g.fit(data)\n",
    "print(u'类别概率:\\t', g.weights_[0])\n",
    "print(u'均值:\\n', g.means_, '\\n')\n",
    "print(u'方差:\\n', g.covariances_, '\\n')"
   ]
  },
  {
   "cell_type": "code",
   "execution_count": 13,
   "metadata": {},
   "outputs": [
    {
     "name": "stdout",
     "output_type": "stream",
     "text": [
      "0.8891\n"
     ]
    }
   ],
   "source": [
    "from sklearn.metrics import accuracy_score\n",
    "y_hat = g.predict(data)\n",
    "print(accuracy_score(y,y_hat))"
   ]
  },
  {
   "cell_type": "code",
   "execution_count": null,
   "metadata": {},
   "outputs": [],
   "source": []
  }
 ],
 "metadata": {
  "kernelspec": {
   "display_name": "Python 3",
   "language": "python",
   "name": "python3"
  },
  "language_info": {
   "codemirror_mode": {
    "name": "ipython",
    "version": 3
   },
   "file_extension": ".py",
   "mimetype": "text/x-python",
   "name": "python",
   "nbconvert_exporter": "python",
   "pygments_lexer": "ipython3",
   "version": "3.6.5"
  }
 },
 "nbformat": 4,
 "nbformat_minor": 2
}
