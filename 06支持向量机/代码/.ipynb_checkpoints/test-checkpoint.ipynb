{
 "cells": [
  {
   "cell_type": "code",
   "execution_count": 79,
   "metadata": {},
   "outputs": [],
   "source": [
    "from numpy import *\n",
    "import matplotlib as mpl\n",
    "import matplotlib.pyplot as plt\n",
    "from matplotlib.patches import Circle"
   ]
  },
  {
   "cell_type": "code",
   "execution_count": 80,
   "metadata": {},
   "outputs": [],
   "source": [
    "def loadDataSet(fileName):\n",
    "    dataMat = []; labelMat = []\n",
    "    fr = open(fileName)\n",
    "    for line in fr.readlines():\n",
    "        lineArr = line.strip().split('\\t')\n",
    "        dataMat.append([float(lineArr[0]), float(lineArr[1])])\n",
    "        labelMat.append(float(lineArr[2]))\n",
    "    return dataMat,labelMat"
   ]
  },
  {
   "cell_type": "code",
   "execution_count": 81,
   "metadata": {},
   "outputs": [],
   "source": [
    "dataMat,labelMat=loadDataSet(\"data/svm1.txt\")"
   ]
  },
  {
   "cell_type": "code",
   "execution_count": 82,
   "metadata": {},
   "outputs": [
    {
     "data": {
      "text/plain": [
       "[[3.542485, 1.977398],\n",
       " [3.018896, 2.556416],\n",
       " [7.55151, -1.58003],\n",
       " [2.114999, -0.004466],\n",
       " [8.127113, 1.274372],\n",
       " [7.108772, -0.986906],\n",
       " [8.610639, 2.046708],\n",
       " [2.326297, 0.265213],\n",
       " [3.634009, 1.730537],\n",
       " [0.341367, -0.894998],\n",
       " [3.125951, 0.293251],\n",
       " [2.123252, -0.783563],\n",
       " [0.887835, -2.797792],\n",
       " [7.139979, -2.329896],\n",
       " [1.696414, -1.212496],\n",
       " [8.117032, 0.623493],\n",
       " [8.497162, -0.266649],\n",
       " [4.658191, 3.507396],\n",
       " [8.197181, 1.545132],\n",
       " [1.208047, 0.2131],\n",
       " [1.928486, -0.32187],\n",
       " [2.175808, -0.014527],\n",
       " [7.886608, 0.461755],\n",
       " [3.223038, -0.552392],\n",
       " [3.628502, 2.190585],\n",
       " [7.40786, -0.121961],\n",
       " [7.286357, 0.251077],\n",
       " [2.301095, -0.533988],\n",
       " [-0.232542, -0.54769],\n",
       " [3.457096, -0.082216],\n",
       " [3.023938, -0.057392],\n",
       " [8.015003, 0.885325],\n",
       " [8.991748, 0.923154],\n",
       " [7.916831, -1.781735],\n",
       " [7.616862, -0.217958],\n",
       " [2.450939, 0.744967],\n",
       " [7.270337, -2.507834],\n",
       " [1.749721, -0.961902],\n",
       " [1.803111, -0.176349],\n",
       " [8.804461, 3.044301],\n",
       " [1.231257, -0.568573],\n",
       " [2.074915, 1.41055],\n",
       " [-0.743036, -1.736103],\n",
       " [3.536555, 3.96496],\n",
       " [8.410143, 0.025606],\n",
       " [7.382988, -0.478764],\n",
       " [6.960661, -0.245353],\n",
       " [8.23446, 0.701868],\n",
       " [8.168618, -0.903835],\n",
       " [1.534187, -0.622492],\n",
       " [9.229518, 2.066088],\n",
       " [7.886242, 0.191813],\n",
       " [2.893743, -1.643468],\n",
       " [1.870457, -1.04042],\n",
       " [5.286862, -2.358286],\n",
       " [6.080573, 0.418886],\n",
       " [2.544314, 1.714165],\n",
       " [6.016004, -3.753712],\n",
       " [0.92631, -0.564359],\n",
       " [0.870296, -0.109952],\n",
       " [2.369345, 1.375695],\n",
       " [1.363782, -0.254082],\n",
       " [7.27946, -0.189572],\n",
       " [1.896005, 0.51508],\n",
       " [8.102154, -0.603875],\n",
       " [2.529893, 0.662657],\n",
       " [1.963874, -0.365233],\n",
       " [8.132048, 0.785914],\n",
       " [8.245938, 0.372366],\n",
       " [6.543888, 0.433164],\n",
       " [-0.236713, -5.766721],\n",
       " [8.112593, 0.295839],\n",
       " [9.803425, 1.495167],\n",
       " [1.497407, -0.552916],\n",
       " [1.336267, -1.632889],\n",
       " [9.205805, -0.58648],\n",
       " [1.966279, -1.840439],\n",
       " [8.398012, 1.584918],\n",
       " [7.239953, -1.764292],\n",
       " [7.556201, 0.241185],\n",
       " [9.015509, 0.345019],\n",
       " [8.266085, -0.230977],\n",
       " [8.54562, 2.788799],\n",
       " [9.295969, 1.346332],\n",
       " [2.404234, 0.570278],\n",
       " [2.037772, 0.021919],\n",
       " [1.727631, -0.453143],\n",
       " [1.979395, -0.050773],\n",
       " [8.092288, -1.372433],\n",
       " [1.667645, 0.239204],\n",
       " [9.854303, 1.365116],\n",
       " [7.921057, -1.327587],\n",
       " [8.500757, 1.492372],\n",
       " [1.339746, -0.291183],\n",
       " [3.107511, 0.758367],\n",
       " [2.609525, 0.902979],\n",
       " [3.263585, 1.367898],\n",
       " [2.912122, -0.202359],\n",
       " [1.731786, 0.589096],\n",
       " [2.387003, 1.573131]]"
      ]
     },
     "execution_count": 82,
     "metadata": {},
     "output_type": "execute_result"
    }
   ],
   "source": [
    "dataMat"
   ]
  },
  {
   "cell_type": "markdown",
   "metadata": {},
   "source": [
    "### 画散点图"
   ]
  },
  {
   "cell_type": "code",
   "execution_count": 83,
   "metadata": {},
   "outputs": [
    {
     "data": {
      "text/plain": [
       "<matplotlib.collections.PathCollection at 0x11bf69dc7b8>"
      ]
     },
     "execution_count": 83,
     "metadata": {},
     "output_type": "execute_result"
    },
    {
     "data": {
      "image/png": "[encoded data removed]",
      "text/plain": [
       "<Figure size 432x288 with 1 Axes>"
      ]
     },
     "metadata": {},
     "output_type": "display_data"
    }
   ],
   "source": [
    "fig = plt.figure()\n",
    "ax = fig.add_subplot(111)\n",
    "cm_dark = mpl.colors.ListedColormap(['g', 'r'])\n",
    "ax.scatter(array(dataMat)[:,0],array(dataMat)[:,1],c=array(labelMat).squeeze(),cmap=cm_dark,s=30)"
   ]
  },
  {
   "cell_type": "markdown",
   "metadata": {},
   "source": [
    "### alpha的选取，随机选择一个不等于i值的j"
   ]
  },
  {
   "cell_type": "code",
   "execution_count": 84,
   "metadata": {},
   "outputs": [],
   "source": [
    "def selectJrand(i,m):\n",
    "    j=i\n",
    "    while (j==i):\n",
    "        j = int(random.uniform(0,m))\n",
    "    return j"
   ]
  },
  {
   "cell_type": "markdown",
   "metadata": {},
   "source": [
    "### 进行剪辑\n",
    "\n",
    "<img src=\"images/01.png\" align=\"left\" width=\"300\" />"
   ]
  },
  {
   "cell_type": "code",
   "execution_count": 85,
   "metadata": {},
   "outputs": [],
   "source": [
    "def clipAlpha(aj,H,L):\n",
    "    if aj > H:\n",
    "        aj = H\n",
    "    if L > aj:\n",
    "        aj = L\n",
    "    return aj"
   ]
  },
  {
   "cell_type": "markdown",
   "metadata": {},
   "source": [
    "### SMO算法的核心实现\n",
    "<img src=\"images/02.png\" align=\"left\" width=\"250\" />\n",
    "<img src=\"images/03.png\" align=\"left\" width=\"250\" />\n",
    "<img src=\"images/04.png\" align=\"left\" width=\"250\" />"
   ]
  },
  {
   "cell_type": "code",
   "execution_count": 86,
   "metadata": {},
   "outputs": [],
   "source": [
    "def smoSimple(dataMatIn, classLabels, C, toler, maxIter):\n",
    "    dataMatrix = mat(dataMatIn); labelMat = mat(classLabels).transpose()\n",
    "    #初始化b为0\n",
    "    b=0\n",
    "    #获取数据维度\n",
    "    m,n = shape(dataMatrix)\n",
    "    #初始化所有alpha为0\n",
    "    alphas = mat(zeros((m,1)))\n",
    "    iter = 0\n",
    "    #迭代求解\n",
    "    while (iter < maxIter):\n",
    "        alphaPairsChanged = 0\n",
    "        for i in range(m):\n",
    "            #计算g(xi)\n",
    "            gXi = float(multiply(alphas,labelMat).T*(dataMatrix*dataMatrix[i,:].T))+b\n",
    "            #计算Ei\n",
    "            Ei = gXi-float(labelMat[i])\n",
    "            if ((labelMat[i]*Ei < -toler) and (alphas[i] < C)) or ((labelMat[i]*Ei > toler) and (alphas[i] > 0)):\n",
    "                #随机选择一个待优化的alpha（先随机出alpha下标）\n",
    "                j = selectJrand(i,m)\n",
    "                #计算g(xj)\n",
    "                gXj = float(multiply(alphas,labelMat).T*(dataMatrix*dataMatrix[j,:].T))+b\n",
    "                #计算Ej\n",
    "                Ej = gXj-float(labelMat[j])\n",
    "                #把原来的alpha值复制，作为old值\n",
    "                alphaIold = alphas[i].copy(); alphaJold = alphas[j].copy();\n",
    "                #计算上下界\n",
    "                if (labelMat[i] != labelMat[j]):\n",
    "                    L = max(0,alphas[j]-alphas[i])\n",
    "                    H = min(C,C+alphas[j]-alphas[i])\n",
    "                else:\n",
    "                    L = max(0,alphas[j]+alphas[i]-C)\n",
    "                    H = min(C,alphas[j]+alphas[i])\n",
    "                if L==H: print(\"L==H\"); continue\n",
    "                #计算eta\n",
    "                eta = 2*dataMatrix[i,:]*dataMatrix[j,:].T-dataMatrix[i,:]*dataMatrix[i,:].T-dataMatrix[j,:]*dataMatrix[j,:].T\n",
    "                if eta >= 0: print(\"eta>=0\"); continue\n",
    "                #计算alpha[j]，为了和公式对应把j看出2\n",
    "                alphas[j]-=labelMat[j]*(Ei-Ej)/eta\n",
    "                #剪辑alpha[j]，为了和公式对应把j看出2\n",
    "                alphas[j] = clipAlpha(alphas[j],H,L)\n",
    "                if (abs(alphas[j] - alphaJold) < 0.00001): print(\"j not moving enough\"); continue\n",
    "                #计算alpha[i] ，为了和公式对应把j看出1\n",
    "                alphas[i] += labelMat[i]*labelMat[j]*(alphaJold-alphas[j])\n",
    "                #计算b1\n",
    "                b1 = -Ei-labelMat[i]*(dataMatrix[i,:]*dataMatrix[i,:].T)*(alphas[i]-alphaIold)-labelMat[j]*(dataMatrix[j:]*dataMatrix[i:].T)*(alphas[j]-alphaJold)+b\n",
    "                #计算b2\n",
    "                b2 = b - Ej- labelMat[i]*(alphas[i]-alphaIold)*dataMatrix[i,:]*dataMatrix[j,:].T - labelMat[j]*(alphas[j]-alphaJold)*dataMatrix[j,:]*dataMatrix[j,:].T\n",
    "                #求解b\n",
    "                if (0 < alphas[i]) and (C > alphas[i]): b = b1\n",
    "                elif (0 < alphas[j]) and (C > alphas[j]): b = b2\n",
    "                else: b = (b1 + b2)/2.0\n",
    "                alphaPairsChanged += 1\n",
    "                print(\"iter: %d i:%d, pairs changed %d\" % (iter,i,alphaPairsChanged))\n",
    "        if (alphaPairsChanged == 0): iter += 1\n",
    "        else: iter = 0\n",
    "        print(\"iteration number: %d\" % iter)\n",
    "    return b,alphas"
   ]
  },
  {
   "cell_type": "markdown",
   "metadata": {},
   "source": [
    "### 计算w\n",
    "<img src=\"images/05.png\" align=\"left\" width=\"250\" />"
   ]
  },
  {
   "cell_type": "code",
   "execution_count": 87,
   "metadata": {},
   "outputs": [],
   "source": [
    "def calcWs(alphas,dataArr,classLabels):\n",
    "    X = mat(dataArr); labelMat = mat(classLabels).transpose()\n",
    "    m,n = shape(X)\n",
    "    #初始化w都为1\n",
    "    w = zeros((n,1))\n",
    "    #循环计算\n",
    "    for i in range(m):\n",
    "        w += multiply(alphas[i]*labelMat[i],X[i,:].T)\n",
    "    return w"
   ]
  },
  {
   "cell_type": "markdown",
   "metadata": {},
   "source": [
    "### 调用上述方法，求解w，b，alpha"
   ]
  },
  {
   "cell_type": "code",
   "execution_count": 88,
   "metadata": {},
   "outputs": [
    {
     "name": "stdout",
     "output_type": "stream",
     "text": [
      "L==H\n"
     ]
    },
    {
     "ename": "ValueError",
     "evalue": "shapes (1,1) and (12,99) not aligned: 1 (dim 1) != 12 (dim 0)",
     "output_type": "error",
     "traceback": [
      "\u001b[1;31m---------------------------------------------------------------------------\u001b[0m",
      "\u001b[1;31mValueError\u001b[0m                                Traceback (most recent call last)",
      "\u001b[1;32m<ipython-input-88-cbe7129f9d4e>\u001b[0m in \u001b[0;36m<module>\u001b[1;34m()\u001b[0m\n\u001b[1;32m----> 1\u001b[1;33m \u001b[0mb\u001b[0m\u001b[1;33m,\u001b[0m\u001b[0malphas\u001b[0m \u001b[1;33m=\u001b[0m \u001b[0msmoSimple\u001b[0m\u001b[1;33m(\u001b[0m\u001b[0mdataMat\u001b[0m\u001b[1;33m,\u001b[0m\u001b[0mlabelMat\u001b[0m\u001b[1;33m,\u001b[0m\u001b[1;36m0.6\u001b[0m\u001b[1;33m,\u001b[0m\u001b[1;36m0.001\u001b[0m\u001b[1;33m,\u001b[0m\u001b[1;36m40\u001b[0m\u001b[1;33m)\u001b[0m\u001b[1;33m\u001b[0m\u001b[0m\n\u001b[0m\u001b[0;32m      2\u001b[0m \u001b[0mw\u001b[0m \u001b[1;33m=\u001b[0m \u001b[0mcalcWs\u001b[0m\u001b[1;33m(\u001b[0m\u001b[0malphas\u001b[0m\u001b[1;33m,\u001b[0m\u001b[0mdataMat\u001b[0m\u001b[1;33m,\u001b[0m\u001b[0mlabelMat\u001b[0m\u001b[1;33m)\u001b[0m\u001b[1;33m\u001b[0m\u001b[0m\n\u001b[0;32m      3\u001b[0m \u001b[0mprint\u001b[0m\u001b[1;33m(\u001b[0m\u001b[1;34m'b='\u001b[0m\u001b[1;33m,\u001b[0m\u001b[0mb\u001b[0m\u001b[1;33m)\u001b[0m\u001b[1;33m\u001b[0m\u001b[0m\n\u001b[0;32m      4\u001b[0m \u001b[0mprint\u001b[0m\u001b[1;33m(\u001b[0m\u001b[1;34m'alphas='\u001b[0m\u001b[1;33m,\u001b[0m\u001b[0malphas\u001b[0m\u001b[1;33m)\u001b[0m\u001b[1;33m\u001b[0m\u001b[0m\n\u001b[0;32m      5\u001b[0m \u001b[0mprint\u001b[0m\u001b[1;33m(\u001b[0m\u001b[1;34m'w='\u001b[0m\u001b[1;33m,\u001b[0m\u001b[0mw\u001b[0m\u001b[1;33m)\u001b[0m\u001b[1;33m\u001b[0m\u001b[0m\n",
      "\u001b[1;32m<ipython-input-86-39eb541b75aa>\u001b[0m in \u001b[0;36msmoSimple\u001b[1;34m(dataMatIn, classLabels, C, toler, maxIter)\u001b[0m\n\u001b[0;32m     44\u001b[0m                 \u001b[0malphas\u001b[0m\u001b[1;33m[\u001b[0m\u001b[0mi\u001b[0m\u001b[1;33m]\u001b[0m \u001b[1;33m+=\u001b[0m \u001b[0mlabelMat\u001b[0m\u001b[1;33m[\u001b[0m\u001b[0mi\u001b[0m\u001b[1;33m]\u001b[0m\u001b[1;33m*\u001b[0m\u001b[0mlabelMat\u001b[0m\u001b[1;33m[\u001b[0m\u001b[0mj\u001b[0m\u001b[1;33m]\u001b[0m\u001b[1;33m*\u001b[0m\u001b[1;33m(\u001b[0m\u001b[0malphaJold\u001b[0m\u001b[1;33m-\u001b[0m\u001b[0malphas\u001b[0m\u001b[1;33m[\u001b[0m\u001b[0mj\u001b[0m\u001b[1;33m]\u001b[0m\u001b[1;33m)\u001b[0m\u001b[1;33m\u001b[0m\u001b[0m\n\u001b[0;32m     45\u001b[0m                 \u001b[1;31m#计算b1\u001b[0m\u001b[1;33m\u001b[0m\u001b[1;33m\u001b[0m\u001b[0m\n\u001b[1;32m---> 46\u001b[1;33m                 \u001b[0mb1\u001b[0m \u001b[1;33m=\u001b[0m \u001b[1;33m-\u001b[0m\u001b[0mEi\u001b[0m\u001b[1;33m-\u001b[0m\u001b[0mlabelMat\u001b[0m\u001b[1;33m[\u001b[0m\u001b[0mi\u001b[0m\u001b[1;33m]\u001b[0m\u001b[1;33m*\u001b[0m\u001b[1;33m(\u001b[0m\u001b[0mdataMatrix\u001b[0m\u001b[1;33m[\u001b[0m\u001b[0mi\u001b[0m\u001b[1;33m,\u001b[0m\u001b[1;33m:\u001b[0m\u001b[1;33m]\u001b[0m\u001b[1;33m*\u001b[0m\u001b[0mdataMatrix\u001b[0m\u001b[1;33m[\u001b[0m\u001b[0mi\u001b[0m\u001b[1;33m,\u001b[0m\u001b[1;33m:\u001b[0m\u001b[1;33m]\u001b[0m\u001b[1;33m.\u001b[0m\u001b[0mT\u001b[0m\u001b[1;33m)\u001b[0m\u001b[1;33m*\u001b[0m\u001b[1;33m(\u001b[0m\u001b[0malphas\u001b[0m\u001b[1;33m[\u001b[0m\u001b[0mi\u001b[0m\u001b[1;33m]\u001b[0m\u001b[1;33m-\u001b[0m\u001b[0malphaIold\u001b[0m\u001b[1;33m)\u001b[0m\u001b[1;33m-\u001b[0m\u001b[0mlabelMat\u001b[0m\u001b[1;33m[\u001b[0m\u001b[0mj\u001b[0m\u001b[1;33m]\u001b[0m\u001b[1;33m*\u001b[0m\u001b[1;33m(\u001b[0m\u001b[0mdataMatrix\u001b[0m\u001b[1;33m[\u001b[0m\u001b[0mj\u001b[0m\u001b[1;33m:\u001b[0m\u001b[1;33m]\u001b[0m\u001b[1;33m*\u001b[0m\u001b[0mdataMatrix\u001b[0m\u001b[1;33m[\u001b[0m\u001b[0mi\u001b[0m\u001b[1;33m:\u001b[0m\u001b[1;33m]\u001b[0m\u001b[1;33m.\u001b[0m\u001b[0mT\u001b[0m\u001b[1;33m)\u001b[0m\u001b[1;33m*\u001b[0m\u001b[1;33m(\u001b[0m\u001b[0malphas\u001b[0m\u001b[1;33m[\u001b[0m\u001b[0mj\u001b[0m\u001b[1;33m]\u001b[0m\u001b[1;33m-\u001b[0m\u001b[0malphaJold\u001b[0m\u001b[1;33m)\u001b[0m\u001b[1;33m+\u001b[0m\u001b[0mb\u001b[0m\u001b[1;33m\u001b[0m\u001b[0m\n\u001b[0m\u001b[0;32m     47\u001b[0m                 \u001b[1;31m#计算b2\u001b[0m\u001b[1;33m\u001b[0m\u001b[1;33m\u001b[0m\u001b[0m\n\u001b[0;32m     48\u001b[0m                 \u001b[0mb2\u001b[0m \u001b[1;33m=\u001b[0m \u001b[0mb\u001b[0m \u001b[1;33m-\u001b[0m \u001b[0mEj\u001b[0m\u001b[1;33m-\u001b[0m \u001b[0mlabelMat\u001b[0m\u001b[1;33m[\u001b[0m\u001b[0mi\u001b[0m\u001b[1;33m]\u001b[0m\u001b[1;33m*\u001b[0m\u001b[1;33m(\u001b[0m\u001b[0malphas\u001b[0m\u001b[1;33m[\u001b[0m\u001b[0mi\u001b[0m\u001b[1;33m]\u001b[0m\u001b[1;33m-\u001b[0m\u001b[0malphaIold\u001b[0m\u001b[1;33m)\u001b[0m\u001b[1;33m*\u001b[0m\u001b[0mdataMatrix\u001b[0m\u001b[1;33m[\u001b[0m\u001b[0mi\u001b[0m\u001b[1;33m,\u001b[0m\u001b[1;33m:\u001b[0m\u001b[1;33m]\u001b[0m\u001b[1;33m*\u001b[0m\u001b[0mdataMatrix\u001b[0m\u001b[1;33m[\u001b[0m\u001b[0mj\u001b[0m\u001b[1;33m,\u001b[0m\u001b[1;33m:\u001b[0m\u001b[1;33m]\u001b[0m\u001b[1;33m.\u001b[0m\u001b[0mT\u001b[0m \u001b[1;33m-\u001b[0m \u001b[0mlabelMat\u001b[0m\u001b[1;33m[\u001b[0m\u001b[0mj\u001b[0m\u001b[1;33m]\u001b[0m\u001b[1;33m*\u001b[0m\u001b[1;33m(\u001b[0m\u001b[0malphas\u001b[0m\u001b[1;33m[\u001b[0m\u001b[0mj\u001b[0m\u001b[1;33m]\u001b[0m\u001b[1;33m-\u001b[0m\u001b[0malphaJold\u001b[0m\u001b[1;33m)\u001b[0m\u001b[1;33m*\u001b[0m\u001b[0mdataMatrix\u001b[0m\u001b[1;33m[\u001b[0m\u001b[0mj\u001b[0m\u001b[1;33m,\u001b[0m\u001b[1;33m:\u001b[0m\u001b[1;33m]\u001b[0m\u001b[1;33m*\u001b[0m\u001b[0mdataMatrix\u001b[0m\u001b[1;33m[\u001b[0m\u001b[0mj\u001b[0m\u001b[1;33m,\u001b[0m\u001b[1;33m:\u001b[0m\u001b[1;33m]\u001b[0m\u001b[1;33m.\u001b[0m\u001b[0mT\u001b[0m\u001b[1;33m\u001b[0m\u001b[0m\n",
      "\u001b[1;32mC:\\ProgramData\\Anaconda3\\lib\\site-packages\\numpy\\matrixlib\\defmatrix.py\u001b[0m in \u001b[0;36m__mul__\u001b[1;34m(self, other)\u001b[0m\n\u001b[0;32m    307\u001b[0m         \u001b[1;32mif\u001b[0m \u001b[0misinstance\u001b[0m\u001b[1;33m(\u001b[0m\u001b[0mother\u001b[0m\u001b[1;33m,\u001b[0m \u001b[1;33m(\u001b[0m\u001b[0mN\u001b[0m\u001b[1;33m.\u001b[0m\u001b[0mndarray\u001b[0m\u001b[1;33m,\u001b[0m \u001b[0mlist\u001b[0m\u001b[1;33m,\u001b[0m \u001b[0mtuple\u001b[0m\u001b[1;33m)\u001b[0m\u001b[1;33m)\u001b[0m \u001b[1;33m:\u001b[0m\u001b[1;33m\u001b[0m\u001b[0m\n\u001b[0;32m    308\u001b[0m             \u001b[1;31m# This promotes 1-D vectors to row vectors\u001b[0m\u001b[1;33m\u001b[0m\u001b[1;33m\u001b[0m\u001b[0m\n\u001b[1;32m--> 309\u001b[1;33m             \u001b[1;32mreturn\u001b[0m \u001b[0mN\u001b[0m\u001b[1;33m.\u001b[0m\u001b[0mdot\u001b[0m\u001b[1;33m(\u001b[0m\u001b[0mself\u001b[0m\u001b[1;33m,\u001b[0m \u001b[0masmatrix\u001b[0m\u001b[1;33m(\u001b[0m\u001b[0mother\u001b[0m\u001b[1;33m)\u001b[0m\u001b[1;33m)\u001b[0m\u001b[1;33m\u001b[0m\u001b[0m\n\u001b[0m\u001b[0;32m    310\u001b[0m         \u001b[1;32mif\u001b[0m \u001b[0misscalar\u001b[0m\u001b[1;33m(\u001b[0m\u001b[0mother\u001b[0m\u001b[1;33m)\u001b[0m \u001b[1;32mor\u001b[0m \u001b[1;32mnot\u001b[0m \u001b[0mhasattr\u001b[0m\u001b[1;33m(\u001b[0m\u001b[0mother\u001b[0m\u001b[1;33m,\u001b[0m \u001b[1;34m'__rmul__'\u001b[0m\u001b[1;33m)\u001b[0m \u001b[1;33m:\u001b[0m\u001b[1;33m\u001b[0m\u001b[0m\n\u001b[0;32m    311\u001b[0m             \u001b[1;32mreturn\u001b[0m \u001b[0mN\u001b[0m\u001b[1;33m.\u001b[0m\u001b[0mdot\u001b[0m\u001b[1;33m(\u001b[0m\u001b[0mself\u001b[0m\u001b[1;33m,\u001b[0m \u001b[0mother\u001b[0m\u001b[1;33m)\u001b[0m\u001b[1;33m\u001b[0m\u001b[0m\n",
      "\u001b[1;31mValueError\u001b[0m: shapes (1,1) and (12,99) not aligned: 1 (dim 1) != 12 (dim 0)"
     ]
    }
   ],
   "source": [
    "b,alphas = smoSimple(dataMat,labelMat,0.6,0.001,40)\n",
    "w = calcWs(alphas,dataMat,labelMat)\n",
    "print('b=',b)\n",
    "print('alphas=',alphas)\n",
    "print('w=',w)"
   ]
  },
  {
   "cell_type": "markdown",
   "metadata": {},
   "source": [
    "### 画决策平面"
   ]
  },
  {
   "cell_type": "code",
   "execution_count": null,
   "metadata": {},
   "outputs": [],
   "source": [
    "fig = plt.figure()\n",
    "ax = fig.add_subplot(111)\n",
    "cm_dark = mpl.colors.ListedColormap(['g', 'r'])\n",
    "ax.scatter(array(dataMat)[:,0],array(dataMat)[:,1],c=array(labelMat).squeeze(),cmap=cm_dark,s=30)\n",
    "\n",
    "x = arange(-2.0, 12.0, 0.1)\n",
    "y = (-w[0]*x - b)/w[1]\n",
    "ax.plot(x,y.reshape(-1,1))\n",
    "ax.axis([-2,12,-8,6])\n",
    "plt.show()"
   ]
  },
  {
   "cell_type": "markdown",
   "metadata": {},
   "source": [
    "### 画支持向量"
   ]
  },
  {
   "cell_type": "code",
   "execution_count": null,
   "metadata": {},
   "outputs": [],
   "source": [
    "fig = plt.figure()\n",
    "ax = fig.add_subplot(111)\n",
    "cm_dark = mpl.colors.ListedColormap(['g', 'r'])\n",
    "ax.scatter(array(dataMat)[:,0],array(dataMat)[:,1],c=array(labelMat).squeeze(),cmap=cm_dark,s=30)\n",
    "\n",
    "x = arange(-2.0, 12.0, 0.1)\n",
    "y = (-w[0]*x - b)/w[1]\n",
    "ax.plot(x,y.reshape(-1,1))\n",
    "ax.axis([-2,12,-8,6])\n",
    "\n",
    "\n",
    "alphas_non_zeros_index = where(alphas>0)\n",
    "for i in alphas_non_zeros_index[0]:\n",
    "    circle = Circle((dataMat[i][0], dataMat[i][1]), 0.2, facecolor='none', edgecolor=(0,0.8,0.8), linewidth=3, alpha=0.5)\n",
    "    ax.add_patch(circle)\n",
    "plt.show()"
   ]
  },
  {
   "cell_type": "code",
   "execution_count": null,
   "metadata": {},
   "outputs": [],
   "source": []
  }
 ],
 "metadata": {
  "kernelspec": {
   "display_name": "Python 3",
   "language": "python",
   "name": "python3"
  },
  "language_info": {
   "codemirror_mode": {
    "name": "ipython",
    "version": 3
   },
   "file_extension": ".py",
   "mimetype": "text/x-python",
   "name": "python",
   "nbconvert_exporter": "python",
   "pygments_lexer": "ipython3",
   "version": "3.6.5"
  }
 },
 "nbformat": 4,
 "nbformat_minor": 2
}
