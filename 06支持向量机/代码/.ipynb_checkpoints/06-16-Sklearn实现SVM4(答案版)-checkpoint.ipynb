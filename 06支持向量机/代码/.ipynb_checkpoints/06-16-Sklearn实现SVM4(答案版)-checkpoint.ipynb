{
 "cells": [
  {
   "cell_type": "code",
   "execution_count": 1,
   "metadata": {},
   "outputs": [],
   "source": [
    "import numpy as np\n",
    "from sklearn.svm import SVC\n",
    "import matplotlib.pyplot as plt\n",
    "import matplotlib as mpl\n",
    "from matplotlib.patches import Circle"
   ]
  },
  {
   "cell_type": "code",
   "execution_count": 2,
   "metadata": {},
   "outputs": [],
   "source": [
    "def loadDataSet(fileName):\n",
    "    dataMat = []; labelMat = []\n",
    "    fr = open(fileName)\n",
    "    for line in fr.readlines():\n",
    "        lineArr = line.strip().split('\\t')\n",
    "        dataMat.append([float(lineArr[0]), float(lineArr[1])])\n",
    "        labelMat.append(float(lineArr[2]))\n",
    "    return dataMat,labelMat\n"
   ]
  },
  {
   "cell_type": "code",
   "execution_count": 3,
   "metadata": {},
   "outputs": [],
   "source": [
    "X,y = loadDataSet('data/svm2.txt')"
   ]
  },
  {
   "cell_type": "code",
   "execution_count": 4,
   "metadata": {},
   "outputs": [
    {
     "name": "stderr",
     "output_type": "stream",
     "text": [
      "C:\\ProgramData\\Anaconda3\\lib\\site-packages\\sklearn\\svm\\base.py:193: FutureWarning: The default value of gamma will change from 'auto' to 'scale' in version 0.22 to account better for unscaled features. Set gamma explicitly to 'auto' or 'scale' to avoid this warning.\n",
      "  \"avoid this warning.\", FutureWarning)\n"
     ]
    }
   ],
   "source": [
    "model = SVC(C=1,kernel='rbf')\n",
    "model.fit(X,y)\n",
    "b=model.intercept_"
   ]
  },
  {
   "cell_type": "code",
   "execution_count": 5,
   "metadata": {},
   "outputs": [
    {
     "name": "stdout",
     "output_type": "stream",
     "text": [
      "各类别各有多少个支持向量 [30 29]\n",
      "各类别的支持向量在训练样本中的索引 [ 0  6 15 17 21 25 27 30 36 41 42 43 46 48 53 58 59 65 76 78 81 82 85 87\n",
      " 88 90 91 92 93 99  3  7  9 13 14 16 18 19 23 26 28 29 33 34 40 45 50 51\n",
      " 52 54 56 60 61 62 71 74 75 80 94]\n",
      "各类所有的支持向量 [[-2.14824e-01  6.62756e-01]\n",
      " [-5.57789e-01  3.75797e-01]\n",
      " [ 4.90767e-01 -6.80029e-01]\n",
      " [-3.56048e-01  5.37960e-01]\n",
      " [-4.75167e-01 -3.46247e-01]\n",
      " [ 4.02158e-01  5.77744e-01]\n",
      " [ 6.19080e-01 -8.81880e-02]\n",
      " [ 5.39368e-01 -3.74972e-01]\n",
      " [-4.03483e-01  4.74466e-01]\n",
      " [-1.29980e-02  5.25985e-01]\n",
      " [ 1.53738e-01  4.91531e-01]\n",
      " [ 3.88215e-01 -6.56567e-01]\n",
      " [ 7.47800e-01 -6.66300e-02]\n",
      " [-7.01600e-01  1.90983e-01]\n",
      " [ 5.95222e-01  2.09570e-01]\n",
      " [-3.07768e-01  5.03038e-01]\n",
      " [-7.77063e-01 -3.48066e-01]\n",
      " [-7.55431e-01  9.67110e-02]\n",
      " [ 3.34204e-01  3.81237e-01]\n",
      " [ 2.27222e-01  5.27437e-01]\n",
      " [ 5.77939e-01  4.03784e-01]\n",
      " [-5.68534e-01  4.42948e-01]\n",
      " [ 2.97885e-01 -6.32874e-01]\n",
      " [ 5.41359e-01 -2.05969e-01]\n",
      " [-6.89946e-01 -5.08674e-01]\n",
      " [ 5.23902e-01 -4.36156e-01]\n",
      " [ 2.49281e-01 -7.11840e-01]\n",
      " [ 1.93449e-01  5.74598e-01]\n",
      " [-2.57542e-01 -7.53885e-01]\n",
      " [-7.25568e-01 -2.92022e-01]\n",
      " [ 2.23650e-01  1.30142e-01]\n",
      " [ 2.07123e-01 -1.94630e-02]\n",
      " [ 1.95300e-01 -1.79039e-01]\n",
      " [-2.38076e-01  5.83000e-04]\n",
      " [-4.13576e-01  1.45681e-01]\n",
      " [ 1.99894e-01 -1.99381e-01]\n",
      " [-3.92868e-01 -1.25261e-01]\n",
      " [ 3.53588e-01 -7.06170e-02]\n",
      " [ 3.94164e-01 -5.82170e-02]\n",
      " [-4.49349e-01 -3.80740e-02]\n",
      " [ 2.68066e-01 -7.16210e-02]\n",
      " [-1.51650e-02  3.59326e-01]\n",
      " [ 7.95220e-02  1.93198e-01]\n",
      " [ 2.53289e-01 -2.85861e-01]\n",
      " [-2.50001e-01  1.41621e-01]\n",
      " [ 6.82860e-02  3.92741e-01]\n",
      " [ 3.53980e-02 -3.33682e-01]\n",
      " [ 2.11795e-01  2.46890e-02]\n",
      " [-4.56770e-02  1.72907e-01]\n",
      " [ 2.29465e-01  2.50409e-01]\n",
      " [ 3.84300e-01 -1.76570e-01]\n",
      " [ 1.73900e-02  1.52441e-01]\n",
      " [-2.93382e-01 -1.39778e-01]\n",
      " [-2.03272e-01  2.86855e-01]\n",
      " [ 2.33512e-01 -1.06274e-01]\n",
      " [-4.48939e-01  1.76725e-01]\n",
      " [ 1.55907e-01 -1.66371e-01]\n",
      " [ 2.04177e-01 -2.35160e-02]\n",
      " [-2.16050e-02  1.58080e-01]]\n",
      "支持向量的值 [[-0.68363496 -1.         -0.88659261 -1.         -1.         -1.\n",
      "  -1.         -1.         -1.         -1.         -1.         -1.\n",
      "  -1.         -1.         -1.         -1.         -0.02627122 -1.\n",
      "  -1.         -1.         -1.         -1.         -1.         -1.\n",
      "  -1.         -1.         -1.         -1.         -1.         -1.\n",
      "   1.          1.          1.          1.          1.          1.\n",
      "   1.          1.          1.          1.          1.          1.\n",
      "   1.          1.          1.          1.          1.          1.\n",
      "   1.          1.          1.          1.          1.          1.\n",
      "   1.          1.          0.5964988   1.          1.        ]]\n"
     ]
    }
   ],
   "source": [
    "print('各类别各有多少个支持向量',model.n_support_)\n",
    "print('各类别的支持向量在训练样本中的索引',model.support_)\n",
    "print('各类所有的支持向量',model.support_vectors_)\n",
    "print('支持向量的值',model.dual_coef_)"
   ]
  },
  {
   "cell_type": "code",
   "execution_count": 6,
   "metadata": {},
   "outputs": [
    {
     "data": {
      "image/png": "[encoded data removed]",
      "text/plain": [
       "<Figure size 432x288 with 1 Axes>"
      ]
     },
     "metadata": {},
     "output_type": "display_data"
    }
   ],
   "source": [
    "#画图\n",
    "fig = plt.figure()\n",
    "ax = fig.add_subplot(111)\n",
    "cm_dark = mpl.colors.ListedColormap(['b', 'r'])\n",
    "ax.scatter(np.array(X)[:,0],np.array(X)[:,1],c=np.array(y).squeeze(),cmap=cm_dark,s=30)\n",
    "\n",
    "#画决策边界\n",
    "h = .02\n",
    "x_min, x_max = np.array(X)[:, 0].min() - .5, np.array(X)[:, 0].max() + .5\n",
    "y_min, y_max = np.array(X)[:, 1].min() - .5, np.array(X)[:, 1].max() + .5\n",
    "xx, yy = np.meshgrid(np.arange(x_min, x_max, h), np.arange(y_min, y_max, h))\n",
    "\n",
    "z = model.predict(np.c_[xx.ravel(), yy.ravel()])\n",
    "z = z.reshape(xx.shape)\n",
    "\n",
    "plt.pcolormesh(xx, yy, z, cmap=plt.cm.Paired)\n",
    "\n",
    "#画支持向量\n",
    "alphas_non_zeros_index = model.support_\n",
    "for i in alphas_non_zeros_index:\n",
    "    circle = Circle((X[i][0], X[i][1]), 0.02, facecolor='none', edgecolor=(0,0.8,0.8), linewidth=3, alpha=0.5)\n",
    "    ax.add_patch(circle)\n",
    "plt.show()"
   ]
  },
  {
   "cell_type": "code",
   "execution_count": null,
   "metadata": {},
   "outputs": [],
   "source": []
  }
 ],
 "metadata": {
  "kernelspec": {
   "display_name": "Python 3",
   "language": "python",
   "name": "python3"
  },
  "language_info": {
   "codemirror_mode": {
    "name": "ipython",
    "version": 3
   },
   "file_extension": ".py",
   "mimetype": "text/x-python",
   "name": "python",
   "nbconvert_exporter": "python",
   "pygments_lexer": "ipython3",
   "version": "3.6.5"
  }
 },
 "nbformat": 4,
 "nbformat_minor": 2
}
