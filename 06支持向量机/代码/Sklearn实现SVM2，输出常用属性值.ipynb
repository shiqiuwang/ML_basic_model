{
 "cells": [
  {
   "cell_type": "code",
   "execution_count": 1,
   "metadata": {},
   "outputs": [],
   "source": [
    "import numpy as np\n",
    "from sklearn.svm import SVC\n",
    "import matplotlib.pyplot as plt\n",
    "import matplotlib as mpl\n",
    "from matplotlib.patches import Circle"
   ]
  },
  {
   "cell_type": "code",
   "execution_count": 2,
   "metadata": {},
   "outputs": [],
   "source": [
    "def loadDataSet(fileName):\n",
    "    dataMat = []; labelMat = []\n",
    "    fr = open(fileName)\n",
    "    for line in fr.readlines():\n",
    "        lineArr = line.strip().split('\\t')\n",
    "        dataMat.append([float(lineArr[0]), float(lineArr[1])])\n",
    "        labelMat.append(float(lineArr[2]))\n",
    "    return dataMat,labelMat"
   ]
  },
  {
   "cell_type": "code",
   "execution_count": 3,
   "metadata": {},
   "outputs": [],
   "source": [
    "X,y = loadDataSet('data/svm1.txt')"
   ]
  },
  {
   "cell_type": "code",
   "execution_count": 4,
   "metadata": {},
   "outputs": [],
   "source": [
    "model = SVC(C=1,kernel='linear')\n",
    "model.fit(X,y)\n",
    "b=model.intercept_\n",
    "w = model.coef_"
   ]
  },
  {
   "cell_type": "code",
   "execution_count": 5,
   "metadata": {},
   "outputs": [
    {
     "name": "stdout",
     "output_type": "stream",
     "text": [
      "[1.]\n"
     ]
    }
   ],
   "source": [
    "print(model.predict(np.array([[7.886242,0.191813]])))"
   ]
  },
  {
   "cell_type": "code",
   "execution_count": 6,
   "metadata": {},
   "outputs": [
    {
     "name": "stdout",
     "output_type": "stream",
     "text": [
      "b= [-3.83775658]\n",
      "w= [[ 0.81444269 -0.27274371]]\n",
      "各类别各有多少个支持向量 [2 1]\n",
      "各类别的支持向量在训练样本中的索引 [17 29 55]\n",
      "各类所有的支持向量 [[ 4.658191  3.507396]\n",
      " [ 3.457096 -0.082216]\n",
      " [ 6.080573  0.418886]]\n",
      "支持向量的alpha值 [[-0.12746518 -0.24133564  0.36880082]]\n"
     ]
    }
   ],
   "source": [
    "print('b=',b)\n",
    "print('w=',w)\n",
    "print('各类别各有多少个支持向量',model.n_support_)\n",
    "print('各类别的支持向量在训练样本中的索引',model.support_)\n",
    "print('各类所有的支持向量',model.support_vectors_)\n",
    "print('支持向量的alpha值',model.dual_coef_)"
   ]
  },
  {
   "cell_type": "code",
   "execution_count": 7,
   "metadata": {},
   "outputs": [
    {
     "data": {
      "image/png": "[encoded data removed]",
      "text/plain": [
       "<Figure size 432x288 with 1 Axes>"
      ]
     },
     "metadata": {
      "needs_background": "light"
     },
     "output_type": "display_data"
    }
   ],
   "source": [
    "#画图\n",
    "fig = plt.figure()\n",
    "ax = fig.add_subplot(111)\n",
    "cm_dark = mpl.colors.ListedColormap(['g', 'r'])\n",
    "ax.scatter(np.array(X)[:,0],np.array(X)[:,1],c=np.array(y).squeeze(),cmap=cm_dark,s=30)\n",
    "\n",
    "x1 = np.arange(-2.0, 12.0, 0.1)\n",
    "x2 = (-w[0][0]*x1 - b)/w[0][1]\n",
    "ax.plot(x1,x2.reshape(-1,1))\n",
    "ax.axis([-2,12,-8,6])\n",
    "\n",
    "#画支持向量\n",
    "alphas_non_zeros_index = model.support_\n",
    "for i in alphas_non_zeros_index:\n",
    "    circle = Circle((X[i][0], X[i][1]), 0.2, facecolor='none', edgecolor=(0,0.8,0.8), linewidth=3, alpha=0.5)\n",
    "    ax.add_patch(circle)\n",
    "plt.show()"
   ]
  },
  {
   "cell_type": "code",
   "execution_count": null,
   "metadata": {},
   "outputs": [],
   "source": []
  },
  {
   "cell_type": "code",
   "execution_count": null,
   "metadata": {},
   "outputs": [],
   "source": []
  },
  {
   "cell_type": "code",
   "execution_count": null,
   "metadata": {},
   "outputs": [],
   "source": []
  }
 ],
 "metadata": {
  "kernelspec": {
   "display_name": "Python 3",
   "language": "python",
   "name": "python3"
  },
  "language_info": {
   "codemirror_mode": {
    "name": "ipython",
    "version": 3
   },
   "file_extension": ".py",
   "mimetype": "text/x-python",
   "name": "python",
   "nbconvert_exporter": "python",
   "pygments_lexer": "ipython3",
   "version": "3.7.4"
  }
 },
 "nbformat": 4,
 "nbformat_minor": 2
}
