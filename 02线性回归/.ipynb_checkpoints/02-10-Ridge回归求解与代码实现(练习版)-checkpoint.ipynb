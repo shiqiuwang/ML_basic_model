{
 "cells": [
  {
   "cell_type": "markdown",
   "metadata": {},
   "source": [
    "## 线性回归代码实现"
   ]
  },
  {
   "cell_type": "code",
   "execution_count": 1,
   "metadata": {},
   "outputs": [],
   "source": [
    "import numpy as np\n",
    "import matplotlib.pyplot as plt"
   ]
  },
  {
   "cell_type": "markdown",
   "metadata": {},
   "source": [
    "##### 定义一个加载数据的函数"
   ]
  },
  {
   "cell_type": "code",
   "execution_count": 3,
   "metadata": {},
   "outputs": [],
   "source": [
    "def loaddata():\n",
    "    data = np.loadtxt('data/data1.txt',delimiter=',')\n",
    "    n = data.shape[1]-1 #特征数\n",
    "    X = data[:,0:n]\n",
    "    y = data[:,-1].reshape(-1,1)\n",
    "    return X,y"
   ]
  },
  {
   "cell_type": "markdown",
   "metadata": {},
   "source": [
    "##### 特征归一化\n",
    "归一化有很多种方式，我们这里采取的方式是：对每一个特征，这列中的每个数据分别减去这列的均值，然后再除以这列的方差"
   ]
  },
  {
   "cell_type": "code",
   "execution_count": 4,
   "metadata": {},
   "outputs": [],
   "source": [
    "def featureNormalize(X):\n",
    "    mu = np.average(X,axis=0)\n",
    "    sigma =np.std(X,axis=0,ddof=1)\n",
    "    X = (X-mu)/sigma\n",
    "    return X,mu,sigma"
   ]
  },
  {
   "cell_type": "markdown",
   "metadata": {},
   "source": [
    "##### 计算损失函数\n",
    "<img src=\"images/02.png\" width=\"300\" align=\"left\"/>\n",
    "<p>\n",
    "<img src=\"images/03.png\" width=\"300\" align=\"left\"/>"
   ]
  },
  {
   "cell_type": "code",
   "execution_count": 5,
   "metadata": {},
   "outputs": [],
   "source": [
    "def computeCost(X,y,theta):\n",
    "    m = X.shape[0]\n",
    "    return np.sum(np.power(np.dot(X,theta)-y,2))/(2*m)"
   ]
  },
  {
   "cell_type": "markdown",
   "metadata": {},
   "source": [
    "#### 梯度下降法求解\n",
    "<img src=\"images/01.png\" width=\"300\" align=\"left\"/>"
   ]
  },
  {
   "cell_type": "code",
   "execution_count": 6,
   "metadata": {},
   "outputs": [],
   "source": [
    "def gradientDescent(X,y,theta,iterations,alpha):\n",
    "    c = np.ones(X.shape[0]).transpose()\n",
    "    X = np.insert(X,0,values=c,axis=1)#对原始数据加入一个全为1的列\n",
    "    m = X.shape[0]\n",
    "    n = X.shape[1]\n",
    "    costs = np.zeros(iterations)\n",
    "    for num in range(iterations):\n",
    "        for j in range(n):\n",
    "            theta[j] = theta[j]+(alpha/m)*np.sum(y-np.dot(X,theta)*X[:,j].reshape(-1,1))\n",
    "        costs[num] = computeCost(X,y,theta)\n",
    "    return theta,costs"
   ]
  },
  {
   "cell_type": "markdown",
   "metadata": {},
   "source": [
    "##### 带有L2正则化的线性回归求解（Ridge Regression）\n",
    "<img src=\"images/07.png\" width=\"300\" align=\"left\"/>"
   ]
  },
  {
   "cell_type": "code",
   "execution_count": 8,
   "metadata": {},
   "outputs": [],
   "source": [
    "def gradientDescent_ridge(X,y,theta,iterations,alpha,lamda=0.02):\n",
    "    c = np.ones(X.shape[0]).transpose()\n",
    "    X = np.insert(X,0,values=c,axis=1)#对原始数据加入一个全为1的列\n",
    "    m = X.shape[0]\n",
    "    n = X.shape[1]\n",
    "    costs = np.zeros(iterations)\n",
    "    for num in range(iterations):\n",
    "        for j in range(n):\n",
    "            theta[j] = theta[j]+(alpha/m)*np.sum((y-np.dot(X,theta))*X[:,j].reshape(-1,1))-2*lamda*theta[j]\n",
    "        costs[num] = computeCost(X,y,theta)\n",
    "    return theta,costs"
   ]
  },
  {
   "cell_type": "code",
   "execution_count": 9,
   "metadata": {},
   "outputs": [],
   "source": [
    "##### 预测函数"
   ]
  },
  {
   "cell_type": "code",
   "execution_count": 10,
   "metadata": {},
   "outputs": [],
   "source": [
    "def predict(X):\n",
    "    X = (X-mu)/sigma\n",
    "    c = np.ones(X.shape[0]).transpose()\n",
    "    X = np.insert(X, 0, values=c, axis=1)\n",
    "    return np.dot(X,theta)"
   ]
  },
  {
   "cell_type": "code",
   "execution_count": 11,
   "metadata": {},
   "outputs": [],
   "source": [
    "X_orgin,y = loaddata()\n",
    "X,mu,sigma = featureNormalize(X_orgin)\n",
    "theta = np.zeros(X.shape[1]+1).reshape(-1,1)\n",
    "iterations = 400\n",
    "alpha = 0.01"
   ]
  },
  {
   "cell_type": "markdown",
   "metadata": {},
   "source": [
    "##### 调用gradientDescent_ridge实现L2正则化"
   ]
  },
  {
   "cell_type": "code",
   "execution_count": 20,
   "metadata": {},
   "outputs": [],
   "source": [
    "theta,costs = gradientDescent_ridge(X,y,theta,iterations,alpha,0.001)"
   ]
  },
  {
   "cell_type": "markdown",
   "metadata": {},
   "source": [
    "##### 画损失函数图"
   ]
  },
  {
   "cell_type": "code",
   "execution_count": 21,
   "metadata": {},
   "outputs": [
    {
     "data": {
      "text/plain": [
       "[<matplotlib.lines.Line2D at 0x171cbed2488>]"
      ]
     },
     "execution_count": 21,
     "metadata": {},
     "output_type": "execute_result"
    },
    {
     "data": {
      "image/png": "[encoded data removed]",
      "text/plain": [
       "<Figure size 432x288 with 1 Axes>"
      ]
     },
     "metadata": {
      "needs_background": "light"
     },
     "output_type": "display_data"
    }
   ],
   "source": [
    "x_axis = np.linspace(1,iterations,iterations)\n",
    "plt.plot(x_axis,costs[0:iterations])"
   ]
  },
  {
   "cell_type": "markdown",
   "metadata": {},
   "source": [
    "##### 画数据散点图和求得的直线"
   ]
  },
  {
   "cell_type": "code",
   "execution_count": 22,
   "metadata": {},
   "outputs": [
    {
     "data": {
      "text/plain": [
       "[<matplotlib.lines.Line2D at 0x171cbf16608>]"
      ]
     },
     "execution_count": 22,
     "metadata": {},
     "output_type": "execute_result"
    },
    {
     "data": {
      "image/png": "[encoded data removed]",
      "text/plain": [
       "<Figure size 432x288 with 1 Axes>"
      ]
     },
     "metadata": {
      "needs_background": "light"
     },
     "output_type": "display_data"
    }
   ],
   "source": [
    "plt.scatter(X,y)\n",
    "h_theta = theta[0]+theta[1]*X\n",
    "plt.plot(X,h_theta)"
   ]
  },
  {
   "cell_type": "markdown",
   "metadata": {},
   "source": [
    "##### 预测数据"
   ]
  },
  {
   "cell_type": "code",
   "execution_count": 23,
   "metadata": {},
   "outputs": [
    {
     "name": "stdout",
     "output_type": "stream",
     "text": [
      "[[2.24685777]]\n"
     ]
    }
   ],
   "source": [
    "print(predict([[5.5277]]))"
   ]
  },
  {
   "cell_type": "code",
   "execution_count": null,
   "metadata": {},
   "outputs": [],
   "source": []
  },
  {
   "cell_type": "code",
   "execution_count": null,
   "metadata": {},
   "outputs": [],
   "source": []
  }
 ],
 "metadata": {
  "kernelspec": {
   "display_name": "Python 3",
   "language": "python",
   "name": "python3"
  },
  "language_info": {
   "codemirror_mode": {
    "name": "ipython",
    "version": 3
   },
   "file_extension": ".py",
   "mimetype": "text/x-python",
   "name": "python",
   "nbconvert_exporter": "python",
   "pygments_lexer": "ipython3",
   "version": "3.7.4"
  }
 },
 "nbformat": 4,
 "nbformat_minor": 2
}
